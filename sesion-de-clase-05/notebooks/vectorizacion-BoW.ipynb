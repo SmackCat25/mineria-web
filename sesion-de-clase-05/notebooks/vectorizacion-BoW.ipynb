{
 "cells": [
  {
   "cell_type": "code",
   "id": "initial_id",
   "metadata": {
    "collapsed": true,
    "ExecuteTime": {
     "end_time": "2025-09-23T16:29:27.210545Z",
     "start_time": "2025-09-23T16:29:26.813077Z"
    }
   },
   "source": [
    "import spacy\n",
    "import pandas as pd\n",
    "from sklearn.feature_extraction.text import CountVectorizer\n",
    "import matplotlib.pyplot as plt\n",
    "import numpy as np\n",
    "\n",
    "df = pd.read_csv(\"../data/comentarios.csv\")\n",
    "\n",
    "# Usamos solo la columna de comentarios\n",
    "comentarios = df[\"texto_comentario\"].values\n",
    "print(\"Ejemplos de comentarios:\\n\", comentarios[:3])"
   ],
   "outputs": [
    {
     "name": "stdout",
     "output_type": "stream",
     "text": [
      "Ejemplos de comentarios:\n",
      " ['Excelente teléfono, la cámara es increíble y la batería dura todo el día.'\n",
      " 'Buena calidad de la tela, un poco ajustada pero muy cómoda.'\n",
      " 'La laptop es rapidísima y muy ligera, la recomiendo mucho.']\n"
     ]
    }
   ],
   "execution_count": 7
  },
  {
   "metadata": {
    "ExecuteTime": {
     "end_time": "2025-09-23T16:32:30.585052Z",
     "start_time": "2025-09-23T16:32:28.709613Z"
    }
   },
   "cell_type": "code",
   "source": "!python -m spacy download es_core_news_sm",
   "id": "22403f12ff33cc06",
   "outputs": [
    {
     "name": "stdout",
     "output_type": "stream",
     "text": [
      "Collecting es-core-news-sm==3.8.0\r\n",
      "  Downloading https://github.com/explosion/spacy-models/releases/download/es_core_news_sm-3.8.0/es_core_news_sm-3.8.0-py3-none-any.whl (12.9 MB)\r\n",
      "\u001B[2K     \u001B[90m━━━━━━━━━━━━━━━━━━━━━━━━━━━━━━━━━━━━━━━━\u001B[0m \u001B[32m12.9/12.9 MB\u001B[0m \u001B[31m61.1 MB/s\u001B[0m eta \u001B[36m0:00:00\u001B[0m00:01\u001B[0m\r\n",
      "\u001B[?25hInstalling collected packages: es-core-news-sm\r\n",
      "Successfully installed es-core-news-sm-3.8.0\r\n",
      "\r\n",
      "\u001B[1m[\u001B[0m\u001B[34;49mnotice\u001B[0m\u001B[1;39;49m]\u001B[0m\u001B[39;49m A new release of pip is available: \u001B[0m\u001B[31;49m24.3.1\u001B[0m\u001B[39;49m -> \u001B[0m\u001B[32;49m25.2\u001B[0m\r\n",
      "\u001B[1m[\u001B[0m\u001B[34;49mnotice\u001B[0m\u001B[1;39;49m]\u001B[0m\u001B[39;49m To update, run: \u001B[0m\u001B[32;49mpip install --upgrade pip\u001B[0m\r\n",
      "\u001B[38;5;2m✔ Download and installation successful\u001B[0m\r\n",
      "You can now load the package via spacy.load('es_core_news_sm')\r\n"
     ]
    }
   ],
   "execution_count": 9
  },
  {
   "metadata": {
    "ExecuteTime": {
     "end_time": "2025-09-23T16:32:34.842776Z",
     "start_time": "2025-09-23T16:32:34.348593Z"
    }
   },
   "cell_type": "code",
   "source": [
    "nlp = spacy.load(\"es_core_news_sm\")\n",
    "def preprocesar(texto):\n",
    "    doc = nlp(texto.lower())\n",
    "    tokens = [\n",
    "        token.lemma_\n",
    "        for token in doc\n",
    "        if not token.is_stop and token.is_alpha\n",
    "    ]\n",
    "    return \" \".join(tokens)\n",
    "\n",
    "comentarios_pre = [preprocesar(c) for c in comentarios]\n",
    "\n",
    "vectorizer = CountVectorizer()\n",
    "\n",
    "X = vectorizer.fit_transform(comentarios_pre)\n",
    "\n",
    "print(\"Shape:\", X.shape)  # (n_comentarios, vocabulario)\n",
    "print(\"Matriz dispersa (primeros 3 comentarios):\\n\", X.toarray()[:3])\n",
    "\n",
    "print(\"\\nVocabulario:\", vectorizer.get_feature_names_out())"
   ],
   "id": "d11347798899b542",
   "outputs": [
    {
     "name": "stdout",
     "output_type": "stream",
     "text": [
      "Shape: (100, 202)\n",
      "Matriz dispersa (primeros 3 comentarios):\n",
      " [[0 0 0 0 0 0 0 0 0 0 0 0 0 0 0 1 0 0 0 0 0 0 0 0 0 0 0 0 0 0 0 0 0 0 0 0\n",
      "  0 0 0 0 0 0 0 1 0 0 0 0 0 0 0 0 0 0 0 0 0 0 0 0 1 0 0 0 0 0 0 0 0 0 0 0\n",
      "  0 0 0 0 1 0 0 0 0 0 0 0 0 0 0 0 0 0 0 0 0 0 0 0 0 0 1 0 0 0 0 0 0 0 0 0\n",
      "  0 0 0 0 0 0 0 0 0 0 0 0 0 0 0 0 0 0 0 0 0 0 0 0 0 0 0 0 0 0 0 0 0 0 0 0\n",
      "  0 0 0 0 0 0 0 0 0 0 0 0 0 0 0 0 0 0 0 0 0 0 0 0 0 0 0 0 0 0 0 0 0 0 0 0\n",
      "  0 0 0 1 0 0 0 0 0 0 0 0 0 0 0 0 0 0 0 0 0 0]\n",
      " [0 0 0 0 1 0 0 0 0 0 0 0 0 0 0 0 0 0 0 0 0 1 0 0 0 0 0 0 0 0 0 0 0 0 0 0\n",
      "  0 0 0 0 0 0 0 0 0 1 0 0 0 0 0 0 0 0 0 0 0 0 0 0 0 0 0 0 0 0 0 0 0 0 0 0\n",
      "  0 0 0 0 0 0 0 0 0 0 0 0 0 0 0 0 0 0 0 0 0 0 0 0 0 0 0 0 0 0 0 0 0 0 0 0\n",
      "  0 0 0 0 0 0 0 0 0 0 0 0 0 0 0 0 0 0 0 0 0 0 0 0 0 0 0 0 0 0 0 0 0 0 0 0\n",
      "  0 0 0 0 0 0 0 0 0 0 0 0 0 0 0 0 0 0 0 0 0 0 0 0 0 0 0 0 0 0 0 0 0 0 0 0\n",
      "  0 0 1 0 0 0 0 0 0 0 0 0 0 0 0 0 0 0 0 0 0 0]\n",
      " [0 0 0 0 0 0 0 0 0 0 0 0 0 0 0 0 0 0 0 0 0 0 0 0 0 0 0 0 0 0 0 0 0 0 0 0\n",
      "  0 0 0 0 0 0 0 0 0 0 0 0 0 0 0 0 0 0 0 0 0 0 0 0 0 0 0 0 0 0 0 0 0 0 0 0\n",
      "  0 0 0 0 0 0 0 0 0 0 0 0 0 0 0 0 0 0 0 0 0 0 0 0 0 0 0 0 0 0 0 0 0 0 0 1\n",
      "  0 0 0 0 0 0 1 0 0 0 0 0 0 0 0 0 0 0 0 0 0 0 0 0 0 0 0 0 0 0 0 0 0 0 0 0\n",
      "  0 0 0 0 0 0 0 0 0 0 0 0 0 1 0 1 0 0 0 0 0 0 0 0 0 0 0 0 0 0 0 0 0 0 0 0\n",
      "  0 0 0 0 0 0 0 0 0 0 0 0 0 0 0 0 0 0 0 0 0 0]]\n",
      "\n",
      "Vocabulario: ['acción' 'agarre' 'agotar' 'agua' 'ajustado' 'alto' 'amigo' 'aplicación'\n",
      " 'arrepientir' 'asombroso' 'atractivo' 'auricular' 'año' 'bajo' 'balón'\n",
      " 'batería' 'bestia' 'bonito' 'básico' 'caber' 'calentar' 'calidad'\n",
      " 'calzado' 'caminar' 'camiseta' 'cancelación' 'cierre' 'cocinar'\n",
      " 'comodidad' 'compra' 'comprar' 'compraría' 'conexión' 'confuso'\n",
      " 'contentar' 'contento' 'control' 'controlar' 'convencer' 'corto' 'costar'\n",
      " 'costura' 'cumplir' 'cámara' 'cómodas' 'cómodo' 'decepcionar' 'dejar'\n",
      " 'delgado' 'deporte' 'desarrollo' 'desconectar' 'desgastar' 'devolver'\n",
      " 'diario' 'diseño' 'dudar' 'durabilidad' 'duradero' 'durar' 'duro'\n",
      " 'ejercicio' 'elegant' 'elegante' 'encantar' 'encoger' 'enganchar'\n",
      " 'entrenamiento' 'entretenido' 'escritura' 'escuchar' 'espacio' 'espaciós'\n",
      " 'esperar' 'estilo' 'estético' 'excelente' 'expectativa' 'fascinado'\n",
      " 'fascinante' 'feliz' 'fidelidad' 'fluido' 'foto' 'fresco' 'funcional'\n",
      " 'funcionar' 'función' 'fácil' 'genial' 'gimnasio' 'grabar' 'grar'\n",
      " 'gustar' 'historia' 'ideal' 'impecable' 'impresionante' 'increíble'\n",
      " 'increíblemente' 'inestable' 'insuperabl' 'integrado' 'interesante'\n",
      " 'inversión' 'juego' 'jugar' 'laptop' 'largo' 'lavada' 'lectura' 'leer'\n",
      " 'lento' 'libro' 'ligero' 'limpiar' 'llegar' 'luz' 'maravilla' 'material'\n",
      " 'mejor' 'micrófono' 'minimalista' 'mochila' 'mochilo' 'monstruo' 'máximo'\n",
      " 'móvil' 'música' 'navegar' 'necesario' 'necesitar' 'novela' 'nítido'\n",
      " 'oficina' 'olla' 'pantalla' 'par' 'parque' 'partido' 'pasar' 'pegar'\n",
      " 'pena' 'pensado' 'perfectamente' 'perfecto' 'pesado' 'poder' 'potente'\n",
      " 'precio' 'predecible' 'problema' 'producto' 'prolongado' 'prometer'\n",
      " 'práctico' 'quedar' 'rapidísimo' 'rato' 'recomeir' 'recomendado'\n",
      " 'regular' 'rendimiento' 'rendir' 'resistente' 'retener' 'ritmo' 'ruido'\n",
      " 'rápido' 'rígido' 'sentir' 'set' 'simplemente' 'sonar' 'sonido' 'sudor'\n",
      " 'suela' 'superar' 'superior' 'súper' 'tamaño' 'tapa' 'tela' 'teléfono'\n",
      " 'tener' 'terminar' 'textura' 'tiempo' 'top' 'trabajar' 'trabajo' 'trama'\n",
      " 'tramo' 'universidad' 'valer' 'ver' 'viajar' 'viaje' 'vida' 'zapatilla'\n",
      " 'él' 'útil']\n"
     ]
    }
   ],
   "execution_count": 10
  },
  {
   "metadata": {
    "ExecuteTime": {
     "end_time": "2025-09-23T16:32:47.698732Z",
     "start_time": "2025-09-23T16:32:47.660401Z"
    }
   },
   "cell_type": "code",
   "source": [
    "word_counts = np.asarray(X.sum(axis=0)).ravel()\n",
    "vocab = vectorizer.get_feature_names_out()\n",
    "\n",
    "# Ordenar por frecuencia\n",
    "sorted_idx = word_counts.argsort()[::-1]\n",
    "top_words = vocab[sorted_idx][:10]\n",
    "top_counts = word_counts[sorted_idx][:10]\n",
    "\n",
    "plt.figure(figsize=(8,4))\n",
    "plt.bar(top_words, top_counts, color=\"skyblue\")\n",
    "plt.title(\"Palabras más frecuentes (Bag of Words)\")\n",
    "plt.xticks(rotation=45)\n",
    "plt.show()"
   ],
   "id": "ed31878469d42d04",
   "outputs": [
    {
     "data": {
      "text/plain": [
       "<Figure size 800x400 with 1 Axes>"
      ],
      "image/png": "[encoded data removed]"
     },
     "metadata": {},
     "output_type": "display_data",
     "jetTransient": {
      "display_id": null
     }
    }
   ],
   "execution_count": 11
  }
 ],
 "metadata": {
  "kernelspec": {
   "display_name": "Python 3",
   "language": "python",
   "name": "python3"
  },
  "language_info": {
   "codemirror_mode": {
    "name": "ipython",
    "version": 2
   },
   "file_extension": ".py",
   "mimetype": "text/x-python",
   "name": "python",
   "nbconvert_exporter": "python",
   "pygments_lexer": "ipython2",
   "version": "2.7.6"
  }
 },
 "nbformat": 4,
 "nbformat_minor": 5
}
