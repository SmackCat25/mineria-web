{
 "cells": [
  {
   "metadata": {
    "ExecuteTime": {
     "end_time": "2025-09-23T16:40:22.576514Z",
     "start_time": "2025-09-23T16:40:20.593896Z"
    }
   },
   "cell_type": "code",
   "source": "!python -m spacy download es_core_news_sm",
   "id": "4a8e9f8bcfab1c87",
   "outputs": [
    {
     "name": "stdout",
     "output_type": "stream",
     "text": [
      "Collecting es-core-news-sm==3.8.0\r\n",
      "  Downloading https://github.com/explosion/spacy-models/releases/download/es_core_news_sm-3.8.0/es_core_news_sm-3.8.0-py3-none-any.whl (12.9 MB)\r\n",
      "\u001B[2K     \u001B[90m━━━━━━━━━━━━━━━━━━━━━━━━━━━━━━━━━━━━━━━━\u001B[0m \u001B[32m12.9/12.9 MB\u001B[0m \u001B[31m30.4 MB/s\u001B[0m eta \u001B[36m0:00:00\u001B[0m \u001B[36m0:00:01\u001B[0m\r\n",
      "\u001B[?25h\r\n",
      "\u001B[1m[\u001B[0m\u001B[34;49mnotice\u001B[0m\u001B[1;39;49m]\u001B[0m\u001B[39;49m A new release of pip is available: \u001B[0m\u001B[31;49m24.3.1\u001B[0m\u001B[39;49m -> \u001B[0m\u001B[32;49m25.2\u001B[0m\r\n",
      "\u001B[1m[\u001B[0m\u001B[34;49mnotice\u001B[0m\u001B[1;39;49m]\u001B[0m\u001B[39;49m To update, run: \u001B[0m\u001B[32;49mpip install --upgrade pip\u001B[0m\r\n",
      "\u001B[38;5;2m✔ Download and installation successful\u001B[0m\r\n",
      "You can now load the package via spacy.load('es_core_news_sm')\r\n"
     ]
    }
   ],
   "execution_count": 1
  },
  {
   "cell_type": "code",
   "id": "initial_id",
   "metadata": {
    "collapsed": true,
    "ExecuteTime": {
     "end_time": "2025-09-23T16:40:26.123164Z",
     "start_time": "2025-09-23T16:40:25.470164Z"
    }
   },
   "source": [
    "import pandas as pd\n",
    "import spacy\n",
    "from sklearn.feature_extraction.text import TfidfVectorizer\n",
    "\n",
    "nlp = spacy.load(\"es_core_news_sm\")"
   ],
   "outputs": [],
   "execution_count": 2
  },
  {
   "metadata": {
    "ExecuteTime": {
     "end_time": "2025-09-23T16:41:11.836853Z",
     "start_time": "2025-09-23T16:41:11.563890Z"
    }
   },
   "cell_type": "code",
   "source": [
    "def preprocesar(texto: str) -> str:\n",
    "    doc = nlp(texto.lower())\n",
    "    tokens_limpios = [\n",
    "        token.lemma_\n",
    "        for token in doc\n",
    "        if not token.is_stop and token.is_alpha\n",
    "    ]\n",
    "    return \" \".join(tokens_limpios)\n",
    "\n",
    "df = pd.read_csv(\"../data/comentarios.csv\")\n",
    "\n",
    "df[\"comentario_procesado\"] = df[\"texto_comentario\"].apply(preprocesar)\n",
    "\n",
    "# Vectorización con TF-IDF\n",
    "vectorizer = TfidfVectorizer()\n",
    "X_tfidf = vectorizer.fit_transform(df[\"comentario_procesado\"])"
   ],
   "id": "7b618691b933a347",
   "outputs": [],
   "execution_count": 4
  },
  {
   "metadata": {
    "ExecuteTime": {
     "end_time": "2025-09-23T16:41:22.931569Z",
     "start_time": "2025-09-23T16:41:22.920960Z"
    }
   },
   "cell_type": "code",
   "source": [
    "print(\"Vocabulario:\", vectorizer.get_feature_names_out())\n",
    "print(\"\\nMatriz TF-IDF (shape):\", X_tfidf.shape)\n",
    "\n",
    "# Mostrar como DataFrame\n",
    "tfidf_df = pd.DataFrame(\n",
    "    X_tfidf.toarray(),\n",
    "    columns=vectorizer.get_feature_names_out()\n",
    ")\n",
    "print(\"\\nMatriz TF-IDF:\\n\", tfidf_df)"
   ],
   "id": "e1ab63ea59faed63",
   "outputs": [
    {
     "name": "stdout",
     "output_type": "stream",
     "text": [
      "Vocabulario: ['acción' 'agarre' 'agotar' 'agua' 'ajustado' 'alto' 'amigo' 'aplicación'\n",
      " 'arrepientir' 'asombroso' 'atractivo' 'auricular' 'año' 'bajo' 'balón'\n",
      " 'batería' 'bestia' 'bonito' 'básico' 'caber' 'calentar' 'calidad'\n",
      " 'calzado' 'caminar' 'camiseta' 'cancelación' 'cierre' 'cocinar'\n",
      " 'comodidad' 'compra' 'comprar' 'compraría' 'conexión' 'confuso'\n",
      " 'contentar' 'contento' 'control' 'controlar' 'convencer' 'corto' 'costar'\n",
      " 'costura' 'cumplir' 'cámara' 'cómodas' 'cómodo' 'decepcionar' 'dejar'\n",
      " 'delgado' 'deporte' 'desarrollo' 'desconectar' 'desgastar' 'devolver'\n",
      " 'diario' 'diseño' 'dudar' 'durabilidad' 'duradero' 'durar' 'duro'\n",
      " 'ejercicio' 'elegant' 'elegante' 'encantar' 'encoger' 'enganchar'\n",
      " 'entrenamiento' 'entretenido' 'escritura' 'escuchar' 'espacio' 'espaciós'\n",
      " 'esperar' 'estilo' 'estético' 'excelente' 'expectativa' 'fascinado'\n",
      " 'fascinante' 'feliz' 'fidelidad' 'fluido' 'foto' 'fresco' 'funcional'\n",
      " 'funcionar' 'función' 'fácil' 'genial' 'gimnasio' 'grabar' 'grar'\n",
      " 'gustar' 'historia' 'ideal' 'impecable' 'impresionante' 'increíble'\n",
      " 'increíblemente' 'inestable' 'insuperabl' 'integrado' 'interesante'\n",
      " 'inversión' 'juego' 'jugar' 'laptop' 'largo' 'lavada' 'lectura' 'leer'\n",
      " 'lento' 'libro' 'ligero' 'limpiar' 'llegar' 'luz' 'maravilla' 'material'\n",
      " 'mejor' 'micrófono' 'minimalista' 'mochila' 'mochilo' 'monstruo' 'máximo'\n",
      " 'móvil' 'música' 'navegar' 'necesario' 'necesitar' 'novela' 'nítido'\n",
      " 'oficina' 'olla' 'pantalla' 'par' 'parque' 'partido' 'pasar' 'pegar'\n",
      " 'pena' 'pensado' 'perfectamente' 'perfecto' 'pesado' 'poder' 'potente'\n",
      " 'precio' 'predecible' 'problema' 'producto' 'prolongado' 'prometer'\n",
      " 'práctico' 'quedar' 'rapidísimo' 'rato' 'recomeir' 'recomendado'\n",
      " 'regular' 'rendimiento' 'rendir' 'resistente' 'retener' 'ritmo' 'ruido'\n",
      " 'rápido' 'rígido' 'sentir' 'set' 'simplemente' 'sonar' 'sonido' 'sudor'\n",
      " 'suela' 'superar' 'superior' 'súper' 'tamaño' 'tapa' 'tela' 'teléfono'\n",
      " 'tener' 'terminar' 'textura' 'tiempo' 'top' 'trabajar' 'trabajo' 'trama'\n",
      " 'tramo' 'universidad' 'valer' 'ver' 'viajar' 'viaje' 'vida' 'zapatilla'\n",
      " 'él' 'útil']\n",
      "\n",
      "Matriz TF-IDF (shape): (100, 202)\n",
      "\n",
      "Matriz TF-IDF:\n",
      "     acción  agarre  agotar  agua  ajustado  alto  amigo  aplicación  \\\n",
      "0      0.0     0.0     0.0   0.0  0.000000   0.0    0.0         0.0   \n",
      "1      0.0     0.0     0.0   0.0  0.553688   0.0    0.0         0.0   \n",
      "2      0.0     0.0     0.0   0.0  0.000000   0.0    0.0         0.0   \n",
      "3      0.0     0.0     0.0   0.0  0.000000   0.0    0.0         0.0   \n",
      "4      0.0     0.0     0.0   0.0  0.000000   0.0    0.0         0.0   \n",
      "..     ...     ...     ...   ...       ...   ...    ...         ...   \n",
      "95     0.0     0.0     0.0   0.0  0.000000   0.0    0.0         0.0   \n",
      "96     0.0     0.0     0.0   0.0  0.000000   0.0    0.0         0.0   \n",
      "97     0.0     0.0     0.0   0.0  0.000000   0.0    0.0         0.0   \n",
      "98     0.0     0.0     0.0   0.0  0.000000   0.0    0.0         0.0   \n",
      "99     0.0     0.0     0.0   0.0  0.000000   0.0    0.0         0.0   \n",
      "\n",
      "    arrepientir  asombroso  ...  tramo  universidad    valer  ver  viajar  \\\n",
      "0           0.0        0.0  ...    0.0          0.0  0.00000  0.0     0.0   \n",
      "1           0.0        0.0  ...    0.0          0.0  0.00000  0.0     0.0   \n",
      "2           0.0        0.0  ...    0.0          0.0  0.00000  0.0     0.0   \n",
      "3           0.0        0.0  ...    0.0          0.0  0.00000  0.0     0.0   \n",
      "4           0.0        0.0  ...    0.0          0.0  0.00000  0.0     0.0   \n",
      "..          ...        ...  ...    ...          ...      ...  ...     ...   \n",
      "95          0.0        0.0  ...    0.0          0.0  0.54119  0.0     0.0   \n",
      "96          0.0        0.0  ...    0.0          0.0  0.00000  0.0     0.0   \n",
      "97          0.0        0.0  ...    0.0          0.0  0.00000  0.0     0.0   \n",
      "98          0.0        0.0  ...    0.0          0.0  0.00000  0.0     0.0   \n",
      "99          0.0        0.0  ...    0.0          0.0  0.00000  0.0     0.0   \n",
      "\n",
      "    viaje  vida  zapatilla        él  útil  \n",
      "0     0.0   0.0        0.0  0.000000   0.0  \n",
      "1     0.0   0.0        0.0  0.000000   0.0  \n",
      "2     0.0   0.0        0.0  0.000000   0.0  \n",
      "3     0.0   0.0        0.0  0.000000   0.0  \n",
      "4     0.0   0.0        0.0  0.000000   0.0  \n",
      "..    ...   ...        ...       ...   ...  \n",
      "95    0.0   0.0        0.0  0.000000   0.0  \n",
      "96    0.0   0.0        0.0  0.000000   0.0  \n",
      "97    0.0   0.0        0.0  0.000000   0.0  \n",
      "98    0.0   0.0        0.0  0.441646   0.0  \n",
      "99    0.0   0.0        0.0  0.000000   0.0  \n",
      "\n",
      "[100 rows x 202 columns]\n"
     ]
    }
   ],
   "execution_count": 5
  },
  {
   "metadata": {
    "ExecuteTime": {
     "end_time": "2025-09-23T16:42:54.189771Z",
     "start_time": "2025-09-23T16:42:54.020052Z"
    }
   },
   "cell_type": "code",
   "source": [
    "import matplotlib.pyplot as plt\n",
    "import seaborn as sns\n",
    "import numpy as np\n",
    "\n",
    "# Sumar TF-IDF por término en todos los documentos\n",
    "suma_tfidf = X_tfidf.toarray().sum(axis=0)\n",
    "palabras = vectorizer.get_feature_names_out()\n",
    "df_tfidf = pd.DataFrame({\"palabra\": palabras, \"peso\": suma_tfidf})\n",
    "\n",
    "# Ordenar por importancia\n",
    "top_n = 15\n",
    "df_top = df_tfidf.sort_values(\"peso\", ascending=False).head(top_n)\n",
    "\n",
    "# Visualización\n",
    "plt.figure(figsize=(10,6))\n",
    "sns.barplot(x=\"peso\", y=\"palabra\", data=df_top, palette=\"viridis\")\n",
    "plt.title(f\"Top {top_n} palabras por importancia (TF-IDF)\")\n",
    "plt.xlabel(\"Peso TF-IDF acumulado\")\n",
    "plt.ylabel(\"Palabra\")\n",
    "plt.show()"
   ],
   "id": "d21d074bb984b037",
   "outputs": [
    {
     "name": "stderr",
     "output_type": "stream",
     "text": [
      "/var/folders/sl/2x216nz107xcfzxlmr7tr47m0000gn/T/ipykernel_5429/3265052097.py:16: FutureWarning: \n",
      "\n",
      "Passing `palette` without assigning `hue` is deprecated and will be removed in v0.14.0. Assign the `y` variable to `hue` and set `legend=False` for the same effect.\n",
      "\n",
      "  sns.barplot(x=\"peso\", y=\"palabra\", data=df_top, palette=\"viridis\")\n"
     ]
    },
    {
     "data": {
      "text/plain": [
       "<Figure size 1000x600 with 1 Axes>"
      ],
      "image/png": "[encoded data removed]"
     },
     "metadata": {},
     "output_type": "display_data",
     "jetTransient": {
      "display_id": null
     }
    }
   ],
   "execution_count": 6
  }
 ],
 "metadata": {
  "kernelspec": {
   "display_name": "Python 3",
   "language": "python",
   "name": "python3"
  },
  "language_info": {
   "codemirror_mode": {
    "name": "ipython",
    "version": 2
   },
   "file_extension": ".py",
   "mimetype": "text/x-python",
   "name": "python",
   "nbconvert_exporter": "python",
   "pygments_lexer": "ipython2",
   "version": "2.7.6"
  }
 },
 "nbformat": 4,
 "nbformat_minor": 5
}
