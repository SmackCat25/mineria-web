{
 "cells": [
  {
   "metadata": {
    "ExecuteTime": {
     "end_time": "2025-09-24T01:05:09.215306Z",
     "start_time": "2025-09-24T01:05:05.037366Z"
    }
   },
   "cell_type": "code",
   "source": "!python -m spacy download es_core_news_sm",
   "id": "4a8e9f8bcfab1c87",
   "outputs": [
    {
     "name": "stdout",
     "output_type": "stream",
     "text": [
      "Collecting es-core-news-sm==3.8.0\r\n",
      "  Downloading https://github.com/explosion/spacy-models/releases/download/es_core_news_sm-3.8.0/es_core_news_sm-3.8.0-py3-none-any.whl (12.9 MB)\r\n",
      "\u001B[2K     \u001B[90m━━━━━━━━━━━━━━━━━━━━━━━━━━━━━━━━━━━━━━━━\u001B[0m \u001B[32m12.9/12.9 MB\u001B[0m \u001B[31m8.0 MB/s\u001B[0m eta \u001B[36m0:00:00\u001B[0m00:01\u001B[0m00:01\u001B[0m\r\n",
      "\u001B[?25h\r\n",
      "\u001B[1m[\u001B[0m\u001B[34;49mnotice\u001B[0m\u001B[1;39;49m]\u001B[0m\u001B[39;49m A new release of pip is available: \u001B[0m\u001B[31;49m24.3.1\u001B[0m\u001B[39;49m -> \u001B[0m\u001B[32;49m25.2\u001B[0m\r\n",
      "\u001B[1m[\u001B[0m\u001B[34;49mnotice\u001B[0m\u001B[1;39;49m]\u001B[0m\u001B[39;49m To update, run: \u001B[0m\u001B[32;49mpip install --upgrade pip\u001B[0m\r\n",
      "\u001B[38;5;2m✔ Download and installation successful\u001B[0m\r\n",
      "You can now load the package via spacy.load('es_core_news_sm')\r\n"
     ]
    }
   ],
   "execution_count": 6
  },
  {
   "cell_type": "code",
   "id": "initial_id",
   "metadata": {
    "collapsed": true,
    "ExecuteTime": {
     "end_time": "2025-09-24T01:05:20.583325Z",
     "start_time": "2025-09-24T01:05:20.427304Z"
    }
   },
   "source": [
    "import pandas as pd\n",
    "import spacy\n",
    "from sklearn.feature_extraction.text import TfidfVectorizer\n",
    "\n",
    "nlp = spacy.load(\"es_core_news_sm\")"
   ],
   "outputs": [],
   "execution_count": 7
  },
  {
   "metadata": {
    "ExecuteTime": {
     "end_time": "2025-09-24T01:07:35.625324Z",
     "start_time": "2025-09-24T01:07:32.867004Z"
    }
   },
   "cell_type": "code",
   "source": [
    "def preprocesar(texto: str) -> str:\n",
    "    doc = nlp(texto.lower())\n",
    "    tokens_limpios = [\n",
    "        token.lemma_\n",
    "        for token in doc\n",
    "        if not token.is_stop and token.is_alpha\n",
    "    ]\n",
    "    return \" \".join(tokens_limpios)\n",
    "\n",
    "df = pd.read_csv(\"../data/comentarios.csv\")\n",
    "\n",
    "df[\"comentario_procesado\"] = df[\"texto_comentario\"].apply(preprocesar)\n",
    "\n",
    "# Vectorización con TF-IDF\n",
    "vectorizer = TfidfVectorizer()\n",
    "X_tfidf = vectorizer.fit_transform(df[\"comentario_procesado\"])"
   ],
   "id": "7b618691b933a347",
   "outputs": [],
   "execution_count": 8
  },
  {
   "metadata": {
    "ExecuteTime": {
     "end_time": "2025-09-24T01:07:40.153041Z",
     "start_time": "2025-09-24T01:07:40.142582Z"
    }
   },
   "cell_type": "code",
   "source": [
    "print(\"Vocabulario:\", vectorizer.get_feature_names_out())\n",
    "print(\"\\nMatriz TF-IDF (shape):\", X_tfidf.shape)\n",
    "\n",
    "# Mostrar como DataFrame\n",
    "tfidf_df = pd.DataFrame(\n",
    "    X_tfidf.toarray(),\n",
    "    columns=vectorizer.get_feature_names_out()\n",
    ")\n",
    "print(\"\\nMatriz TF-IDF:\\n\", tfidf_df)"
   ],
   "id": "e1ab63ea59faed63",
   "outputs": [
    {
     "name": "stdout",
     "output_type": "stream",
     "text": [
      "Vocabulario: ['abrir' 'absoluto' 'absorbente' 'absorber' 'acabado' 'acción' 'acero'\n",
      " 'acolchado' 'acontecimiento' 'adaptar' 'adecuado' 'adición' 'adictivo'\n",
      " 'aficionado' 'agarre' 'agotar' 'agradable' 'agua' 'aguantar' 'agudo'\n",
      " 'aire' 'aislante' 'ajustabl' 'ajustado' 'ajustar' 'alimento'\n",
      " 'almohadilla' 'altavoz' 'alto' 'amante' 'ambiente' 'amigo' 'amir'\n",
      " 'amortiguar' 'amplio' 'animación' 'antiadherente' 'apagado' 'apagar'\n",
      " 'aparecer' 'aparte' 'aplicación' 'apretar' 'archivo' 'arco' 'armario'\n",
      " 'arrepientir' 'arrugar' 'arruinar' 'asa' 'asiento' 'asombroso' 'aspecto'\n",
      " 'atractivo' 'audio' 'auricular' 'autonomía' 'autor' 'auténtico' 'avanza'\n",
      " 'aventura' 'ayuda' 'ayudar' 'año' 'bajo' 'balón' 'barato' 'base'\n",
      " 'batería' 'bestia' 'bestial' 'bicicleta' 'bloatware' 'bloquear'\n",
      " 'bluetooth' 'bolsillo' 'bonito' 'borde' 'borrar' 'borroso' 'brillante'\n",
      " 'buceo' 'busca' 'buscar' 'básico' 'caber' 'cable' 'caer' 'cafetería'\n",
      " 'calentar' 'calidad' 'calor' 'calzado' 'cambio' 'caminar' 'caminata'\n",
      " 'camiseta' 'campo' 'cancelación' 'cansar' 'capaz' 'captura' 'capturar'\n",
      " 'capítulo' 'característica' 'carcasa' 'carga' 'cargador' 'cargar' 'casa'\n",
      " 'caso' 'casual' 'causar' 'caída' 'centavo' 'cierre' 'claro' 'clase'\n",
      " 'climático' 'cocción' 'cocina' 'cocinar' 'cocinero' 'cocino' 'color'\n",
      " 'combinar' 'comida' 'comodidad' 'compartimento' 'compensar' 'complejo'\n",
      " 'completo' 'complicado' 'compra' 'comprar' 'compraría' 'concentrar'\n",
      " 'condición' 'conducción' 'conducir' 'conectado' 'conectividad' 'conexión'\n",
      " 'configuración' 'confort' 'confortabl' 'confuso' 'congelar' 'consistente'\n",
      " 'constantemente' 'construcción' 'construido' 'contentar' 'contento'\n",
      " 'control' 'controlar' 'convencer' 'conveniente' 'core' 'correa'\n",
      " 'correcto' 'correr' 'corto' 'cosa' 'costar' 'costura' 'creíble'\n",
      " 'cristalino' 'crucial' 'cualquiera' 'cubierta' 'cuerpo' 'cuidado'\n",
      " 'cumplir' 'cámara' 'césped' 'círculo' 'cómoda' 'cómodas' 'cómodo' 'dañar'\n",
      " 'deber' 'decente' 'decentemente' 'decepcionante' 'decepcionar'\n",
      " 'deficiente' 'definición' 'definitivamente' 'deformado' 'deformar'\n",
      " 'dejar' 'delgado' 'delgar' 'deporte' 'deportivo' 'desagradable'\n",
      " 'desarrollado' 'desarrollo' 'desconectar' 'descriptivo' 'desempeño'\n",
      " 'desenlace' 'desgastar' 'desgaste' 'desinfla' 'deslair' 'desvaneceír'\n",
      " 'desvanecir' 'detallado' 'detalle' 'devolver' 'diario' 'diferencia'\n",
      " 'difícil' 'dinero' 'diseñar' 'diseño' 'disparar' 'dispositivo'\n",
      " 'distribución' 'distribuido' 'distribuir' 'diurno' 'diálogo' 'doblar'\n",
      " 'documento' 'dolor' 'drenar' 'driblar' 'duda' 'dudar' 'duelar'\n",
      " 'durabilidad' 'duración' 'duradero' 'durar' 'duro' 'débil' 'edición'\n",
      " 'efectivo' 'eficiente' 'ejecutar' 'ejercicio' 'ejercitar' 'elegant'\n",
      " 'elegante' 'empezar' 'encantar' 'encarecidamente' 'encoger' 'encontrar'\n",
      " 'endeble' 'energía' 'enfocar' 'enfriamiento' 'enganchado' 'enganchar'\n",
      " 'enormemente' 'entorno' 'entrañabl' 'entrenamiento' 'entrenar'\n",
      " 'entretenida' 'entretenido' 'entretenimiento' 'equipo' 'ergonómico'\n",
      " 'escribir' 'escritorio' 'escritura' 'escuchar' 'esfuerzo' 'espacio'\n",
      " 'espaciós' 'especialmente' 'espectacular' 'esperar' 'espuma' 'esquina'\n",
      " 'estabilización' 'estable' 'estampado' 'estilo' 'estirar' 'estético'\n",
      " 'evitar' 'exagerada' 'excelente' 'excepcional' 'expectativa'\n",
      " 'experiencia' 'exterior' 'externo' 'extremo' 'facilitar' 'familia' 'fan'\n",
      " 'fantasía' 'fantástico' 'fascinado' 'fascinante' 'favorito' 'feliz'\n",
      " 'ficción' 'fidelidad' 'fino' 'fit' 'fluidez' 'fluido' 'fondo' 'forma'\n",
      " 'formal' 'foto' 'fotografía' 'fresca' 'fresco' 'frontal' 'frustrante'\n",
      " 'frustrantemente' 'fuego' 'fuerte' 'fuga' 'funcional' 'funcionar'\n",
      " 'función' 'fácil' 'fácilmente' 'fútbol' 'gama' 'gamer' 'gaming' 'gana'\n",
      " 'general' 'genial' 'gente' 'gimnasio' 'giro' 'golpe' 'grabar' 'gracias'\n",
      " 'granulado' 'grar' 'gratificante' 'grave' 'gráfico' 'guant' 'gustar'\n",
      " 'gusto' 'haber' 'habilidad' 'habitual' 'hermoso' 'hilo' 'historia'\n",
      " 'hogar' 'hombro' 'hora' 'humedad' 'ideal' 'imagen' 'impecable'\n",
      " 'impermeable' 'importante' 'impresionante' 'impulso' 'inalámbrico'\n",
      " 'incluir' 'inconveniente' 'increíble' 'increíblemente' 'incómoda'\n",
      " 'incómodo' 'inesperado' 'inestable' 'inexistente' 'inflar' 'informal'\n",
      " 'inoxidable' 'insatisfecho' 'instrucción' 'insuperabl' 'insuperable'\n",
      " 'integrado' 'intel' 'intensivo' 'intenso' 'interesado' 'interesante'\n",
      " 'interfaz' 'interno' 'interrumpe' 'interrumpir' 'interrupción' 'interés'\n",
      " 'intrigante' 'intuitivo' 'inversión' 'irregular' 'irritar' 'joya' 'juego'\n",
      " 'juegos' 'jugador' 'jugar' 'justificar' 'lado' 'laptop' 'larga' 'largo'\n",
      " 'lavada' 'lavado' 'lavar' 'lectura' 'leer' 'lentamente' 'lento'\n",
      " 'levantar' 'libro' 'ligero' 'limitar' 'limpiar' 'limpieza' 'llamada'\n",
      " 'llamado' 'llamar' 'llegar' 'lleno' 'llevar' 'lluvia' 'luminosidad' 'luz'\n",
      " 'lástima' 'maestro' 'malo' 'manejar' 'manipular' 'manipularla' 'mano'\n",
      " 'mantener' 'maravilla' 'material' 'matutino' 'mecánico' 'mejor' 'mejorar'\n",
      " 'memorable' 'memoria' 'menor' 'menú' 'mercado' 'mes' 'micrófono'\n",
      " 'minimalista' 'mitad' 'mochila' 'mochilo' 'moderado' 'moderno' 'molestia'\n",
      " 'momento' 'monstruo' 'montaña' 'mostrar' 'motivación' 'motivo' 'mover'\n",
      " 'movilidad' 'movimiento' 'mundo' 'mágico' 'máquina' 'máximo' 'móvil'\n",
      " 'múltiple' 'música' 'narrativa' 'natural' 'navegación' 'navegar'\n",
      " 'necesario' 'necesidad' 'necesitar' 'negro' 'nexus' 'nieve' 'nitidez'\n",
      " 'nivel' 'nocturno' 'notar' 'novela' 'nulo' 'nítida' 'nítido' 'nítir'\n",
      " 'obra' 'oficina' 'ofrecer' 'oled' 'olla' 'opción' 'oreja' 'organizado'\n",
      " 'original' 'pantalla' 'par' 'parque' 'partido' 'pasar' 'pasatiempo'\n",
      " 'pase' 'paseo' 'pecho' 'pedir' 'pega' 'pegado' 'pegar' 'película' 'pena'\n",
      " 'pensado' 'perder' 'perfección' 'perfectamente' 'perfecto' 'periodo'\n",
      " 'permitir' 'persona' 'personaje' 'pesado' 'peso' 'pie' 'piel' 'placer'\n",
      " 'playa' 'plazo' 'plus' 'poder' 'poner' 'portabilidad' 'portátil'\n",
      " 'potencia' 'potente' 'practicar' 'precio' 'precisión' 'preciso'\n",
      " 'predecible' 'premium' 'preocaber' 'preocupación' 'preocupar' 'presión'\n",
      " 'principiant' 'pro' 'probar' 'problema' 'procesador' 'proceso'\n",
      " 'productividad' 'producto' 'profesional' 'profundo' 'programa'\n",
      " 'programación' 'prolongado' 'prometer' 'prosa' 'protectora' 'proyecto'\n",
      " 'práctico' 'puerto' 'punto' 'puro' 'público' 'quedar' 'queja' 'quejarme'\n",
      " 'quemar' 'quitar' 'rango' 'rapidísimo' 'rasguño' 'rato' 'rayar'\n",
      " 'razonable' 'realmente' 'rebote' 'recargar' 'reciente' 'recomeir'\n",
      " 'recomendable' 'recomendado' 'recomendar' 'recomendaría' 'red' 'refresco'\n",
      " 'refrigeración' 'regular' 'renderizado' 'rendimiento' 'rendir'\n",
      " 'repelente' 'reproducción' 'requerir' 'resistente' 'resistir'\n",
      " 'resolución' 'responsivo' 'resto' 'resultar' 'retener' 'retroiluminado'\n",
      " 'ritmo' 'robusta' 'robusto' 'romper' 'rtx' 'ruido' 'ruidoso' 'running'\n",
      " 'rápidamente' 'rápido' 'rígido' 'sacar' 'salida' 'salir' 'salvar'\n",
      " 'salvavidas' 'secar' 'seguir' 'segundo' 'seguro' 'selfi' 'semana'\n",
      " 'sencillo' 'sensación' 'sensible' 'sentar' 'sentir' 'serio' 'sesión'\n",
      " 'set' 'signo' 'silencioso' 'similar' 'simple' 'simplemente' 'simpático'\n",
      " 'sintético' 'siquiera' 'sistema' 'smartphone' 'smartphonir'\n",
      " 'sobrecalentamiento' 'sobrecalientar' 'sobresaliente' 'sobrevivir'\n",
      " 'social' 'software' 'sol' 'sonar' 'sonido' 'soporte' 'sorprendentemente'\n",
      " 'streaming' 'suave' 'suceder' 'sudar' 'sudor' 'suela' 'sueño'\n",
      " 'suficientemente' 'sugeriría' 'sumergen' 'superar' 'superficie'\n",
      " 'superior' 'súper' 'tacto' 'talla' 'tamaño' 'tapa' 'tarea' 'tarjeta'\n",
      " 'tasa' 'tech' 'teclado' 'tecnológico' 'tejido' 'tela' 'teléfono' 'tener'\n",
      " 'terminar' 'terreno' 'textura' 'texturizada' 'texturizado' 'tiempo'\n",
      " 'tipo' 'tirar' 'tiro' 'toma' 'tomar' 'top' 'toque' 'totalmente'\n",
      " 'trabajar' 'trabajo' 'trackpad' 'trama' 'tramo' 'transferir'\n",
      " 'transformar' 'transpirable' 'transporte' 'táctil' 'técnico' 'típico'\n",
      " 'ultralight' 'ultrarrápido' 'uniforme' 'uniformemente' 'universidad'\n",
      " 'urbana' 'urbano' 'usabilidad' 'usar' 'usaría' 'usb' 'usuario' 'vacación'\n",
      " 'valer' 'ventaja' 'ventilación' 'ventilador' 'ver' 'verano' 'versátil'\n",
      " 'viajar' 'viaje' 'vibrante' 'vida' 'video' 'videollamada' 'vidrio' 'vivo'\n",
      " 'volver' 'voz' 'válvula' 'vívir' 'wifi' 'yo' 'zapatilla' 'área' 'él'\n",
      " 'épico' 'único' 'útil']\n",
      "\n",
      "Matriz TF-IDF (shape): (620, 758)\n",
      "\n",
      "Matriz TF-IDF:\n",
      "      abrir  absoluto  absorbente  absorber  acabado  acción  acero  acolchado  \\\n",
      "0      0.0       0.0         0.0       0.0      0.0     0.0    0.0        0.0   \n",
      "1      0.0       0.0         0.0       0.0      0.0     0.0    0.0        0.0   \n",
      "2      0.0       0.0         0.0       0.0      0.0     0.0    0.0        0.0   \n",
      "3      0.0       0.0         0.0       0.0      0.0     0.0    0.0        0.0   \n",
      "4      0.0       0.0         0.0       0.0      0.0     0.0    0.0        0.0   \n",
      "..     ...       ...         ...       ...      ...     ...    ...        ...   \n",
      "615    0.0       0.0         0.0       0.0      0.0     0.0    0.0        0.0   \n",
      "616    0.0       0.0         0.0       0.0      0.0     0.0    0.0        0.0   \n",
      "617    0.0       0.0         0.0       0.0      0.0     0.0    0.0        0.0   \n",
      "618    0.0       0.0         0.0       0.0      0.0     0.0    0.0        0.0   \n",
      "619    0.0       0.0         0.0       0.0      0.0     0.0    0.0        0.0   \n",
      "\n",
      "     acontecimiento   adaptar  ...  válvula     vívir  wifi   yo  zapatilla  \\\n",
      "0               0.0  0.000000  ...      0.0  0.202049   0.0  0.0   0.000000   \n",
      "1               0.0  0.000000  ...      0.0  0.000000   0.0  0.0   0.000000   \n",
      "2               0.0  0.000000  ...      0.0  0.000000   0.0  0.0   0.000000   \n",
      "3               0.0  0.230166  ...      0.0  0.000000   0.0  0.0   0.167029   \n",
      "4               0.0  0.000000  ...      0.0  0.000000   0.0  0.0   0.000000   \n",
      "..              ...       ...  ...      ...       ...   ...  ...        ...   \n",
      "615             0.0  0.000000  ...      0.0  0.000000   0.0  0.0   0.000000   \n",
      "616             0.0  0.000000  ...      0.0  0.000000   0.0  0.0   0.000000   \n",
      "617             0.0  0.000000  ...      0.0  0.000000   0.0  0.0   0.000000   \n",
      "618             0.0  0.000000  ...      0.0  0.000000   0.0  0.0   0.000000   \n",
      "619             0.0  0.000000  ...      0.0  0.000000   0.0  0.0   0.000000   \n",
      "\n",
      "     área   él  épico     único  útil  \n",
      "0     0.0  0.0    0.0  0.000000   0.0  \n",
      "1     0.0  0.0    0.0  0.000000   0.0  \n",
      "2     0.0  0.0    0.0  0.000000   0.0  \n",
      "3     0.0  0.0    0.0  0.000000   0.0  \n",
      "4     0.0  0.0    0.0  0.205189   0.0  \n",
      "..    ...  ...    ...       ...   ...  \n",
      "615   0.0  0.0    0.0  0.000000   0.0  \n",
      "616   0.0  0.0    0.0  0.000000   0.0  \n",
      "617   0.0  0.0    0.0  0.000000   0.0  \n",
      "618   0.0  0.0    0.0  0.000000   0.0  \n",
      "619   0.0  0.0    0.0  0.000000   0.0  \n",
      "\n",
      "[620 rows x 758 columns]\n"
     ]
    }
   ],
   "execution_count": 9
  },
  {
   "metadata": {
    "ExecuteTime": {
     "end_time": "2025-09-24T01:10:28.140510Z",
     "start_time": "2025-09-24T01:10:28.030937Z"
    }
   },
   "cell_type": "code",
   "source": [
    "import matplotlib.pyplot as plt\n",
    "import seaborn as sns\n",
    "import numpy as np\n",
    "\n",
    "# Sumar TF-IDF por término en todos los documentos\n",
    "suma_tfidf = X_tfidf.toarray().sum(axis=0)\n",
    "palabras = vectorizer.get_feature_names_out()\n",
    "df_tfidf = pd.DataFrame({\"palabra\": palabras, \"peso\": suma_tfidf})\n",
    "\n",
    "# Ordenar por importancia\n",
    "top_n = 15\n",
    "df_top = df_tfidf.sort_values(\"peso\", ascending=False).head(top_n)\n",
    "\n",
    "# Visualización\n",
    "plt.figure(figsize=(10,6))\n",
    "sns.barplot(x=\"peso\", y=\"palabra\", data=df_top, palette=\"viridis\")\n",
    "plt.title(f\"Top {top_n} palabras por importancia (TF-IDF)\")\n",
    "plt.xlabel(\"Peso TF-IDF acumulado\")\n",
    "plt.ylabel(\"Palabra\")\n",
    "plt.show()"
   ],
   "id": "d21d074bb984b037",
   "outputs": [
    {
     "name": "stderr",
     "output_type": "stream",
     "text": [
      "/var/folders/sl/2x216nz107xcfzxlmr7tr47m0000gn/T/ipykernel_44254/3265052097.py:16: FutureWarning: \n",
      "\n",
      "Passing `palette` without assigning `hue` is deprecated and will be removed in v0.14.0. Assign the `y` variable to `hue` and set `legend=False` for the same effect.\n",
      "\n",
      "  sns.barplot(x=\"peso\", y=\"palabra\", data=df_top, palette=\"viridis\")\n"
     ]
    },
    {
     "data": {
      "text/plain": [
       "<Figure size 1000x600 with 1 Axes>"
      ],
      "image/png": "[encoded data removed]"
     },
     "metadata": {},
     "output_type": "display_data",
     "jetTransient": {
      "display_id": null
     }
    }
   ],
   "execution_count": 10
  }
 ],
 "metadata": {
  "kernelspec": {
   "display_name": "Python 3",
   "language": "python",
   "name": "python3"
  },
  "language_info": {
   "codemirror_mode": {
    "name": "ipython",
    "version": 2
   },
   "file_extension": ".py",
   "mimetype": "text/x-python",
   "name": "python",
   "nbconvert_exporter": "python",
   "pygments_lexer": "ipython2",
   "version": "2.7.6"
  }
 },
 "nbformat": 4,
 "nbformat_minor": 5
}
