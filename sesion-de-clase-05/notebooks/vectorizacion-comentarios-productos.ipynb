{
 "cells": [
  {
   "metadata": {
    "ExecuteTime": {
     "end_time": "2025-09-24T02:30:25.019339Z",
     "start_time": "2025-09-24T02:30:22.762376Z"
    }
   },
   "cell_type": "code",
   "source": "!python -m spacy download es_core_news_sm",
   "id": "903280d6ad2a8126",
   "outputs": [
    {
     "name": "stdout",
     "output_type": "stream",
     "text": [
      "Collecting es-core-news-sm==3.8.0\n",
      "  Downloading https://github.com/explosion/spacy-models/releases/download/es_core_news_sm-3.8.0/es_core_news_sm-3.8.0-py3-none-any.whl (12.9 MB)\n",
      "     ---------------------------------------- 0.0/12.9 MB ? eta -:--:--\n",
      "     --------------------------------------  12.8/12.9 MB 80.7 MB/s eta 0:00:01\n",
      "     --------------------------------------- 12.9/12.9 MB 42.5 MB/s eta 0:00:00\n",
      "\u001B[38;5;2m✔ Download and installation successful\u001B[0m\n",
      "You can now load the package via spacy.load('es_core_news_sm')\n"
     ]
    },
    {
     "name": "stderr",
     "output_type": "stream",
     "text": [
      "\n",
      "[notice] A new release of pip is available: 25.1.1 -> 25.2\n",
      "[notice] To update, run: python.exe -m pip install --upgrade pip\n"
     ]
    }
   ],
   "execution_count": 1
  },
  {
   "metadata": {
    "ExecuteTime": {
     "end_time": "2025-09-24T02:30:56.834624Z",
     "start_time": "2025-09-24T02:30:26.777847Z"
    }
   },
   "cell_type": "code",
   "source": "!pip install tf-keras",
   "id": "1d6a3eafb781278",
   "outputs": [
    {
     "name": "stdout",
     "output_type": "stream",
     "text": [
      "Collecting tf-keras\n",
      "  Downloading tf_keras-2.20.1-py3-none-any.whl.metadata (1.8 kB)\n",
      "Collecting tensorflow<2.21,>=2.20 (from tf-keras)\n",
      "  Downloading tensorflow-2.20.0-cp310-cp310-win_amd64.whl.metadata (4.6 kB)\n",
      "Collecting absl-py>=1.0.0 (from tensorflow<2.21,>=2.20->tf-keras)\n",
      "  Downloading absl_py-2.3.1-py3-none-any.whl.metadata (3.3 kB)\n",
      "Collecting astunparse>=1.6.0 (from tensorflow<2.21,>=2.20->tf-keras)\n",
      "  Downloading astunparse-1.6.3-py2.py3-none-any.whl.metadata (4.4 kB)\n",
      "Collecting flatbuffers>=24.3.25 (from tensorflow<2.21,>=2.20->tf-keras)\n",
      "  Downloading flatbuffers-25.2.10-py2.py3-none-any.whl.metadata (875 bytes)\n",
      "Collecting gast!=0.5.0,!=0.5.1,!=0.5.2,>=0.2.1 (from tensorflow<2.21,>=2.20->tf-keras)\n",
      "  Downloading gast-0.6.0-py3-none-any.whl.metadata (1.3 kB)\n",
      "Collecting google_pasta>=0.1.1 (from tensorflow<2.21,>=2.20->tf-keras)\n",
      "  Downloading google_pasta-0.2.0-py3-none-any.whl.metadata (814 bytes)\n",
      "Collecting libclang>=13.0.0 (from tensorflow<2.21,>=2.20->tf-keras)\n",
      "  Downloading libclang-18.1.1-py2.py3-none-win_amd64.whl.metadata (5.3 kB)\n",
      "Collecting opt_einsum>=2.3.2 (from tensorflow<2.21,>=2.20->tf-keras)\n",
      "  Downloading opt_einsum-3.4.0-py3-none-any.whl.metadata (6.3 kB)\n",
      "Requirement already satisfied: packaging in c:\\users\\aml\\pycharmprojects\\mineria-web\\.venv_2\\lib\\site-packages (from tensorflow<2.21,>=2.20->tf-keras) (25.0)\n",
      "Collecting protobuf>=5.28.0 (from tensorflow<2.21,>=2.20->tf-keras)\n",
      "  Downloading protobuf-6.32.1-cp310-abi3-win_amd64.whl.metadata (593 bytes)\n",
      "Requirement already satisfied: requests<3,>=2.21.0 in c:\\users\\aml\\pycharmprojects\\mineria-web\\.venv_2\\lib\\site-packages (from tensorflow<2.21,>=2.20->tf-keras) (2.32.5)\n",
      "Requirement already satisfied: setuptools in c:\\users\\aml\\pycharmprojects\\mineria-web\\.venv_2\\lib\\site-packages (from tensorflow<2.21,>=2.20->tf-keras) (80.3.1)\n",
      "Requirement already satisfied: six>=1.12.0 in c:\\users\\aml\\pycharmprojects\\mineria-web\\.venv_2\\lib\\site-packages (from tensorflow<2.21,>=2.20->tf-keras) (1.17.0)\n",
      "Collecting termcolor>=1.1.0 (from tensorflow<2.21,>=2.20->tf-keras)\n",
      "  Downloading termcolor-3.1.0-py3-none-any.whl.metadata (6.4 kB)\n",
      "Requirement already satisfied: typing_extensions>=3.6.6 in c:\\users\\aml\\pycharmprojects\\mineria-web\\.venv_2\\lib\\site-packages (from tensorflow<2.21,>=2.20->tf-keras) (4.15.0)\n",
      "Requirement already satisfied: wrapt>=1.11.0 in c:\\users\\aml\\pycharmprojects\\mineria-web\\.venv_2\\lib\\site-packages (from tensorflow<2.21,>=2.20->tf-keras) (1.17.3)\n",
      "Collecting grpcio<2.0,>=1.24.3 (from tensorflow<2.21,>=2.20->tf-keras)\n",
      "  Downloading grpcio-1.75.0-cp310-cp310-win_amd64.whl.metadata (3.8 kB)\n",
      "Collecting tensorboard~=2.20.0 (from tensorflow<2.21,>=2.20->tf-keras)\n",
      "  Downloading tensorboard-2.20.0-py3-none-any.whl.metadata (1.8 kB)\n",
      "Collecting keras>=3.10.0 (from tensorflow<2.21,>=2.20->tf-keras)\n",
      "  Downloading keras-3.11.3-py3-none-any.whl.metadata (5.9 kB)\n",
      "Requirement already satisfied: numpy>=1.26.0 in c:\\users\\aml\\pycharmprojects\\mineria-web\\.venv_2\\lib\\site-packages (from tensorflow<2.21,>=2.20->tf-keras) (1.26.4)\n",
      "Collecting h5py>=3.11.0 (from tensorflow<2.21,>=2.20->tf-keras)\n",
      "  Downloading h5py-3.14.0-cp310-cp310-win_amd64.whl.metadata (2.7 kB)\n",
      "Collecting ml_dtypes<1.0.0,>=0.5.1 (from tensorflow<2.21,>=2.20->tf-keras)\n",
      "  Downloading ml_dtypes-0.5.3-cp310-cp310-win_amd64.whl.metadata (9.2 kB)\n",
      "Requirement already satisfied: charset_normalizer<4,>=2 in c:\\users\\aml\\pycharmprojects\\mineria-web\\.venv_2\\lib\\site-packages (from requests<3,>=2.21.0->tensorflow<2.21,>=2.20->tf-keras) (3.4.3)\n",
      "Requirement already satisfied: idna<4,>=2.5 in c:\\users\\aml\\pycharmprojects\\mineria-web\\.venv_2\\lib\\site-packages (from requests<3,>=2.21.0->tensorflow<2.21,>=2.20->tf-keras) (3.10)\n",
      "Requirement already satisfied: urllib3<3,>=1.21.1 in c:\\users\\aml\\pycharmprojects\\mineria-web\\.venv_2\\lib\\site-packages (from requests<3,>=2.21.0->tensorflow<2.21,>=2.20->tf-keras) (2.5.0)\n",
      "Requirement already satisfied: certifi>=2017.4.17 in c:\\users\\aml\\pycharmprojects\\mineria-web\\.venv_2\\lib\\site-packages (from requests<3,>=2.21.0->tensorflow<2.21,>=2.20->tf-keras) (2025.8.3)\n",
      "Collecting markdown>=2.6.8 (from tensorboard~=2.20.0->tensorflow<2.21,>=2.20->tf-keras)\n",
      "  Downloading markdown-3.9-py3-none-any.whl.metadata (5.1 kB)\n",
      "Requirement already satisfied: pillow in c:\\users\\aml\\pycharmprojects\\mineria-web\\.venv_2\\lib\\site-packages (from tensorboard~=2.20.0->tensorflow<2.21,>=2.20->tf-keras) (11.3.0)\n",
      "Collecting tensorboard-data-server<0.8.0,>=0.7.0 (from tensorboard~=2.20.0->tensorflow<2.21,>=2.20->tf-keras)\n",
      "  Downloading tensorboard_data_server-0.7.2-py3-none-any.whl.metadata (1.1 kB)\n",
      "Collecting werkzeug>=1.0.1 (from tensorboard~=2.20.0->tensorflow<2.21,>=2.20->tf-keras)\n",
      "  Downloading werkzeug-3.1.3-py3-none-any.whl.metadata (3.7 kB)\n",
      "Collecting wheel<1.0,>=0.23.0 (from astunparse>=1.6.0->tensorflow<2.21,>=2.20->tf-keras)\n",
      "  Downloading wheel-0.45.1-py3-none-any.whl.metadata (2.3 kB)\n",
      "Requirement already satisfied: rich in c:\\users\\aml\\pycharmprojects\\mineria-web\\.venv_2\\lib\\site-packages (from keras>=3.10.0->tensorflow<2.21,>=2.20->tf-keras) (14.1.0)\n",
      "Collecting namex (from keras>=3.10.0->tensorflow<2.21,>=2.20->tf-keras)\n",
      "  Downloading namex-0.1.0-py3-none-any.whl.metadata (322 bytes)\n",
      "Collecting optree (from keras>=3.10.0->tensorflow<2.21,>=2.20->tf-keras)\n",
      "  Downloading optree-0.17.0-cp310-cp310-win_amd64.whl.metadata (34 kB)\n",
      "Requirement already satisfied: MarkupSafe>=2.1.1 in c:\\users\\aml\\pycharmprojects\\mineria-web\\.venv_2\\lib\\site-packages (from werkzeug>=1.0.1->tensorboard~=2.20.0->tensorflow<2.21,>=2.20->tf-keras) (3.0.2)\n",
      "Requirement already satisfied: markdown-it-py>=2.2.0 in c:\\users\\aml\\pycharmprojects\\mineria-web\\.venv_2\\lib\\site-packages (from rich->keras>=3.10.0->tensorflow<2.21,>=2.20->tf-keras) (4.0.0)\n",
      "Requirement already satisfied: pygments<3.0.0,>=2.13.0 in c:\\users\\aml\\pycharmprojects\\mineria-web\\.venv_2\\lib\\site-packages (from rich->keras>=3.10.0->tensorflow<2.21,>=2.20->tf-keras) (2.19.2)\n",
      "Requirement already satisfied: mdurl~=0.1 in c:\\users\\aml\\pycharmprojects\\mineria-web\\.venv_2\\lib\\site-packages (from markdown-it-py>=2.2.0->rich->keras>=3.10.0->tensorflow<2.21,>=2.20->tf-keras) (0.1.2)\n",
      "Downloading tf_keras-2.20.1-py3-none-any.whl (1.7 MB)\n",
      "   ---------------------------------------- 0.0/1.7 MB ? eta -:--:--\n",
      "   ---------------------------------------- 1.7/1.7 MB 30.5 MB/s eta 0:00:00\n",
      "Downloading tensorflow-2.20.0-cp310-cp310-win_amd64.whl (331.7 MB)\n",
      "   ---------------------------------------- 0.0/331.7 MB ? eta -:--:--\n",
      "   - -------------------------------------- 13.6/331.7 MB 65.9 MB/s eta 0:00:05\n",
      "   --- ------------------------------------ 29.4/331.7 MB 71.7 MB/s eta 0:00:05\n",
      "   ----- ---------------------------------- 44.8/331.7 MB 75.0 MB/s eta 0:00:04\n",
      "   ------- -------------------------------- 60.6/331.7 MB 75.7 MB/s eta 0:00:04\n",
      "   -------- ------------------------------- 74.4/331.7 MB 73.0 MB/s eta 0:00:04\n",
      "   ---------- ----------------------------- 87.6/331.7 MB 71.6 MB/s eta 0:00:04\n",
      "   ------------ -------------------------- 102.5/331.7 MB 71.9 MB/s eta 0:00:04\n",
      "   ------------- ------------------------- 118.2/331.7 MB 72.6 MB/s eta 0:00:03\n",
      "   --------------- ----------------------- 130.3/331.7 MB 70.5 MB/s eta 0:00:03\n",
      "   ---------------- ---------------------- 144.4/331.7 MB 70.4 MB/s eta 0:00:03\n",
      "   ------------------ -------------------- 157.3/331.7 MB 69.8 MB/s eta 0:00:03\n",
      "   -------------------- ------------------ 170.1/331.7 MB 69.2 MB/s eta 0:00:03\n",
      "   --------------------- ----------------- 182.7/331.7 MB 68.7 MB/s eta 0:00:03\n",
      "   ----------------------- --------------- 196.3/331.7 MB 68.6 MB/s eta 0:00:02\n",
      "   ------------------------ -------------- 210.2/331.7 MB 68.6 MB/s eta 0:00:02\n",
      "   -------------------------- ------------ 224.1/331.7 MB 68.5 MB/s eta 0:00:02\n",
      "   ---------------------------- ---------- 238.6/331.7 MB 68.7 MB/s eta 0:00:02\n",
      "   ----------------------------- --------- 254.0/331.7 MB 68.8 MB/s eta 0:00:02\n",
      "   ------------------------------- ------- 267.9/331.7 MB 68.7 MB/s eta 0:00:01\n",
      "   --------------------------------- ----- 282.1/331.7 MB 68.4 MB/s eta 0:00:01\n",
      "   ---------------------------------- ---- 296.2/331.7 MB 68.1 MB/s eta 0:00:01\n",
      "   ------------------------------------ -- 311.2/331.7 MB 68.1 MB/s eta 0:00:01\n",
      "   --------------------------------------  326.4/331.7 MB 68.1 MB/s eta 0:00:01\n",
      "   --------------------------------------  331.6/331.7 MB 68.1 MB/s eta 0:00:01\n",
      "   --------------------------------------  331.6/331.7 MB 68.1 MB/s eta 0:00:01\n",
      "   --------------------------------------  331.6/331.7 MB 68.1 MB/s eta 0:00:01\n",
      "   --------------------------------------- 331.7/331.7 MB 58.7 MB/s eta 0:00:00\n",
      "Downloading grpcio-1.75.0-cp310-cp310-win_amd64.whl (4.6 MB)\n",
      "   ---------------------------------------- 0.0/4.6 MB ? eta -:--:--\n",
      "   ---------------------------------------- 4.6/4.6 MB 47.1 MB/s eta 0:00:00\n",
      "Downloading ml_dtypes-0.5.3-cp310-cp310-win_amd64.whl (206 kB)\n",
      "Downloading tensorboard-2.20.0-py3-none-any.whl (5.5 MB)\n",
      "   ---------------------------------------- 0.0/5.5 MB ? eta -:--:--\n",
      "   ---------------------------------------- 5.5/5.5 MB 37.3 MB/s eta 0:00:00\n",
      "Downloading tensorboard_data_server-0.7.2-py3-none-any.whl (2.4 kB)\n",
      "Downloading absl_py-2.3.1-py3-none-any.whl (135 kB)\n",
      "Downloading astunparse-1.6.3-py2.py3-none-any.whl (12 kB)\n",
      "Downloading wheel-0.45.1-py3-none-any.whl (72 kB)\n",
      "Downloading flatbuffers-25.2.10-py2.py3-none-any.whl (30 kB)\n",
      "Downloading gast-0.6.0-py3-none-any.whl (21 kB)\n",
      "Downloading google_pasta-0.2.0-py3-none-any.whl (57 kB)\n",
      "Downloading h5py-3.14.0-cp310-cp310-win_amd64.whl (2.9 MB)\n",
      "   ---------------------------------------- 0.0/2.9 MB ? eta -:--:--\n",
      "   ---------------------------------------- 2.9/2.9 MB 42.0 MB/s eta 0:00:00\n",
      "Downloading keras-3.11.3-py3-none-any.whl (1.4 MB)\n",
      "   ---------------------------------------- 0.0/1.4 MB ? eta -:--:--\n",
      "   ---------------------------------------- 1.4/1.4 MB 37.0 MB/s eta 0:00:00\n",
      "Downloading libclang-18.1.1-py2.py3-none-win_amd64.whl (26.4 MB)\n",
      "   ---------------------------------------- 0.0/26.4 MB ? eta -:--:--\n",
      "   ---------------------- ----------------- 14.9/26.4 MB 72.0 MB/s eta 0:00:01\n",
      "   ---------------------------------------  26.2/26.4 MB 75.4 MB/s eta 0:00:01\n",
      "   ---------------------------------------  26.2/26.4 MB 75.4 MB/s eta 0:00:01\n",
      "   ---------------------------------------- 26.4/26.4 MB 40.8 MB/s eta 0:00:00\n",
      "Downloading markdown-3.9-py3-none-any.whl (107 kB)\n",
      "Downloading opt_einsum-3.4.0-py3-none-any.whl (71 kB)\n",
      "Downloading protobuf-6.32.1-cp310-abi3-win_amd64.whl (435 kB)\n",
      "Downloading termcolor-3.1.0-py3-none-any.whl (7.7 kB)\n",
      "Downloading werkzeug-3.1.3-py3-none-any.whl (224 kB)\n",
      "Downloading namex-0.1.0-py3-none-any.whl (5.9 kB)\n",
      "Downloading optree-0.17.0-cp310-cp310-win_amd64.whl (304 kB)\n",
      "Installing collected packages: namex, libclang, flatbuffers, wheel, werkzeug, termcolor, tensorboard-data-server, protobuf, optree, opt_einsum, ml_dtypes, markdown, h5py, grpcio, google_pasta, gast, absl-py, tensorboard, astunparse, keras, tensorflow, tf-keras\n",
      "\n",
      "   - --------------------------------------  1/22 [libclang]\n",
      "   - --------------------------------------  1/22 [libclang]\n",
      "   ----- ----------------------------------  3/22 [wheel]\n",
      "   ------- --------------------------------  4/22 [werkzeug]\n",
      "   ------------ ---------------------------  7/22 [protobuf]\n",
      "   ---------------- -----------------------  9/22 [opt_einsum]\n",
      "   -------------------- ------------------- 11/22 [markdown]\n",
      "   --------------------- ------------------ 12/22 [h5py]\n",
      "   ----------------------- ---------------- 13/22 [grpcio]\n",
      "   ------------------------- -------------- 14/22 [google_pasta]\n",
      "   ------------------------------ --------- 17/22 [tensorboard]\n",
      "   ------------------------------ --------- 17/22 [tensorboard]\n",
      "   ------------------------------ --------- 17/22 [tensorboard]\n",
      "   ------------------------------ --------- 17/22 [tensorboard]\n",
      "   ---------------------------------- ----- 19/22 [keras]\n",
      "   ---------------------------------- ----- 19/22 [keras]\n",
      "   ---------------------------------- ----- 19/22 [keras]\n",
      "   ---------------------------------- ----- 19/22 [keras]\n",
      "   ---------------------------------- ----- 19/22 [keras]\n",
      "   ---------------------------------- ----- 19/22 [keras]\n",
      "   ---------------------------------- ----- 19/22 [keras]\n",
      "   ---------------------------------- ----- 19/22 [keras]\n",
      "   ------------------------------------ --- 20/22 [tensorflow]\n",
      "   ------------------------------------ --- 20/22 [tensorflow]\n",
      "   ------------------------------------ --- 20/22 [tensorflow]\n",
      "   ------------------------------------ --- 20/22 [tensorflow]\n",
      "   ------------------------------------ --- 20/22 [tensorflow]\n",
      "   ------------------------------------ --- 20/22 [tensorflow]\n",
      "   ------------------------------------ --- 20/22 [tensorflow]\n",
      "   ------------------------------------ --- 20/22 [tensorflow]\n",
      "   ------------------------------------ --- 20/22 [tensorflow]\n",
      "   ------------------------------------ --- 20/22 [tensorflow]\n",
      "   ------------------------------------ --- 20/22 [tensorflow]\n",
      "   ------------------------------------ --- 20/22 [tensorflow]\n",
      "   ------------------------------------ --- 20/22 [tensorflow]\n",
      "   ------------------------------------ --- 20/22 [tensorflow]\n",
      "   ------------------------------------ --- 20/22 [tensorflow]\n",
      "   ------------------------------------ --- 20/22 [tensorflow]\n",
      "   ------------------------------------ --- 20/22 [tensorflow]\n",
      "   ------------------------------------ --- 20/22 [tensorflow]\n",
      "   ------------------------------------ --- 20/22 [tensorflow]\n",
      "   ------------------------------------ --- 20/22 [tensorflow]\n",
      "   ------------------------------------ --- 20/22 [tensorflow]\n",
      "   ------------------------------------ --- 20/22 [tensorflow]\n",
      "   ------------------------------------ --- 20/22 [tensorflow]\n",
      "   ------------------------------------ --- 20/22 [tensorflow]\n",
      "   ------------------------------------ --- 20/22 [tensorflow]\n",
      "   ------------------------------------ --- 20/22 [tensorflow]\n",
      "   ------------------------------------ --- 20/22 [tensorflow]\n",
      "   ------------------------------------ --- 20/22 [tensorflow]\n",
      "   ------------------------------------ --- 20/22 [tensorflow]\n",
      "   ------------------------------------ --- 20/22 [tensorflow]\n",
      "   ------------------------------------ --- 20/22 [tensorflow]\n",
      "   ------------------------------------ --- 20/22 [tensorflow]\n",
      "   ------------------------------------ --- 20/22 [tensorflow]\n",
      "   ------------------------------------ --- 20/22 [tensorflow]\n",
      "   ------------------------------------ --- 20/22 [tensorflow]\n",
      "   ------------------------------------ --- 20/22 [tensorflow]\n",
      "   ------------------------------------ --- 20/22 [tensorflow]\n",
      "   ------------------------------------ --- 20/22 [tensorflow]\n",
      "   ------------------------------------ --- 20/22 [tensorflow]\n",
      "   ------------------------------------ --- 20/22 [tensorflow]\n",
      "   ------------------------------------ --- 20/22 [tensorflow]\n",
      "   ------------------------------------ --- 20/22 [tensorflow]\n",
      "   ------------------------------------ --- 20/22 [tensorflow]\n",
      "   ------------------------------------ --- 20/22 [tensorflow]\n",
      "   ------------------------------------ --- 20/22 [tensorflow]\n",
      "   ------------------------------------ --- 20/22 [tensorflow]\n",
      "   ------------------------------------ --- 20/22 [tensorflow]\n",
      "   ------------------------------------ --- 20/22 [tensorflow]\n",
      "   ------------------------------------ --- 20/22 [tensorflow]\n",
      "   ------------------------------------ --- 20/22 [tensorflow]\n",
      "   ------------------------------------ --- 20/22 [tensorflow]\n",
      "   ------------------------------------ --- 20/22 [tensorflow]\n",
      "   ------------------------------------ --- 20/22 [tensorflow]\n",
      "   ------------------------------------ --- 20/22 [tensorflow]\n",
      "   ------------------------------------ --- 20/22 [tensorflow]\n",
      "   ------------------------------------ --- 20/22 [tensorflow]\n",
      "   ------------------------------------ --- 20/22 [tensorflow]\n",
      "   ------------------------------------ --- 20/22 [tensorflow]\n",
      "   ------------------------------------ --- 20/22 [tensorflow]\n",
      "   ------------------------------------ --- 20/22 [tensorflow]\n",
      "   ------------------------------------ --- 20/22 [tensorflow]\n",
      "   ------------------------------------ --- 20/22 [tensorflow]\n",
      "   ------------------------------------ --- 20/22 [tensorflow]\n",
      "   ------------------------------------ --- 20/22 [tensorflow]\n",
      "   ------------------------------------ --- 20/22 [tensorflow]\n",
      "   ------------------------------------ --- 20/22 [tensorflow]\n",
      "   ------------------------------------ --- 20/22 [tensorflow]\n",
      "   ------------------------------------ --- 20/22 [tensorflow]\n",
      "   ------------------------------------ --- 20/22 [tensorflow]\n",
      "   ------------------------------------ --- 20/22 [tensorflow]\n",
      "   ------------------------------------ --- 20/22 [tensorflow]\n",
      "   ------------------------------------ --- 20/22 [tensorflow]\n",
      "   ------------------------------------ --- 20/22 [tensorflow]\n",
      "   ------------------------------------ --- 20/22 [tensorflow]\n",
      "   ------------------------------------ --- 20/22 [tensorflow]\n",
      "   ------------------------------------ --- 20/22 [tensorflow]\n",
      "   ------------------------------------ --- 20/22 [tensorflow]\n",
      "   ------------------------------------ --- 20/22 [tensorflow]\n",
      "   ------------------------------------ --- 20/22 [tensorflow]\n",
      "   ------------------------------------ --- 20/22 [tensorflow]\n",
      "   ------------------------------------ --- 20/22 [tensorflow]\n",
      "   ------------------------------------ --- 20/22 [tensorflow]\n",
      "   ------------------------------------ --- 20/22 [tensorflow]\n",
      "   ------------------------------------ --- 20/22 [tensorflow]\n",
      "   -------------------------------------- - 21/22 [tf-keras]\n",
      "   -------------------------------------- - 21/22 [tf-keras]\n",
      "   -------------------------------------- - 21/22 [tf-keras]\n",
      "   -------------------------------------- - 21/22 [tf-keras]\n",
      "   -------------------------------------- - 21/22 [tf-keras]\n",
      "   -------------------------------------- - 21/22 [tf-keras]\n",
      "   -------------------------------------- - 21/22 [tf-keras]\n",
      "   -------------------------------------- - 21/22 [tf-keras]\n",
      "   -------------------------------------- - 21/22 [tf-keras]\n",
      "   ---------------------------------------- 22/22 [tf-keras]\n",
      "\n",
      "Successfully installed absl-py-2.3.1 astunparse-1.6.3 flatbuffers-25.2.10 gast-0.6.0 google_pasta-0.2.0 grpcio-1.75.0 h5py-3.14.0 keras-3.11.3 libclang-18.1.1 markdown-3.9 ml_dtypes-0.5.3 namex-0.1.0 opt_einsum-3.4.0 optree-0.17.0 protobuf-6.32.1 tensorboard-2.20.0 tensorboard-data-server-0.7.2 tensorflow-2.20.0 termcolor-3.1.0 tf-keras-2.20.1 werkzeug-3.1.3 wheel-0.45.1\n"
     ]
    },
    {
     "name": "stderr",
     "output_type": "stream",
     "text": [
      "\n",
      "[notice] A new release of pip is available: 25.1.1 -> 25.2\n",
      "[notice] To update, run: python.exe -m pip install --upgrade pip\n"
     ]
    }
   ],
   "execution_count": 2
  },
  {
   "metadata": {
    "ExecuteTime": {
     "end_time": "2025-09-24T02:31:03.152655Z",
     "start_time": "2025-09-24T02:31:00.075836Z"
    }
   },
   "cell_type": "code",
   "source": [
    "import os\n",
    "import pandas as pd\n",
    "import numpy as np\n",
    "import tensorflow as tf\n",
    "\n",
    "PRODUCTS_CSV = \"../data/productos.csv\"\n",
    "COMMENTS_CSV = \"../data/comentarios.csv\"\n",
    "\n",
    "productos = pd.read_csv(PRODUCTS_CSV)\n",
    "comentarios = pd.read_csv(COMMENTS_CSV)"
   ],
   "id": "9940e7d0ae6a055c",
   "outputs": [],
   "execution_count": 3
  },
  {
   "metadata": {
    "ExecuteTime": {
     "end_time": "2025-09-24T02:31:26.866154Z",
     "start_time": "2025-09-24T02:31:26.854068Z"
    }
   },
   "cell_type": "code",
   "source": [
    "print(\"Productos:\", productos.shape)\n",
    "print(\"Comentarios:\", comentarios.shape)\n",
    "\n",
    "print(\"Columnas productos:\", productos.columns.tolist())\n",
    "print(\"Columnas comentarios:\", comentarios.columns.tolist())"
   ],
   "id": "e5e227aa338da065",
   "outputs": [
    {
     "name": "stdout",
     "output_type": "stream",
     "text": [
      "Productos: (10, 6)\n",
      "Comentarios: (620, 6)\n",
      "Columnas productos: ['id_producto', 'nombre_producto', 'categoria', 'subcategoria', 'precio', 'descripcion']\n",
      "Columnas comentarios: ['id_comentario', 'id_cliente', 'id_producto', 'calificacion', 'texto_comentario', 'fecha_comentario']\n"
     ]
    }
   ],
   "execution_count": 4
  },
  {
   "metadata": {
    "ExecuteTime": {
     "end_time": "2025-09-24T02:32:01.515126Z",
     "start_time": "2025-09-24T02:32:01.498738Z"
    }
   },
   "cell_type": "code",
   "source": [
    "# Merge (inner) para quedarnos con comentarios que sí tengan producto\n",
    "df = comentarios.merge(productos, on=\"id_producto\", how=\"inner\")\n",
    "print(\"Dataset unido:\", df.shape)\n",
    "df.head()"
   ],
   "id": "a5ac9fa5c2b88a3c",
   "outputs": [
    {
     "name": "stdout",
     "output_type": "stream",
     "text": [
      "Dataset unido: (620, 11)\n"
     ]
    },
    {
     "data": {
      "text/plain": [
       "   id_comentario  id_cliente  id_producto  calificacion  \\\n",
       "0              1           1            2             5   \n",
       "1              2           2            4             4   \n",
       "2              3           3            1             5   \n",
       "3              4           4            5             3   \n",
       "4              5           5            3             4   \n",
       "\n",
       "                                    texto_comentario fecha_comentario  \\\n",
       "0  El Smartphone Nexus 5G es un cambio de juego. ...       2024-05-20   \n",
       "1  La Camiseta Deportiva Ultralight es muy cómoda...       2024-05-21   \n",
       "2  La Laptop Gamer Pro es una bestia de rendimien...       2024-05-22   \n",
       "3  Las Zapatillas Urbanas Fit tienen un diseño mu...       2024-05-23   \n",
       "4  Los Auriculares Inalámbricos X ofrecen un soni...       2024-05-24   \n",
       "\n",
       "                 nombre_producto    categoria subcategoria   precio  \\\n",
       "0            Smartphone Nexus 5G  Electrónica  Smartphones   899.50   \n",
       "1  Camiseta Deportiva Ultralight         Ropa    Camisetas    35.00   \n",
       "2               Laptop Gamer Pro  Electrónica   Portátiles  1899.99   \n",
       "3         Zapatillas Urbanas Fit         Ropa      Calzado    85.75   \n",
       "4     Auriculares Inalámbricos X  Electrónica        Audio   125.00   \n",
       "\n",
       "                                         descripcion  \n",
       "0  El Smartphone Nexus 5G redefine la experiencia...  \n",
       "1  Camiseta técnica de alto rendimiento para depo...  \n",
       "2  Laptop de alto rendimiento para gaming y creac...  \n",
       "3  Calzado deportivo y casual diseñado para el co...  \n",
       "4  Auriculares Bluetooth de diadema diseñados par...  "
      ],
      "text/html": [
       "<div>\n",
       "<style scoped>\n",
       "    .dataframe tbody tr th:only-of-type {\n",
       "        vertical-align: middle;\n",
       "    }\n",
       "\n",
       "    .dataframe tbody tr th {\n",
       "        vertical-align: top;\n",
       "    }\n",
       "\n",
       "    .dataframe thead th {\n",
       "        text-align: right;\n",
       "    }\n",
       "</style>\n",
       "<table border=\"1\" class=\"dataframe\">\n",
       "  <thead>\n",
       "    <tr style=\"text-align: right;\">\n",
       "      <th></th>\n",
       "      <th>id_comentario</th>\n",
       "      <th>id_cliente</th>\n",
       "      <th>id_producto</th>\n",
       "      <th>calificacion</th>\n",
       "      <th>texto_comentario</th>\n",
       "      <th>fecha_comentario</th>\n",
       "      <th>nombre_producto</th>\n",
       "      <th>categoria</th>\n",
       "      <th>subcategoria</th>\n",
       "      <th>precio</th>\n",
       "      <th>descripcion</th>\n",
       "    </tr>\n",
       "  </thead>\n",
       "  <tbody>\n",
       "    <tr>\n",
       "      <th>0</th>\n",
       "      <td>1</td>\n",
       "      <td>1</td>\n",
       "      <td>2</td>\n",
       "      <td>5</td>\n",
       "      <td>El Smartphone Nexus 5G es un cambio de juego. ...</td>\n",
       "      <td>2024-05-20</td>\n",
       "      <td>Smartphone Nexus 5G</td>\n",
       "      <td>Electrónica</td>\n",
       "      <td>Smartphones</td>\n",
       "      <td>899.50</td>\n",
       "      <td>El Smartphone Nexus 5G redefine la experiencia...</td>\n",
       "    </tr>\n",
       "    <tr>\n",
       "      <th>1</th>\n",
       "      <td>2</td>\n",
       "      <td>2</td>\n",
       "      <td>4</td>\n",
       "      <td>4</td>\n",
       "      <td>La Camiseta Deportiva Ultralight es muy cómoda...</td>\n",
       "      <td>2024-05-21</td>\n",
       "      <td>Camiseta Deportiva Ultralight</td>\n",
       "      <td>Ropa</td>\n",
       "      <td>Camisetas</td>\n",
       "      <td>35.00</td>\n",
       "      <td>Camiseta técnica de alto rendimiento para depo...</td>\n",
       "    </tr>\n",
       "    <tr>\n",
       "      <th>2</th>\n",
       "      <td>3</td>\n",
       "      <td>3</td>\n",
       "      <td>1</td>\n",
       "      <td>5</td>\n",
       "      <td>La Laptop Gamer Pro es una bestia de rendimien...</td>\n",
       "      <td>2024-05-22</td>\n",
       "      <td>Laptop Gamer Pro</td>\n",
       "      <td>Electrónica</td>\n",
       "      <td>Portátiles</td>\n",
       "      <td>1899.99</td>\n",
       "      <td>Laptop de alto rendimiento para gaming y creac...</td>\n",
       "    </tr>\n",
       "    <tr>\n",
       "      <th>3</th>\n",
       "      <td>4</td>\n",
       "      <td>4</td>\n",
       "      <td>5</td>\n",
       "      <td>3</td>\n",
       "      <td>Las Zapatillas Urbanas Fit tienen un diseño mu...</td>\n",
       "      <td>2024-05-23</td>\n",
       "      <td>Zapatillas Urbanas Fit</td>\n",
       "      <td>Ropa</td>\n",
       "      <td>Calzado</td>\n",
       "      <td>85.75</td>\n",
       "      <td>Calzado deportivo y casual diseñado para el co...</td>\n",
       "    </tr>\n",
       "    <tr>\n",
       "      <th>4</th>\n",
       "      <td>5</td>\n",
       "      <td>5</td>\n",
       "      <td>3</td>\n",
       "      <td>4</td>\n",
       "      <td>Los Auriculares Inalámbricos X ofrecen un soni...</td>\n",
       "      <td>2024-05-24</td>\n",
       "      <td>Auriculares Inalámbricos X</td>\n",
       "      <td>Electrónica</td>\n",
       "      <td>Audio</td>\n",
       "      <td>125.00</td>\n",
       "      <td>Auriculares Bluetooth de diadema diseñados par...</td>\n",
       "    </tr>\n",
       "  </tbody>\n",
       "</table>\n",
       "</div>"
      ]
     },
     "execution_count": 5,
     "metadata": {},
     "output_type": "execute_result"
    }
   ],
   "execution_count": 5
  },
  {
   "metadata": {
    "ExecuteTime": {
     "end_time": "2025-09-24T02:32:18.062156Z",
     "start_time": "2025-09-24T02:32:09.175796Z"
    }
   },
   "cell_type": "code",
   "source": [
    "# Remover Stopwords y Lematizar en español.\n",
    "try:\n",
    "    import spacy\n",
    "    nlp = spacy.load(\"es_core_news_sm\")\n",
    "    print(\"spaCy cargado: usando lematización y stopwords de spaCy.\")\n",
    "\n",
    "    def preprocess_spacy(text):\n",
    "        doc = nlp(str(text).lower())\n",
    "        tokens = [t.lemma_ for t in doc if not t.is_stop and t.is_alpha]\n",
    "        return \" \".join(tokens)\n",
    "\n",
    "    df[\"nombre_producto_proc\"] = df[\"nombre_producto\"].apply(preprocess_spacy)\n",
    "    df[\"descripcion_proc\"] = df[\"descripcion\"].apply(preprocess_spacy)\n",
    "    df[\"comentario_proc\"] = df[\"texto_comentario\"].apply(preprocess_spacy)\n",
    "\n",
    "except Exception as e:\n",
    "    print(\"spaCy no disponible o error cargando modelo\", e)\n",
    "\n",
    "# Revisa resultados\n",
    "df[[\"nombre_producto\", \"nombre_producto_proc\", \"descripcion\", \"descripcion_proc\", \"texto_comentario\", \"comentario_proc\"]].head()"
   ],
   "id": "f9112d276fe2136b",
   "outputs": [
    {
     "name": "stdout",
     "output_type": "stream",
     "text": [
      "spaCy cargado: usando lematización y stopwords de spaCy.\n"
     ]
    },
    {
     "data": {
      "text/plain": [
       "                 nombre_producto           nombre_producto_proc  \\\n",
       "0            Smartphone Nexus 5G            smartphonir nexus g   \n",
       "1  Camiseta Deportiva Ultralight  camiseta deportivo ultralight   \n",
       "2               Laptop Gamer Pro               laptop gamer pro   \n",
       "3         Zapatillas Urbanas Fit           zapatilla urbano fit   \n",
       "4     Auriculares Inalámbricos X        auricular inalámbrico x   \n",
       "\n",
       "                                         descripcion  \\\n",
       "0  El Smartphone Nexus 5G redefine la experiencia...   \n",
       "1  Camiseta técnica de alto rendimiento para depo...   \n",
       "2  Laptop de alto rendimiento para gaming y creac...   \n",
       "3  Calzado deportivo y casual diseñado para el co...   \n",
       "4  Auriculares Bluetooth de diadema diseñados par...   \n",
       "\n",
       "                                    descripcion_proc  \\\n",
       "0  smartphonir nexus g redefinar experiencia móvi...   \n",
       "1  camiseta técnico alto rendimiento deporte fabr...   \n",
       "2  laptop alto rendimiento gaming creación conten...   \n",
       "3  calzado deportivo casual diseñado confort diar...   \n",
       "4  auricular bluetooth diadema diseñado audiofi é...   \n",
       "\n",
       "                                    texto_comentario  \\\n",
       "0  El Smartphone Nexus 5G es un cambio de juego. ...   \n",
       "1  La Camiseta Deportiva Ultralight es muy cómoda...   \n",
       "2  La Laptop Gamer Pro es una bestia de rendimien...   \n",
       "3  Las Zapatillas Urbanas Fit tienen un diseño mu...   \n",
       "4  Los Auriculares Inalámbricos X ofrecen un soni...   \n",
       "\n",
       "                                     comentario_proc  \n",
       "0  smartphonir nexus g cambio juego pantalla oled...  \n",
       "1  camiseta deportivo ultralight cómodo entrenami...  \n",
       "2  laptop gamer pro bestia rendimiento superar ex...  \n",
       "3  zapatilla urbano fit diseño atractivo resultar...  \n",
       "4  auricular inalámbrico x ofrecer sonido nítido ...  "
      ],
      "text/html": [
       "<div>\n",
       "<style scoped>\n",
       "    .dataframe tbody tr th:only-of-type {\n",
       "        vertical-align: middle;\n",
       "    }\n",
       "\n",
       "    .dataframe tbody tr th {\n",
       "        vertical-align: top;\n",
       "    }\n",
       "\n",
       "    .dataframe thead th {\n",
       "        text-align: right;\n",
       "    }\n",
       "</style>\n",
       "<table border=\"1\" class=\"dataframe\">\n",
       "  <thead>\n",
       "    <tr style=\"text-align: right;\">\n",
       "      <th></th>\n",
       "      <th>nombre_producto</th>\n",
       "      <th>nombre_producto_proc</th>\n",
       "      <th>descripcion</th>\n",
       "      <th>descripcion_proc</th>\n",
       "      <th>texto_comentario</th>\n",
       "      <th>comentario_proc</th>\n",
       "    </tr>\n",
       "  </thead>\n",
       "  <tbody>\n",
       "    <tr>\n",
       "      <th>0</th>\n",
       "      <td>Smartphone Nexus 5G</td>\n",
       "      <td>smartphonir nexus g</td>\n",
       "      <td>El Smartphone Nexus 5G redefine la experiencia...</td>\n",
       "      <td>smartphonir nexus g redefinar experiencia móvi...</td>\n",
       "      <td>El Smartphone Nexus 5G es un cambio de juego. ...</td>\n",
       "      <td>smartphonir nexus g cambio juego pantalla oled...</td>\n",
       "    </tr>\n",
       "    <tr>\n",
       "      <th>1</th>\n",
       "      <td>Camiseta Deportiva Ultralight</td>\n",
       "      <td>camiseta deportivo ultralight</td>\n",
       "      <td>Camiseta técnica de alto rendimiento para depo...</td>\n",
       "      <td>camiseta técnico alto rendimiento deporte fabr...</td>\n",
       "      <td>La Camiseta Deportiva Ultralight es muy cómoda...</td>\n",
       "      <td>camiseta deportivo ultralight cómodo entrenami...</td>\n",
       "    </tr>\n",
       "    <tr>\n",
       "      <th>2</th>\n",
       "      <td>Laptop Gamer Pro</td>\n",
       "      <td>laptop gamer pro</td>\n",
       "      <td>Laptop de alto rendimiento para gaming y creac...</td>\n",
       "      <td>laptop alto rendimiento gaming creación conten...</td>\n",
       "      <td>La Laptop Gamer Pro es una bestia de rendimien...</td>\n",
       "      <td>laptop gamer pro bestia rendimiento superar ex...</td>\n",
       "    </tr>\n",
       "    <tr>\n",
       "      <th>3</th>\n",
       "      <td>Zapatillas Urbanas Fit</td>\n",
       "      <td>zapatilla urbano fit</td>\n",
       "      <td>Calzado deportivo y casual diseñado para el co...</td>\n",
       "      <td>calzado deportivo casual diseñado confort diar...</td>\n",
       "      <td>Las Zapatillas Urbanas Fit tienen un diseño mu...</td>\n",
       "      <td>zapatilla urbano fit diseño atractivo resultar...</td>\n",
       "    </tr>\n",
       "    <tr>\n",
       "      <th>4</th>\n",
       "      <td>Auriculares Inalámbricos X</td>\n",
       "      <td>auricular inalámbrico x</td>\n",
       "      <td>Auriculares Bluetooth de diadema diseñados par...</td>\n",
       "      <td>auricular bluetooth diadema diseñado audiofi é...</td>\n",
       "      <td>Los Auriculares Inalámbricos X ofrecen un soni...</td>\n",
       "      <td>auricular inalámbrico x ofrecer sonido nítido ...</td>\n",
       "    </tr>\n",
       "  </tbody>\n",
       "</table>\n",
       "</div>"
      ]
     },
     "execution_count": 6,
     "metadata": {},
     "output_type": "execute_result"
    }
   ],
   "execution_count": 6
  },
  {
   "metadata": {
    "ExecuteTime": {
     "end_time": "2025-09-24T02:36:41.107086Z",
     "start_time": "2025-09-24T02:36:38.479109Z"
    }
   },
   "cell_type": "code",
   "source": [
    "from sentence_transformers import SentenceTransformer\n",
    "\n",
    "print(\"SentenceTransformers disponible. Usando modelo multilingüe.\")\n",
    "model_name = \"sentence-transformers/paraphrase-multilingual-MiniLM-L12-v2\"\n",
    "st_model = SentenceTransformer(model_name)"
   ],
   "id": "51ea1736c3d44a03",
   "outputs": [
    {
     "name": "stdout",
     "output_type": "stream",
     "text": [
      "SentenceTransformers disponible. Usando modelo multilingüe.\n"
     ]
    }
   ],
   "execution_count": 9
  },
  {
   "metadata": {
    "ExecuteTime": {
     "end_time": "2025-09-24T02:38:10.796678Z",
     "start_time": "2025-09-24T02:38:10.788123Z"
    }
   },
   "cell_type": "code",
   "source": [
    "import random\n",
    "\n",
    "productos_unicos = df[[\"id_producto\", \"nombre_producto_proc\", \"descripcion_proc\"]].drop_duplicates(subset=\"id_producto\").reset_index(drop=True)\n",
    "\n",
    "nombres_textos = productos_unicos[\"nombre_producto_proc\"].tolist()\n",
    "productos_textos = productos_unicos[\"descripcion_proc\"].tolist()\n",
    "comentarios_textos = df[\"comentario_proc\"].tolist()\n",
    "todos_textos = nombres_textos + productos_textos + comentarios_textos\n",
    "\n",
    "# Mostrar 5 elementos aleatorios de la lista combinada\n",
    "muestra_aleatoria = random.sample(todos_textos, 5)\n",
    "\n",
    "print(\"Muestra aleatoria de la lista 'todos_textos':\")\n",
    "for i, texto in enumerate(muestra_aleatoria):\n",
    "    print(f\"{i+1}. {texto}\")"
   ],
   "id": "c9ea5670284fc297",
   "outputs": [
    {
     "name": "stdout",
     "output_type": "stream",
     "text": [
      "Muestra aleatoria de la lista 'todos_textos':\n",
      "1. contentar olla calidad superior set incluir tamaño necesitar fácil limpiar\n",
      "2. camiseta deporte retener sudor secar rápido material alto calidad cómodo ajustar\n",
      "3. sonido nítido pesado apretar oreja par hora calidad audio excelente comodidad\n",
      "4. cámara acción maravilla viaje calidad video increíble agua fácil gracias pantalla táctil menú intuitivo carcasa protectora resistente golpe agua grabar video buceo espectacular problema estabilización imagen fantástico toma movimiento\n",
      "5. cámara fácil calidad video excelente batería duro\n"
     ]
    }
   ],
   "execution_count": 10
  },
  {
   "metadata": {
    "ExecuteTime": {
     "end_time": "2025-09-24T02:38:17.997957Z",
     "start_time": "2025-09-24T02:38:16.321393Z"
    }
   },
   "cell_type": "code",
   "source": [
    "embeddings = st_model.encode(todos_textos, convert_to_numpy=True, show_progress_bar=True)\n",
    "embedding_dim = embeddings.shape[1]\n",
    "print(\"Embeddings generados con SentenceTransformers - shape:\", embeddings.shape)"
   ],
   "id": "f52534f422f48d36",
   "outputs": [
    {
     "name": "stderr",
     "output_type": "stream",
     "text": [
      "Batches: 100%|██████████| 20/20 [00:01<00:00, 12.09it/s]"
     ]
    },
    {
     "name": "stdout",
     "output_type": "stream",
     "text": [
      "Embeddings generados con SentenceTransformers - shape: (640, 384)\n"
     ]
    },
    {
     "name": "stderr",
     "output_type": "stream",
     "text": [
      "\n"
     ]
    }
   ],
   "execution_count": 11
  },
  {
   "metadata": {
    "ExecuteTime": {
     "end_time": "2025-09-24T02:38:28.678977Z",
     "start_time": "2025-09-24T02:38:28.601975Z"
    }
   },
   "cell_type": "code",
   "source": [
    "out_dir = \"logs/embeddings\"\n",
    "os.makedirs(out_dir, exist_ok=True)\n",
    "\n",
    "def make_label(text, n_words=5):\n",
    "    return \" \".join(text.split()[:n_words])\n",
    "\n",
    "# Crear metadata con columnas: tipo, label, texto_completo\n",
    "metadata = pd.DataFrame({\n",
    "    \"label\": [make_label(t, 5) for t in nombres_textos + productos_textos + comentarios_textos],\n",
    "    \"tipo\": [\"producto\"]*len(nombres_textos) + [\"producto\"]*len(productos_textos) + [\"comentario\"]*len(comentarios_textos),\n",
    "    \"texto_completo\": nombres_textos + productos_textos + comentarios_textos\n",
    "})\n",
    "\n",
    "# Guardar como TSV para TensorBoard Projector\n",
    "metadata_path = os.path.join(out_dir, \"metadata.tsv\")\n",
    "metadata.to_csv(metadata_path, sep=\"\\t\", index=False)\n",
    "\n",
    "print(\"Metadata guardada en:\", metadata_path)\n",
    "\n",
    "# Guardar checkpoint con los embeddings (TensorFlow expects a Variable)\n",
    "emb_var = tf.Variable(embeddings, name=\"embeddings\")\n",
    "ckpt = tf.train.Checkpoint(embedding=emb_var)\n",
    "ckpt.save(os.path.join(out_dir, \"embedding.ckpt\"))\n",
    "\n",
    "print(\"Embeddings guardados en:\", out_dir)\n",
    "print(\"Ejecuta en terminal: tensorboard --logdir logs/embeddings\")"
   ],
   "id": "e066aa836a79dff",
   "outputs": [
    {
     "name": "stdout",
     "output_type": "stream",
     "text": [
      "Metadata guardada en: logs/embeddings\\metadata.tsv\n",
      "Embeddings guardados en: logs/embeddings\n",
      "Ejecuta en terminal: tensorboard --logdir logs/embeddings\n"
     ]
    }
   ],
   "execution_count": 12
  },
  {
   "metadata": {
    "ExecuteTime": {
     "end_time": "2025-09-24T02:38:32.818271Z",
     "start_time": "2025-09-24T02:38:32.804229Z"
    }
   },
   "cell_type": "code",
   "source": [
    "# Concatenamos para generar embeddings juntos\n",
    "todos_textos = nombres_textos + productos_textos + comentarios_textos\n",
    "\n",
    "# Separar Embeddings\n",
    "nombres_count = len(nombres_textos)\n",
    "desc_count = len(productos_textos)\n",
    "comm_count = len(comentarios_textos)\n",
    "\n",
    "# Embeddings de nombres y descripciones de productos\n",
    "nombres_emb = embeddings[:nombres_count]\n",
    "desc_emb = embeddings[nombres_count:nombres_count+desc_count]\n",
    "\n",
    "# Combinar embeddings de nombre + descripción por producto\n",
    "prod_embeddings = (nombres_emb + desc_emb) / 2\n",
    "\n",
    "# Embeddings de comentarios\n",
    "comm_embeddings = embeddings[nombres_count+desc_count:]\n",
    "\n",
    "def top_k_products_for_comment(comment_idx, k=3):\n",
    "    q = comm_embeddings[comment_idx]\n",
    "    # normalizar\n",
    "    qn = q / np.linalg.norm(q)\n",
    "    Pn = prod_embeddings / np.linalg.norm(prod_embeddings, axis=1, keepdims=True)\n",
    "    sims = np.dot(Pn, qn)  # (num_productos,)\n",
    "    topk_idx = sims.argsort()[::-1][:k]\n",
    "    return [\n",
    "        (\n",
    "            idx,\n",
    "            sims[idx],\n",
    "            productos_textos[idx],   # descripción\n",
    "            nombres_textos[idx],     # nombre producto\n",
    "            df.iloc[idx][\"id_producto\"] if \"id_producto\" in df.columns else None\n",
    "        )\n",
    "        for idx in topk_idx\n",
    "    ]\n",
    "\n",
    "print(\"Comentario (procesado):\", comentarios_textos[10])\n",
    "print(\"Top-3 productos similares:\")\n",
    "for idx, score, desc, nombre, pid in top_k_products_for_comment(10, k=3):\n",
    "    print(f\" - idx_prod={idx}, id_producto={pid}, score={score:.4f}, nombre: {nombre}, desc: {desc}\")"
   ],
   "id": "8792cd990607e10a",
   "outputs": [
    {
     "name": "stdout",
     "output_type": "stream",
     "text": [
      "Comentario (procesado): rendimiento laptop gamer pro excepcional duración batería punto débil tarea básico durar par hora gaming mantener él conectado tiempo limitar portabilidad ideal escritorio llevar él\n",
      "Top-3 productos similares:\n",
      " - idx_prod=2, id_producto=1, score=0.6368, nombre: laptop gamer pro, desc: laptop alto rendimiento gaming creación contenido procesador intel core generación gb ram tarjeta gráfico nvidia rtx pantalla pulgada tasa refresco resolución ofrecer experiencia visual inmersivo chasis aluminio pulido sistema enfriamiento avanzado garantizar rendimiento óptimo sesión juego larga incluir teclado mecánico retroiluminado personalización rgb tecla\n",
      " - idx_prod=8, id_producto=9, score=0.3564, nombre: mochilo urbana tech, desc: mochila moderno funcional vida urbano fabricado poliéster repelente agua compartimento principal funda acolchado laptops pulgada incluir bolsillo frontal organizador bolsillo lateral botella agua puerto carga usb integrado power bank incluido correa acolchada ajustabl panel trasero transpirable garantizar comodidad diseño minimalista unisex\n",
      " - idx_prod=0, id_producto=2, score=0.3400, nombre: smartphonir nexus g, desc: smartphonir nexus g redefinar experiencia móvil pantalla oled pulgada frecuencia proporcionar color vibrante negro profundo cámara principal lente ultra angular teleobjetivo capturar foto calidad profesional condición iluminación equipado procesador qualcomm snapdragon  gen gb ram batería mah teléfono ofrecer rendimiento fluido autonomía excepcional soporto carga rápido\n"
     ]
    }
   ],
   "execution_count": 13
  },
  {
   "metadata": {},
   "cell_type": "code",
   "outputs": [],
   "execution_count": null,
   "source": [
    "### Se debe ejecutar en el cd \"notebooks\"\n",
    "# tensorboard --logdir logs/embeddings"
   ],
   "id": "2debed3fb0afe676"
  }
 ],
 "metadata": {
  "kernelspec": {
   "display_name": "Python 3",
   "language": "python",
   "name": "python3"
  },
  "language_info": {
   "codemirror_mode": {
    "name": "ipython",
    "version": 2
   },
   "file_extension": ".py",
   "mimetype": "text/x-python",
   "name": "python",
   "nbconvert_exporter": "python",
   "pygments_lexer": "ipython2",
   "version": "2.7.6"
  }
 },
 "nbformat": 4,
 "nbformat_minor": 5
}
