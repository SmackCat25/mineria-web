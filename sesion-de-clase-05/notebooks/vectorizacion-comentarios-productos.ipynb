{
 "cells": [
  {
   "metadata": {
    "ExecuteTime": {
     "end_time": "2025-09-23T18:11:23.925413Z",
     "start_time": "2025-09-23T18:11:21.851746Z"
    }
   },
   "cell_type": "code",
   "source": "!python -m spacy download es_core_news_sm",
   "id": "903280d6ad2a8126",
   "outputs": [
    {
     "name": "stdout",
     "output_type": "stream",
     "text": [
      "Collecting es-core-news-sm==3.8.0\r\n",
      "  Downloading https://github.com/explosion/spacy-models/releases/download/es_core_news_sm-3.8.0/es_core_news_sm-3.8.0-py3-none-any.whl (12.9 MB)\r\n",
      "\u001B[2K     \u001B[90m━━━━━━━━━━━━━━━━━━━━━━━━━━━━━━━━━━━━━━━━\u001B[0m \u001B[32m12.9/12.9 MB\u001B[0m \u001B[31m40.8 MB/s\u001B[0m eta \u001B[36m0:00:00\u001B[0ma \u001B[36m0:00:01\u001B[0m\r\n",
      "\u001B[?25h\r\n",
      "\u001B[1m[\u001B[0m\u001B[34;49mnotice\u001B[0m\u001B[1;39;49m]\u001B[0m\u001B[39;49m A new release of pip is available: \u001B[0m\u001B[31;49m24.3.1\u001B[0m\u001B[39;49m -> \u001B[0m\u001B[32;49m25.2\u001B[0m\r\n",
      "\u001B[1m[\u001B[0m\u001B[34;49mnotice\u001B[0m\u001B[1;39;49m]\u001B[0m\u001B[39;49m To update, run: \u001B[0m\u001B[32;49mpip install --upgrade pip\u001B[0m\r\n",
      "\u001B[38;5;2m✔ Download and installation successful\u001B[0m\r\n",
      "You can now load the package via spacy.load('es_core_news_sm')\r\n"
     ]
    }
   ],
   "execution_count": 7
  },
  {
   "metadata": {
    "ExecuteTime": {
     "end_time": "2025-09-23T18:20:14.689280Z",
     "start_time": "2025-09-23T18:20:13.192153Z"
    }
   },
   "cell_type": "code",
   "source": "!pip install tf-keras",
   "id": "1d6a3eafb781278",
   "outputs": [
    {
     "name": "stdout",
     "output_type": "stream",
     "text": [
      "Collecting tf-keras\r\n",
      "  Downloading tf_keras-2.20.1-py3-none-any.whl.metadata (1.8 kB)\r\n",
      "Requirement already satisfied: tensorflow<2.21,>=2.20 in /Users/erichuiza/Documents/pucp/miería web/dev/sesion-de-clase-05/.venv/lib/python3.11/site-packages (from tf-keras) (2.20.0)\r\n",
      "Requirement already satisfied: absl-py>=1.0.0 in /Users/erichuiza/Documents/pucp/miería web/dev/sesion-de-clase-05/.venv/lib/python3.11/site-packages (from tensorflow<2.21,>=2.20->tf-keras) (2.3.1)\r\n",
      "Requirement already satisfied: astunparse>=1.6.0 in /Users/erichuiza/Documents/pucp/miería web/dev/sesion-de-clase-05/.venv/lib/python3.11/site-packages (from tensorflow<2.21,>=2.20->tf-keras) (1.6.3)\r\n",
      "Requirement already satisfied: flatbuffers>=24.3.25 in /Users/erichuiza/Documents/pucp/miería web/dev/sesion-de-clase-05/.venv/lib/python3.11/site-packages (from tensorflow<2.21,>=2.20->tf-keras) (25.2.10)\r\n",
      "Requirement already satisfied: gast!=0.5.0,!=0.5.1,!=0.5.2,>=0.2.1 in /Users/erichuiza/Documents/pucp/miería web/dev/sesion-de-clase-05/.venv/lib/python3.11/site-packages (from tensorflow<2.21,>=2.20->tf-keras) (0.6.0)\r\n",
      "Requirement already satisfied: google_pasta>=0.1.1 in /Users/erichuiza/Documents/pucp/miería web/dev/sesion-de-clase-05/.venv/lib/python3.11/site-packages (from tensorflow<2.21,>=2.20->tf-keras) (0.2.0)\r\n",
      "Requirement already satisfied: libclang>=13.0.0 in /Users/erichuiza/Documents/pucp/miería web/dev/sesion-de-clase-05/.venv/lib/python3.11/site-packages (from tensorflow<2.21,>=2.20->tf-keras) (18.1.1)\r\n",
      "Requirement already satisfied: opt_einsum>=2.3.2 in /Users/erichuiza/Documents/pucp/miería web/dev/sesion-de-clase-05/.venv/lib/python3.11/site-packages (from tensorflow<2.21,>=2.20->tf-keras) (3.4.0)\r\n",
      "Requirement already satisfied: packaging in /Users/erichuiza/Documents/pucp/miería web/dev/sesion-de-clase-05/.venv/lib/python3.11/site-packages (from tensorflow<2.21,>=2.20->tf-keras) (25.0)\r\n",
      "Requirement already satisfied: protobuf>=5.28.0 in /Users/erichuiza/Documents/pucp/miería web/dev/sesion-de-clase-05/.venv/lib/python3.11/site-packages (from tensorflow<2.21,>=2.20->tf-keras) (6.32.1)\r\n",
      "Requirement already satisfied: requests<3,>=2.21.0 in /Users/erichuiza/Documents/pucp/miería web/dev/sesion-de-clase-05/.venv/lib/python3.11/site-packages (from tensorflow<2.21,>=2.20->tf-keras) (2.32.5)\r\n",
      "Requirement already satisfied: setuptools in /Users/erichuiza/Documents/pucp/miería web/dev/sesion-de-clase-05/.venv/lib/python3.11/site-packages (from tensorflow<2.21,>=2.20->tf-keras) (44.1.1)\r\n",
      "Requirement already satisfied: six>=1.12.0 in /Users/erichuiza/Documents/pucp/miería web/dev/sesion-de-clase-05/.venv/lib/python3.11/site-packages (from tensorflow<2.21,>=2.20->tf-keras) (1.17.0)\r\n",
      "Requirement already satisfied: termcolor>=1.1.0 in /Users/erichuiza/Documents/pucp/miería web/dev/sesion-de-clase-05/.venv/lib/python3.11/site-packages (from tensorflow<2.21,>=2.20->tf-keras) (3.1.0)\r\n",
      "Requirement already satisfied: typing_extensions>=3.6.6 in /Users/erichuiza/Documents/pucp/miería web/dev/sesion-de-clase-05/.venv/lib/python3.11/site-packages (from tensorflow<2.21,>=2.20->tf-keras) (4.15.0)\r\n",
      "Requirement already satisfied: wrapt>=1.11.0 in /Users/erichuiza/Documents/pucp/miería web/dev/sesion-de-clase-05/.venv/lib/python3.11/site-packages (from tensorflow<2.21,>=2.20->tf-keras) (1.17.3)\r\n",
      "Requirement already satisfied: grpcio<2.0,>=1.24.3 in /Users/erichuiza/Documents/pucp/miería web/dev/sesion-de-clase-05/.venv/lib/python3.11/site-packages (from tensorflow<2.21,>=2.20->tf-keras) (1.75.0)\r\n",
      "Requirement already satisfied: tensorboard~=2.20.0 in /Users/erichuiza/Documents/pucp/miería web/dev/sesion-de-clase-05/.venv/lib/python3.11/site-packages (from tensorflow<2.21,>=2.20->tf-keras) (2.20.0)\r\n",
      "Requirement already satisfied: keras>=3.10.0 in /Users/erichuiza/Documents/pucp/miería web/dev/sesion-de-clase-05/.venv/lib/python3.11/site-packages (from tensorflow<2.21,>=2.20->tf-keras) (3.11.3)\r\n",
      "Requirement already satisfied: numpy>=1.26.0 in /Users/erichuiza/Documents/pucp/miería web/dev/sesion-de-clase-05/.venv/lib/python3.11/site-packages (from tensorflow<2.21,>=2.20->tf-keras) (1.26.4)\r\n",
      "Requirement already satisfied: h5py>=3.11.0 in /Users/erichuiza/Documents/pucp/miería web/dev/sesion-de-clase-05/.venv/lib/python3.11/site-packages (from tensorflow<2.21,>=2.20->tf-keras) (3.14.0)\r\n",
      "Requirement already satisfied: ml_dtypes<1.0.0,>=0.5.1 in /Users/erichuiza/Documents/pucp/miería web/dev/sesion-de-clase-05/.venv/lib/python3.11/site-packages (from tensorflow<2.21,>=2.20->tf-keras) (0.5.3)\r\n",
      "Requirement already satisfied: wheel<1.0,>=0.23.0 in /Users/erichuiza/Documents/pucp/miería web/dev/sesion-de-clase-05/.venv/lib/python3.11/site-packages (from astunparse>=1.6.0->tensorflow<2.21,>=2.20->tf-keras) (0.45.1)\r\n",
      "Requirement already satisfied: rich in /Users/erichuiza/Documents/pucp/miería web/dev/sesion-de-clase-05/.venv/lib/python3.11/site-packages (from keras>=3.10.0->tensorflow<2.21,>=2.20->tf-keras) (14.1.0)\r\n",
      "Requirement already satisfied: namex in /Users/erichuiza/Documents/pucp/miería web/dev/sesion-de-clase-05/.venv/lib/python3.11/site-packages (from keras>=3.10.0->tensorflow<2.21,>=2.20->tf-keras) (0.1.0)\r\n",
      "Requirement already satisfied: optree in /Users/erichuiza/Documents/pucp/miería web/dev/sesion-de-clase-05/.venv/lib/python3.11/site-packages (from keras>=3.10.0->tensorflow<2.21,>=2.20->tf-keras) (0.17.0)\r\n",
      "Requirement already satisfied: charset_normalizer<4,>=2 in /Users/erichuiza/Documents/pucp/miería web/dev/sesion-de-clase-05/.venv/lib/python3.11/site-packages (from requests<3,>=2.21.0->tensorflow<2.21,>=2.20->tf-keras) (3.4.3)\r\n",
      "Requirement already satisfied: idna<4,>=2.5 in /Users/erichuiza/Documents/pucp/miería web/dev/sesion-de-clase-05/.venv/lib/python3.11/site-packages (from requests<3,>=2.21.0->tensorflow<2.21,>=2.20->tf-keras) (3.10)\r\n",
      "Requirement already satisfied: urllib3<3,>=1.21.1 in /Users/erichuiza/Documents/pucp/miería web/dev/sesion-de-clase-05/.venv/lib/python3.11/site-packages (from requests<3,>=2.21.0->tensorflow<2.21,>=2.20->tf-keras) (2.5.0)\r\n",
      "Requirement already satisfied: certifi>=2017.4.17 in /Users/erichuiza/Documents/pucp/miería web/dev/sesion-de-clase-05/.venv/lib/python3.11/site-packages (from requests<3,>=2.21.0->tensorflow<2.21,>=2.20->tf-keras) (2025.8.3)\r\n",
      "Requirement already satisfied: markdown>=2.6.8 in /Users/erichuiza/Documents/pucp/miería web/dev/sesion-de-clase-05/.venv/lib/python3.11/site-packages (from tensorboard~=2.20.0->tensorflow<2.21,>=2.20->tf-keras) (3.9)\r\n",
      "Requirement already satisfied: pillow in /Users/erichuiza/Documents/pucp/miería web/dev/sesion-de-clase-05/.venv/lib/python3.11/site-packages (from tensorboard~=2.20.0->tensorflow<2.21,>=2.20->tf-keras) (11.3.0)\r\n",
      "Requirement already satisfied: tensorboard-data-server<0.8.0,>=0.7.0 in /Users/erichuiza/Documents/pucp/miería web/dev/sesion-de-clase-05/.venv/lib/python3.11/site-packages (from tensorboard~=2.20.0->tensorflow<2.21,>=2.20->tf-keras) (0.7.2)\r\n",
      "Requirement already satisfied: werkzeug>=1.0.1 in /Users/erichuiza/Documents/pucp/miería web/dev/sesion-de-clase-05/.venv/lib/python3.11/site-packages (from tensorboard~=2.20.0->tensorflow<2.21,>=2.20->tf-keras) (3.1.3)\r\n",
      "Requirement already satisfied: MarkupSafe>=2.1.1 in /Users/erichuiza/Documents/pucp/miería web/dev/sesion-de-clase-05/.venv/lib/python3.11/site-packages (from werkzeug>=1.0.1->tensorboard~=2.20.0->tensorflow<2.21,>=2.20->tf-keras) (3.0.2)\r\n",
      "Requirement already satisfied: markdown-it-py>=2.2.0 in /Users/erichuiza/Documents/pucp/miería web/dev/sesion-de-clase-05/.venv/lib/python3.11/site-packages (from rich->keras>=3.10.0->tensorflow<2.21,>=2.20->tf-keras) (4.0.0)\r\n",
      "Requirement already satisfied: pygments<3.0.0,>=2.13.0 in /Users/erichuiza/Documents/pucp/miería web/dev/sesion-de-clase-05/.venv/lib/python3.11/site-packages (from rich->keras>=3.10.0->tensorflow<2.21,>=2.20->tf-keras) (2.19.2)\r\n",
      "Requirement already satisfied: mdurl~=0.1 in /Users/erichuiza/Documents/pucp/miería web/dev/sesion-de-clase-05/.venv/lib/python3.11/site-packages (from markdown-it-py>=2.2.0->rich->keras>=3.10.0->tensorflow<2.21,>=2.20->tf-keras) (0.1.2)\r\n",
      "Downloading tf_keras-2.20.1-py3-none-any.whl (1.7 MB)\r\n",
      "\u001B[2K   \u001B[90m━━━━━━━━━━━━━━━━━━━━━━━━━━━━━━━━━━━━━━━━\u001B[0m \u001B[32m1.7/1.7 MB\u001B[0m \u001B[31m39.8 MB/s\u001B[0m eta \u001B[36m0:00:00\u001B[0m\r\n",
      "\u001B[?25hInstalling collected packages: tf-keras\r\n",
      "Successfully installed tf-keras-2.20.1\r\n",
      "\r\n",
      "\u001B[1m[\u001B[0m\u001B[34;49mnotice\u001B[0m\u001B[1;39;49m]\u001B[0m\u001B[39;49m A new release of pip is available: \u001B[0m\u001B[31;49m24.3.1\u001B[0m\u001B[39;49m -> \u001B[0m\u001B[32;49m25.2\u001B[0m\r\n",
      "\u001B[1m[\u001B[0m\u001B[34;49mnotice\u001B[0m\u001B[1;39;49m]\u001B[0m\u001B[39;49m To update, run: \u001B[0m\u001B[32;49mpip install --upgrade pip\u001B[0m\r\n"
     ]
    }
   ],
   "execution_count": 10
  },
  {
   "metadata": {
    "ExecuteTime": {
     "end_time": "2025-09-23T18:20:19.399610Z",
     "start_time": "2025-09-23T18:20:19.392369Z"
    }
   },
   "cell_type": "code",
   "source": [
    "import os\n",
    "import pandas as pd\n",
    "import numpy as np\n",
    "import tensorflow as tf\n",
    "\n",
    "PRODUCTS_CSV = \"../data/productos.csv\"\n",
    "COMMENTS_CSV = \"../data/comentarios.csv\"\n",
    "\n",
    "productos = pd.read_csv(PRODUCTS_CSV)\n",
    "comentarios = pd.read_csv(COMMENTS_CSV)"
   ],
   "id": "9940e7d0ae6a055c",
   "outputs": [],
   "execution_count": 11
  },
  {
   "metadata": {
    "ExecuteTime": {
     "end_time": "2025-09-23T18:07:22.171955Z",
     "start_time": "2025-09-23T18:07:22.169541Z"
    }
   },
   "cell_type": "code",
   "source": [
    "print(\"Productos:\", productos.shape)\n",
    "print(\"Comentarios:\", comentarios.shape)\n",
    "\n",
    "print(\"Columnas productos:\", productos.columns.tolist())\n",
    "print(\"Columnas comentarios:\", comentarios.columns.tolist())"
   ],
   "id": "e5e227aa338da065",
   "outputs": [
    {
     "name": "stdout",
     "output_type": "stream",
     "text": [
      "Productos: (10, 6)\n",
      "Comentarios: (620, 6)\n",
      "Columnas productos: ['id_producto', 'nombre_producto', 'categoria', 'subcategoria', 'precio', 'descripcion']\n",
      "Columnas comentarios: ['id_comentario', 'id_cliente', 'id_producto', 'calificacion', 'texto_comentario', 'fecha_comentario']\n"
     ]
    }
   ],
   "execution_count": 5
  },
  {
   "metadata": {
    "ExecuteTime": {
     "end_time": "2025-09-23T18:10:07.706223Z",
     "start_time": "2025-09-23T18:10:07.693111Z"
    }
   },
   "cell_type": "code",
   "source": [
    "# Merge (inner) para quedarnos con comentarios que sí tengan producto\n",
    "df = comentarios.merge(productos, on=\"id_producto\", how=\"inner\")\n",
    "print(\"Dataset unido:\", df.shape)\n",
    "df.head()"
   ],
   "id": "a5ac9fa5c2b88a3c",
   "outputs": [
    {
     "name": "stdout",
     "output_type": "stream",
     "text": [
      "Dataset unido: (620, 11)\n"
     ]
    },
    {
     "data": {
      "text/plain": [
       "   id_comentario  id_cliente  id_producto  calificacion  \\\n",
       "0              1           1            2             5   \n",
       "1              2           2            4             4   \n",
       "2              3           3            1             5   \n",
       "3              4           4            5             3   \n",
       "4              5           5            3             4   \n",
       "\n",
       "                                    texto_comentario fecha_comentario  \\\n",
       "0  El Smartphone Nexus 5G es un cambio de juego. ...       2024-05-20   \n",
       "1  La Camiseta Deportiva Ultralight es muy cómoda...       2024-05-21   \n",
       "2  La Laptop Gamer Pro es una bestia de rendimien...       2024-05-22   \n",
       "3  Las Zapatillas Urbanas Fit tienen un diseño mu...       2024-05-23   \n",
       "4  Los Auriculares Inalámbricos X ofrecen un soni...       2024-05-24   \n",
       "\n",
       "                 nombre_producto    categoria subcategoria   precio  \\\n",
       "0            Smartphone Nexus 5G  Electrónica  Smartphones   899.50   \n",
       "1  Camiseta Deportiva Ultralight         Ropa    Camisetas    35.00   \n",
       "2               Laptop Gamer Pro  Electrónica   Portátiles  1899.99   \n",
       "3         Zapatillas Urbanas Fit         Ropa      Calzado    85.75   \n",
       "4     Auriculares Inalámbricos X  Electrónica        Audio   125.00   \n",
       "\n",
       "                                         descripcion  \n",
       "0  El Smartphone Nexus 5G redefine la experiencia...  \n",
       "1  Camiseta técnica de alto rendimiento para depo...  \n",
       "2  Laptop de alto rendimiento para gaming y creac...  \n",
       "3  Calzado deportivo y casual diseñado para el co...  \n",
       "4  Auriculares Bluetooth de diadema diseñados par...  "
      ],
      "text/html": [
       "<div>\n",
       "<style scoped>\n",
       "    .dataframe tbody tr th:only-of-type {\n",
       "        vertical-align: middle;\n",
       "    }\n",
       "\n",
       "    .dataframe tbody tr th {\n",
       "        vertical-align: top;\n",
       "    }\n",
       "\n",
       "    .dataframe thead th {\n",
       "        text-align: right;\n",
       "    }\n",
       "</style>\n",
       "<table border=\"1\" class=\"dataframe\">\n",
       "  <thead>\n",
       "    <tr style=\"text-align: right;\">\n",
       "      <th></th>\n",
       "      <th>id_comentario</th>\n",
       "      <th>id_cliente</th>\n",
       "      <th>id_producto</th>\n",
       "      <th>calificacion</th>\n",
       "      <th>texto_comentario</th>\n",
       "      <th>fecha_comentario</th>\n",
       "      <th>nombre_producto</th>\n",
       "      <th>categoria</th>\n",
       "      <th>subcategoria</th>\n",
       "      <th>precio</th>\n",
       "      <th>descripcion</th>\n",
       "    </tr>\n",
       "  </thead>\n",
       "  <tbody>\n",
       "    <tr>\n",
       "      <th>0</th>\n",
       "      <td>1</td>\n",
       "      <td>1</td>\n",
       "      <td>2</td>\n",
       "      <td>5</td>\n",
       "      <td>El Smartphone Nexus 5G es un cambio de juego. ...</td>\n",
       "      <td>2024-05-20</td>\n",
       "      <td>Smartphone Nexus 5G</td>\n",
       "      <td>Electrónica</td>\n",
       "      <td>Smartphones</td>\n",
       "      <td>899.50</td>\n",
       "      <td>El Smartphone Nexus 5G redefine la experiencia...</td>\n",
       "    </tr>\n",
       "    <tr>\n",
       "      <th>1</th>\n",
       "      <td>2</td>\n",
       "      <td>2</td>\n",
       "      <td>4</td>\n",
       "      <td>4</td>\n",
       "      <td>La Camiseta Deportiva Ultralight es muy cómoda...</td>\n",
       "      <td>2024-05-21</td>\n",
       "      <td>Camiseta Deportiva Ultralight</td>\n",
       "      <td>Ropa</td>\n",
       "      <td>Camisetas</td>\n",
       "      <td>35.00</td>\n",
       "      <td>Camiseta técnica de alto rendimiento para depo...</td>\n",
       "    </tr>\n",
       "    <tr>\n",
       "      <th>2</th>\n",
       "      <td>3</td>\n",
       "      <td>3</td>\n",
       "      <td>1</td>\n",
       "      <td>5</td>\n",
       "      <td>La Laptop Gamer Pro es una bestia de rendimien...</td>\n",
       "      <td>2024-05-22</td>\n",
       "      <td>Laptop Gamer Pro</td>\n",
       "      <td>Electrónica</td>\n",
       "      <td>Portátiles</td>\n",
       "      <td>1899.99</td>\n",
       "      <td>Laptop de alto rendimiento para gaming y creac...</td>\n",
       "    </tr>\n",
       "    <tr>\n",
       "      <th>3</th>\n",
       "      <td>4</td>\n",
       "      <td>4</td>\n",
       "      <td>5</td>\n",
       "      <td>3</td>\n",
       "      <td>Las Zapatillas Urbanas Fit tienen un diseño mu...</td>\n",
       "      <td>2024-05-23</td>\n",
       "      <td>Zapatillas Urbanas Fit</td>\n",
       "      <td>Ropa</td>\n",
       "      <td>Calzado</td>\n",
       "      <td>85.75</td>\n",
       "      <td>Calzado deportivo y casual diseñado para el co...</td>\n",
       "    </tr>\n",
       "    <tr>\n",
       "      <th>4</th>\n",
       "      <td>5</td>\n",
       "      <td>5</td>\n",
       "      <td>3</td>\n",
       "      <td>4</td>\n",
       "      <td>Los Auriculares Inalámbricos X ofrecen un soni...</td>\n",
       "      <td>2024-05-24</td>\n",
       "      <td>Auriculares Inalámbricos X</td>\n",
       "      <td>Electrónica</td>\n",
       "      <td>Audio</td>\n",
       "      <td>125.00</td>\n",
       "      <td>Auriculares Bluetooth de diadema diseñados par...</td>\n",
       "    </tr>\n",
       "  </tbody>\n",
       "</table>\n",
       "</div>"
      ]
     },
     "execution_count": 6,
     "metadata": {},
     "output_type": "execute_result"
    }
   ],
   "execution_count": 6
  },
  {
   "metadata": {
    "ExecuteTime": {
     "end_time": "2025-09-23T18:26:34.334053Z",
     "start_time": "2025-09-23T18:26:24.381733Z"
    }
   },
   "cell_type": "code",
   "source": [
    "# Remover Stopwords y Lematizar en español.\n",
    "try:\n",
    "    import spacy\n",
    "    nlp = spacy.load(\"es_core_news_sm\")\n",
    "    print(\"spaCy cargado: usando lematización y stopwords de spaCy.\")\n",
    "\n",
    "    def preprocess_spacy(text):\n",
    "        doc = nlp(str(text).lower())\n",
    "        tokens = [t.lemma_ for t in doc if not t.is_stop and t.is_alpha]\n",
    "        return \" \".join(tokens)\n",
    "\n",
    "    df[\"nombre_producto_proc\"] = df[\"nombre_producto\"].apply(preprocess_spacy)\n",
    "    df[\"descripcion_proc\"] = df[\"descripcion\"].apply(preprocess_spacy)\n",
    "    df[\"comentario_proc\"] = df[\"texto_comentario\"].apply(preprocess_spacy)\n",
    "\n",
    "except Exception as e:\n",
    "    print(\"spaCy no disponible o error cargando modelo\", e)\n",
    "\n",
    "# Revisa resultados\n",
    "df[[\"nombre_producto\", \"nombre_producto_proc\", \"descripcion\", \"descripcion_proc\", \"texto_comentario\", \"comentario_proc\"]].head()"
   ],
   "id": "f9112d276fe2136b",
   "outputs": [
    {
     "name": "stdout",
     "output_type": "stream",
     "text": [
      "spaCy cargado: usando lematización y stopwords de spaCy.\n"
     ]
    },
    {
     "data": {
      "text/plain": [
       "                 nombre_producto           nombre_producto_proc  \\\n",
       "0            Smartphone Nexus 5G            smartphonir nexus g   \n",
       "1  Camiseta Deportiva Ultralight  camiseta deportivo ultralight   \n",
       "2               Laptop Gamer Pro               laptop gamer pro   \n",
       "3         Zapatillas Urbanas Fit           zapatilla urbano fit   \n",
       "4     Auriculares Inalámbricos X        auricular inalámbrico x   \n",
       "\n",
       "                                         descripcion  \\\n",
       "0  El Smartphone Nexus 5G redefine la experiencia...   \n",
       "1  Camiseta técnica de alto rendimiento para depo...   \n",
       "2  Laptop de alto rendimiento para gaming y creac...   \n",
       "3  Calzado deportivo y casual diseñado para el co...   \n",
       "4  Auriculares Bluetooth de diadema diseñados par...   \n",
       "\n",
       "                                    descripcion_proc  \\\n",
       "0  smartphonir nexus g redefinar experiencia móvi...   \n",
       "1  camiseta técnico alto rendimiento deporte fabr...   \n",
       "2  laptop alto rendimiento gaming creación conten...   \n",
       "3  calzado deportivo casual diseñado confort diar...   \n",
       "4  auricular bluetooth diadema diseñado audiofi é...   \n",
       "\n",
       "                                    texto_comentario  \\\n",
       "0  El Smartphone Nexus 5G es un cambio de juego. ...   \n",
       "1  La Camiseta Deportiva Ultralight es muy cómoda...   \n",
       "2  La Laptop Gamer Pro es una bestia de rendimien...   \n",
       "3  Las Zapatillas Urbanas Fit tienen un diseño mu...   \n",
       "4  Los Auriculares Inalámbricos X ofrecen un soni...   \n",
       "\n",
       "                                     comentario_proc  \n",
       "0  smartphonir nexus g cambio juego pantalla oled...  \n",
       "1  camiseta deportivo ultralight cómodo entrenami...  \n",
       "2  laptop gamer pro bestia rendimiento superar ex...  \n",
       "3  zapatilla urbano fit diseño atractivo resultar...  \n",
       "4  auricular inalámbrico x ofrecer sonido nítido ...  "
      ],
      "text/html": [
       "<div>\n",
       "<style scoped>\n",
       "    .dataframe tbody tr th:only-of-type {\n",
       "        vertical-align: middle;\n",
       "    }\n",
       "\n",
       "    .dataframe tbody tr th {\n",
       "        vertical-align: top;\n",
       "    }\n",
       "\n",
       "    .dataframe thead th {\n",
       "        text-align: right;\n",
       "    }\n",
       "</style>\n",
       "<table border=\"1\" class=\"dataframe\">\n",
       "  <thead>\n",
       "    <tr style=\"text-align: right;\">\n",
       "      <th></th>\n",
       "      <th>nombre_producto</th>\n",
       "      <th>nombre_producto_proc</th>\n",
       "      <th>descripcion</th>\n",
       "      <th>descripcion_proc</th>\n",
       "      <th>texto_comentario</th>\n",
       "      <th>comentario_proc</th>\n",
       "    </tr>\n",
       "  </thead>\n",
       "  <tbody>\n",
       "    <tr>\n",
       "      <th>0</th>\n",
       "      <td>Smartphone Nexus 5G</td>\n",
       "      <td>smartphonir nexus g</td>\n",
       "      <td>El Smartphone Nexus 5G redefine la experiencia...</td>\n",
       "      <td>smartphonir nexus g redefinar experiencia móvi...</td>\n",
       "      <td>El Smartphone Nexus 5G es un cambio de juego. ...</td>\n",
       "      <td>smartphonir nexus g cambio juego pantalla oled...</td>\n",
       "    </tr>\n",
       "    <tr>\n",
       "      <th>1</th>\n",
       "      <td>Camiseta Deportiva Ultralight</td>\n",
       "      <td>camiseta deportivo ultralight</td>\n",
       "      <td>Camiseta técnica de alto rendimiento para depo...</td>\n",
       "      <td>camiseta técnico alto rendimiento deporte fabr...</td>\n",
       "      <td>La Camiseta Deportiva Ultralight es muy cómoda...</td>\n",
       "      <td>camiseta deportivo ultralight cómodo entrenami...</td>\n",
       "    </tr>\n",
       "    <tr>\n",
       "      <th>2</th>\n",
       "      <td>Laptop Gamer Pro</td>\n",
       "      <td>laptop gamer pro</td>\n",
       "      <td>Laptop de alto rendimiento para gaming y creac...</td>\n",
       "      <td>laptop alto rendimiento gaming creación conten...</td>\n",
       "      <td>La Laptop Gamer Pro es una bestia de rendimien...</td>\n",
       "      <td>laptop gamer pro bestia rendimiento superar ex...</td>\n",
       "    </tr>\n",
       "    <tr>\n",
       "      <th>3</th>\n",
       "      <td>Zapatillas Urbanas Fit</td>\n",
       "      <td>zapatilla urbano fit</td>\n",
       "      <td>Calzado deportivo y casual diseñado para el co...</td>\n",
       "      <td>calzado deportivo casual diseñado confort diar...</td>\n",
       "      <td>Las Zapatillas Urbanas Fit tienen un diseño mu...</td>\n",
       "      <td>zapatilla urbano fit diseño atractivo resultar...</td>\n",
       "    </tr>\n",
       "    <tr>\n",
       "      <th>4</th>\n",
       "      <td>Auriculares Inalámbricos X</td>\n",
       "      <td>auricular inalámbrico x</td>\n",
       "      <td>Auriculares Bluetooth de diadema diseñados par...</td>\n",
       "      <td>auricular bluetooth diadema diseñado audiofi é...</td>\n",
       "      <td>Los Auriculares Inalámbricos X ofrecen un soni...</td>\n",
       "      <td>auricular inalámbrico x ofrecer sonido nítido ...</td>\n",
       "    </tr>\n",
       "  </tbody>\n",
       "</table>\n",
       "</div>"
      ]
     },
     "execution_count": 14,
     "metadata": {},
     "output_type": "execute_result"
    }
   ],
   "execution_count": 14
  },
  {
   "metadata": {
    "ExecuteTime": {
     "end_time": "2025-09-23T19:04:13.135537Z",
     "start_time": "2025-09-23T19:04:10.332744Z"
    }
   },
   "cell_type": "code",
   "source": [
    "from sentence_transformers import SentenceTransformer\n",
    "\n",
    "print(\"SentenceTransformers disponible. Usando modelo multilingüe.\")\n",
    "model_name = \"sentence-transformers/paraphrase-multilingual-MiniLM-L12-v2\"\n",
    "st_model = SentenceTransformer(model_name)"
   ],
   "id": "51ea1736c3d44a03",
   "outputs": [
    {
     "name": "stdout",
     "output_type": "stream",
     "text": [
      "SentenceTransformers disponible. Usando modelo multilingüe.\n"
     ]
    }
   ],
   "execution_count": 30
  },
  {
   "metadata": {
    "ExecuteTime": {
     "end_time": "2025-09-23T19:04:16.335462Z",
     "start_time": "2025-09-23T19:04:16.330282Z"
    }
   },
   "cell_type": "code",
   "source": [
    "import random\n",
    "\n",
    "productos_unicos = df[[\"id_producto\", \"nombre_producto_proc\", \"descripcion_proc\"]].drop_duplicates(subset=\"id_producto\").reset_index(drop=True)\n",
    "\n",
    "nombres_textos = productos_unicos[\"nombre_producto_proc\"].tolist()\n",
    "productos_textos = productos_unicos[\"descripcion_proc\"].tolist()\n",
    "comentarios_textos = df[\"comentario_proc\"].tolist()\n",
    "todos_textos = nombres_textos + productos_textos + comentarios_textos\n",
    "\n",
    "# Mostrar 5 elementos aleatorios de la lista combinada\n",
    "muestra_aleatoria = random.sample(todos_textos, 5)\n",
    "\n",
    "print(\"Muestra aleatoria de la lista 'todos_textos':\")\n",
    "for i, texto in enumerate(muestra_aleatoria):\n",
    "    print(f\"{i+1}. {texto}\")"
   ],
   "id": "c9ea5670284fc297",
   "outputs": [
    {
     "name": "stdout",
     "output_type": "stream",
     "text": [
      "Muestra aleatoria de la lista 'todos_textos':\n",
      "1. olla calidad limpiar fácilmente comida pegar\n",
      "2. laptop superar expectativa potente pantalla alto resolución teclado cómodo\n",
      "3. encantar diseño minimalista útil mochilo perfecto universidad puerto carga ventaja\n",
      "4. cámara aplicación móvil lento calidad video excelente usabilidad\n",
      "5. laptop potente pantalla fuga luz detalle menor rendimiento fantástico\n"
     ]
    }
   ],
   "execution_count": 31
  },
  {
   "metadata": {
    "ExecuteTime": {
     "end_time": "2025-09-23T19:04:20.440850Z",
     "start_time": "2025-09-23T19:04:20.208506Z"
    }
   },
   "cell_type": "code",
   "source": [
    "embeddings = st_model.encode(todos_textos, convert_to_numpy=True, show_progress_bar=True)\n",
    "embedding_dim = embeddings.shape[1]\n",
    "print(\"Embeddings generados con SentenceTransformers - shape:\", embeddings.shape)"
   ],
   "id": "f52534f422f48d36",
   "outputs": [
    {
     "name": "stderr",
     "output_type": "stream",
     "text": [
      "Batches: 100%|██████████| 20/20 [00:00<00:00, 89.65it/s]"
     ]
    },
    {
     "name": "stdout",
     "output_type": "stream",
     "text": [
      "Embeddings generados con SentenceTransformers - shape: (640, 384)\n"
     ]
    },
    {
     "name": "stderr",
     "output_type": "stream",
     "text": [
      "\n"
     ]
    }
   ],
   "execution_count": 32
  },
  {
   "metadata": {
    "ExecuteTime": {
     "end_time": "2025-09-23T19:18:29.569304Z",
     "start_time": "2025-09-23T19:18:29.555150Z"
    }
   },
   "cell_type": "code",
   "source": [
    "out_dir = \"logs/embeddings\"\n",
    "os.makedirs(out_dir, exist_ok=True)\n",
    "\n",
    "def make_label(text, n_words=5):\n",
    "    return \" \".join(text.split()[:n_words])\n",
    "\n",
    "# Crear metadata con columnas: tipo, label, texto_completo\n",
    "metadata = pd.DataFrame({\n",
    "    \"label\": [make_label(t, 5) for t in nombres_textos + productos_textos + comentarios_textos],\n",
    "    \"tipo\": [\"producto\"]*len(nombres_textos) + [\"producto\"]*len(productos_textos) + [\"comentario\"]*len(comentarios_textos),\n",
    "    \"texto_completo\": nombres_textos + productos_textos + comentarios_textos\n",
    "})\n",
    "\n",
    "# Guardar como TSV para TensorBoard Projector\n",
    "metadata_path = os.path.join(out_dir, \"metadata.tsv\")\n",
    "metadata.to_csv(metadata_path, sep=\"\\t\", index=False)\n",
    "\n",
    "print(\"Metadata guardada en:\", metadata_path)\n",
    "\n",
    "# Guardar checkpoint con los embeddings (TensorFlow expects a Variable)\n",
    "emb_var = tf.Variable(embeddings, name=\"embeddings\")\n",
    "ckpt = tf.train.Checkpoint(embedding=emb_var)\n",
    "ckpt.save(os.path.join(out_dir, \"embedding.ckpt\"))\n",
    "\n",
    "print(\"Embeddings guardados en:\", out_dir)\n",
    "print(\"Ejecuta en terminal: tensorboard --logdir logs/embeddings\")"
   ],
   "id": "e066aa836a79dff",
   "outputs": [
    {
     "name": "stdout",
     "output_type": "stream",
     "text": [
      "Metadata guardada en: logs/embeddings/metadata.tsv\n",
      "Embeddings guardados en: logs/embeddings\n",
      "Ejecuta en terminal: tensorboard --logdir logs/embeddings\n"
     ]
    }
   ],
   "execution_count": 40
  },
  {
   "metadata": {
    "ExecuteTime": {
     "end_time": "2025-09-23T19:04:26.061888Z",
     "start_time": "2025-09-23T19:04:26.056846Z"
    }
   },
   "cell_type": "code",
   "source": [
    "# Concatenamos para generar embeddings juntos\n",
    "todos_textos = nombres_textos + productos_textos + comentarios_textos\n",
    "\n",
    "# Separar Embeddings\n",
    "nombres_count = len(nombres_textos)\n",
    "desc_count = len(productos_textos)\n",
    "comm_count = len(comentarios_textos)\n",
    "\n",
    "# Embeddings de nombres y descripciones de productos\n",
    "nombres_emb = embeddings[:nombres_count]\n",
    "desc_emb = embeddings[nombres_count:nombres_count+desc_count]\n",
    "\n",
    "# Combinar embeddings de nombre + descripción por producto\n",
    "prod_embeddings = (nombres_emb + desc_emb) / 2\n",
    "\n",
    "# Embeddings de comentarios\n",
    "comm_embeddings = embeddings[nombres_count+desc_count:]\n",
    "\n",
    "def top_k_products_for_comment(comment_idx, k=3):\n",
    "    q = comm_embeddings[comment_idx]\n",
    "    # normalizar\n",
    "    qn = q / np.linalg.norm(q)\n",
    "    Pn = prod_embeddings / np.linalg.norm(prod_embeddings, axis=1, keepdims=True)\n",
    "    sims = np.dot(Pn, qn)  # (num_productos,)\n",
    "    topk_idx = sims.argsort()[::-1][:k]\n",
    "    return [\n",
    "        (\n",
    "            idx,\n",
    "            sims[idx],\n",
    "            productos_textos[idx],   # descripción\n",
    "            nombres_textos[idx],     # nombre producto\n",
    "            df.iloc[idx][\"id_producto\"] if \"id_producto\" in df.columns else None\n",
    "        )\n",
    "        for idx in topk_idx\n",
    "    ]\n",
    "\n",
    "print(\"Comentario (procesado):\", comentarios_textos[10])\n",
    "print(\"Top-3 productos similares:\")\n",
    "for idx, score, desc, nombre, pid in top_k_products_for_comment(10, k=3):\n",
    "    print(f\" - idx_prod={idx}, id_producto={pid}, score={score:.4f}, nombre: {nombre}, desc: {desc}\")"
   ],
   "id": "8792cd990607e10a",
   "outputs": [
    {
     "name": "stdout",
     "output_type": "stream",
     "text": [
      "Comentario (procesado): rendimiento laptop gamer pro excepcional duración batería punto débil tarea básico durar par hora gaming mantener él conectado tiempo limitar portabilidad ideal escritorio llevar él\n",
      "Top-3 productos similares:\n",
      " - idx_prod=2, id_producto=1, score=0.6368, nombre: laptop gamer pro, desc: laptop alto rendimiento gaming creación contenido procesador intel core generación gb ram tarjeta gráfico nvidia rtx pantalla pulgada tasa refresco resolución ofrecer experiencia visual inmersivo chasis aluminio pulido sistema enfriamiento avanzado garantizar rendimiento óptimo sesión juego larga incluir teclado mecánico retroiluminado personalización rgb tecla\n",
      " - idx_prod=8, id_producto=9, score=0.3564, nombre: mochilo urbana tech, desc: mochila moderno funcional vida urbano fabricado poliéster repelente agua compartimento principal funda acolchado laptops pulgada incluir bolsillo frontal organizador bolsillo lateral botella agua puerto carga usb integrado power bank incluido correa acolchada ajustabl panel trasero transpirable garantizar comodidad diseño minimalista unisex\n",
      " - idx_prod=0, id_producto=2, score=0.3400, nombre: smartphonir nexus g, desc: smartphonir nexus g redefinar experiencia móvil pantalla oled pulgada frecuencia proporcionar color vibrante negro profundo cámara principal lente ultra angular teleobjetivo capturar foto calidad profesional condición iluminación equipado procesador qualcomm snapdragon  gen gb ram batería mah teléfono ofrecer rendimiento fluido autonomía excepcional soporto carga rápido\n"
     ]
    }
   ],
   "execution_count": 34
  },
  {
   "metadata": {},
   "cell_type": "code",
   "outputs": [],
   "execution_count": null,
   "source": "# tensorboard --logdir logs/embeddings",
   "id": "2debed3fb0afe676"
  }
 ],
 "metadata": {
  "kernelspec": {
   "display_name": "Python 3",
   "language": "python",
   "name": "python3"
  },
  "language_info": {
   "codemirror_mode": {
    "name": "ipython",
    "version": 2
   },
   "file_extension": ".py",
   "mimetype": "text/x-python",
   "name": "python",
   "nbconvert_exporter": "python",
   "pygments_lexer": "ipython2",
   "version": "2.7.6"
  }
 },
 "nbformat": 4,
 "nbformat_minor": 5
}
