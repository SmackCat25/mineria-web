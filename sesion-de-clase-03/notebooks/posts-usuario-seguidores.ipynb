{
 "cells": [
  {
   "cell_type": "code",
   "id": "initial_id",
   "metadata": {
    "collapsed": true,
    "ExecuteTime": {
     "end_time": "2025-09-03T02:26:01.325860Z",
     "start_time": "2025-09-03T02:26:01.105724Z"
    }
   },
   "source": "import json",
   "outputs": [],
   "execution_count": 1
  },
  {
   "metadata": {
    "ExecuteTime": {
     "end_time": "2025-09-03T02:26:09.225133Z",
     "start_time": "2025-09-03T02:26:09.222546Z"
    }
   },
   "cell_type": "code",
   "source": [
    "with open('../data/posts.json', 'r', encoding='utf-8') as f:\n",
    "    data = json.load(f)"
   ],
   "id": "c6b40cba00c64f7b",
   "outputs": [],
   "execution_count": 2
  },
  {
   "metadata": {
    "ExecuteTime": {
     "end_time": "2025-09-03T02:32:38.044544Z",
     "start_time": "2025-09-03T02:32:38.040825Z"
    }
   },
   "cell_type": "code",
   "source": [
    "tweets = data['data']\n",
    "users = data['includes']['users']\n",
    "\n",
    "def buscar_autor(id_autor):\n",
    "    for user in users:\n",
    "        if user['id'] == id_autor:\n",
    "            return user\n",
    "    return None\n",
    "\n",
    "resultado = []\n",
    "dict = {}\n",
    "\n",
    "for tweet in tweets:\n",
    "    author_id = tweet['author_id']\n",
    "    autor = buscar_autor(author_id)\n",
    "\n",
    "    if autor:\n",
    "        dict['tweet_id'] = tweet['id']\n",
    "        dict['author_id'] = author_id\n",
    "        dict['autor_nombre'] = autor['name']\n",
    "        dict['cant_followers'] = autor['public_metrics']['followers_count']\n",
    "        resultado.append(dict)\n",
    "\n",
    "print(resultado)\n"
   ],
   "id": "9a81a799904dffee",
   "outputs": [
    {
     "name": "stdout",
     "output_type": "stream",
     "text": [
      "[{'tweet_id': '1962983939867295988', 'author_id': '32496789', 'autor_nombre': 'WLOS', 'cant_followers': 105885}, {'tweet_id': '1962983939867295988', 'author_id': '32496789', 'autor_nombre': 'WLOS', 'cant_followers': 105885}, {'tweet_id': '1962983939867295988', 'author_id': '32496789', 'autor_nombre': 'WLOS', 'cant_followers': 105885}, {'tweet_id': '1962983939867295988', 'author_id': '32496789', 'autor_nombre': 'WLOS', 'cant_followers': 105885}, {'tweet_id': '1962983939867295988', 'author_id': '32496789', 'autor_nombre': 'WLOS', 'cant_followers': 105885}, {'tweet_id': '1962983939867295988', 'author_id': '32496789', 'autor_nombre': 'WLOS', 'cant_followers': 105885}, {'tweet_id': '1962983939867295988', 'author_id': '32496789', 'autor_nombre': 'WLOS', 'cant_followers': 105885}, {'tweet_id': '1962983939867295988', 'author_id': '32496789', 'autor_nombre': 'WLOS', 'cant_followers': 105885}, {'tweet_id': '1962983939867295988', 'author_id': '32496789', 'autor_nombre': 'WLOS', 'cant_followers': 105885}, {'tweet_id': '1962983939867295988', 'author_id': '32496789', 'autor_nombre': 'WLOS', 'cant_followers': 105885}]\n"
     ]
    }
   ],
   "execution_count": 8
  }
 ],
 "metadata": {
  "kernelspec": {
   "display_name": "Python 3",
   "language": "python",
   "name": "python3"
  },
  "language_info": {
   "codemirror_mode": {
    "name": "ipython",
    "version": 2
   },
   "file_extension": ".py",
   "mimetype": "text/x-python",
   "name": "python",
   "nbconvert_exporter": "python",
   "pygments_lexer": "ipython2",
   "version": "2.7.6"
  }
 },
 "nbformat": 4,
 "nbformat_minor": 5
}
