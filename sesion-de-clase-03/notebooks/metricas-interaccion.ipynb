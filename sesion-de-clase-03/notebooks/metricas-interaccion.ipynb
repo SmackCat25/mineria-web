{
 "cells": [
  {
   "cell_type": "code",
   "id": "initial_id",
   "metadata": {
    "collapsed": true,
    "ExecuteTime": {
     "end_time": "2025-09-07T02:18:24.156544Z",
     "start_time": "2025-09-07T02:18:23.375867Z"
    }
   },
   "source": [
    "import json\n",
    "import matplotlib.pyplot as plt\n",
    "import pandas as pd"
   ],
   "outputs": [],
   "execution_count": 2
  },
  {
   "metadata": {
    "ExecuteTime": {
     "end_time": "2025-09-07T02:18:24.337112Z",
     "start_time": "2025-09-07T02:18:24.327938Z"
    }
   },
   "cell_type": "code",
   "source": [
    "with open('../data/posts.json', 'r', encoding='utf-8') as f:\n",
    "    data = json.load(f)"
   ],
   "id": "6e5cb8947b24c9d4",
   "outputs": [],
   "execution_count": 3
  },
  {
   "metadata": {
    "ExecuteTime": {
     "end_time": "2025-09-02T22:16:43.549539Z",
     "start_time": "2025-09-02T22:16:43.546878Z"
    }
   },
   "cell_type": "code",
   "source": "tweets = data['data']",
   "id": "bd089543e419e19c",
   "outputs": [],
   "execution_count": 7
  },
  {
   "metadata": {
    "ExecuteTime": {
     "end_time": "2025-09-02T22:16:45.903593Z",
     "start_time": "2025-09-02T22:16:45.900572Z"
    }
   },
   "cell_type": "code",
   "source": [
    "# Extraer métricas\n",
    "retweets = [tweet['public_metrics']['retweet_count'] for tweet in tweets]\n",
    "likes = [tweet['public_metrics']['like_count'] for tweet in tweets]\n",
    "replies = [tweet['public_metrics']['reply_count'] for tweet in tweets]\n",
    "quotes = [tweet['public_metrics']['quote_count'] for tweet in tweets]\n",
    "bookmarks = [tweet['public_metrics']['bookmark_count'] for tweet in tweets]\n",
    "impressions = [tweet['public_metrics']['impression_count'] for tweet in tweets]"
   ],
   "id": "cd0240f64f25ca1d",
   "outputs": [],
   "execution_count": 8
  },
  {
   "metadata": {
    "ExecuteTime": {
     "end_time": "2025-09-02T22:16:48.033466Z",
     "start_time": "2025-09-02T22:16:48.030826Z"
    }
   },
   "cell_type": "code",
   "source": [
    "# Podemos calcular totales\n",
    "total_retweets = sum(retweets)\n",
    "total_likes = sum(likes)\n",
    "total_replies = sum(replies)\n",
    "total_quotes = sum(quotes)\n",
    "total_bookmarks = sum(bookmarks)\n",
    "total_impressions = sum(impressions)"
   ],
   "id": "4d8cb85c5904792e",
   "outputs": [],
   "execution_count": 9
  },
  {
   "metadata": {
    "ExecuteTime": {
     "end_time": "2025-09-02T22:16:50.774213Z",
     "start_time": "2025-09-02T22:16:50.770599Z"
    }
   },
   "cell_type": "code",
   "source": [
    "print(\"Totales de interacción por tipo:\")\n",
    "print(f\"Retweets: {total_retweets}\")\n",
    "print(f\"Likes: {total_likes}\")\n",
    "print(f\"Replies: {total_replies}\")\n",
    "print(f\"Quotes: {total_quotes}\")\n",
    "print(f\"Bookmarks: {total_bookmarks}\")\n",
    "print(f\"Impressions: {total_impressions}\")\n",
    "\n",
    "# Graficar un resumen\n",
    "metricas = ['Retweets', 'Likes', 'Replies', 'Quotes', 'Bookmarks', 'Impressions']\n",
    "valores = [total_retweets, total_likes, total_replies, total_quotes, total_bookmarks, total_impressions]"
   ],
   "id": "cf961d05140e989",
   "outputs": [
    {
     "name": "stdout",
     "output_type": "stream",
     "text": [
      "Totales de interacción por tipo:\n",
      "Retweets: 321\n",
      "Likes: 0\n",
      "Replies: 0\n",
      "Quotes: 0\n",
      "Bookmarks: 0\n",
      "Impressions: 23\n"
     ]
    }
   ],
   "execution_count": 10
  },
  {
   "metadata": {
    "ExecuteTime": {
     "end_time": "2025-09-02T22:17:03.862460Z",
     "start_time": "2025-09-02T22:17:03.801252Z"
    }
   },
   "cell_type": "code",
   "source": [
    "plt.figure(figsize=(10,5))\n",
    "plt.bar(metricas, valores, color='skyblue')\n",
    "plt.title(\"Análisis de métricas de interacción por tweet\")\n",
    "plt.ylabel(\"Cantidad\")\n",
    "plt.show()"
   ],
   "id": "15d3a1c4c7dee647",
   "outputs": [
    {
     "data": {
      "text/plain": [
       "<Figure size 1000x500 with 1 Axes>"
      ],
      "image/png": "[encoded data removed]"
     },
     "metadata": {},
     "output_type": "display_data"
    }
   ],
   "execution_count": 11
  },
  {
   "metadata": {},
   "cell_type": "markdown",
   "source": [
    "# Ejercicio 1\n",
    "\n",
    "- Objetivo: Ver cómo el número de seguidores de un usuario se relaciona con la interacción de sus tweets (likes, retweets, etc.). Datos: tweetsyusers.\n",
    "- Actividad:\n",
    "    - Crear un diccionario de usuarios: user_id-> followers_count.\n",
    "    - Para cada tweet, asociar el author_id con followers_count.\n",
    "    - Graficar la relación followers vs likes o retweets."
   ],
   "id": "75e8ca08c4cc94b0"
  },
  {
   "metadata": {
    "ExecuteTime": {
     "end_time": "2025-09-07T02:18:28.611381Z",
     "start_time": "2025-09-07T02:18:28.600514Z"
    }
   },
   "cell_type": "code",
   "source": [
    "#Keys del json\n",
    "data.keys()\n",
    "\n",
    "## Data: lista\n",
    "## Includes: diccionario"
   ],
   "id": "129daeb72b48db9f",
   "outputs": [
    {
     "data": {
      "text/plain": [
       "dict_keys(['data', 'includes', 'meta'])"
      ]
     },
     "execution_count": 4,
     "metadata": {},
     "output_type": "execute_result"
    }
   ],
   "execution_count": 4
  },
  {
   "metadata": {
    "ExecuteTime": {
     "end_time": "2025-09-07T02:19:15.308222Z",
     "start_time": "2025-09-07T02:19:15.295601Z"
    }
   },
   "cell_type": "code",
   "source": [
    "# Un primer tweet\n",
    "data[\"data\"][0]"
   ],
   "id": "f36ac0aa3d0bd611",
   "outputs": [
    {
     "data": {
      "text/plain": [
       "{'edit_history_tweet_ids': ['1962984178833928424'],\n",
       " 'entities': {'mentions': [{'start': 3,\n",
       "    'end': 19,\n",
       "    'username': 'front_ukrainian',\n",
       "    'id': '1581923931409289217'}]},\n",
       " 'id': '1962984178833928424',\n",
       " 'created_at': '2025-09-02T21:01:13.000Z',\n",
       " 'text': 'RT @front_ukrainian: ❗️🇺🇦Ukrainian troops have begun using a swarm of drones controlled by an artificial intelligence system against 🇷🇺Russ…',\n",
       " 'author_id': '1497890047139454977',\n",
       " 'possibly_sensitive': False,\n",
       " 'conversation_id': '1962984178833928424',\n",
       " 'public_metrics': {'retweet_count': 77,\n",
       "  'reply_count': 0,\n",
       "  'like_count': 0,\n",
       "  'quote_count': 0,\n",
       "  'bookmark_count': 0,\n",
       "  'impression_count': 0},\n",
       " 'referenced_tweets': [{'type': 'retweeted', 'id': '1962971799005888532'}],\n",
       " 'lang': 'en'}"
      ]
     },
     "execution_count": 8,
     "metadata": {},
     "output_type": "execute_result"
    }
   ],
   "execution_count": 8
  },
  {
   "metadata": {
    "ExecuteTime": {
     "end_time": "2025-09-07T02:20:02.242860Z",
     "start_time": "2025-09-07T02:20:02.231183Z"
    }
   },
   "cell_type": "code",
   "source": "data[\"includes\"]['users'][0]",
   "id": "909380cce7053673",
   "outputs": [
    {
     "data": {
      "text/plain": [
       "{'description': 'I follow/support Ukraine and NAFO of course! 🇸🇪🇺🇦\\nDM only if necessary. I will definitely leave this platform when russia is defeated. \\nSoon I hope🙏🏻',\n",
       " 'public_metrics': {'followers_count': 1714,\n",
       "  'following_count': 2502,\n",
       "  'tweet_count': 246804,\n",
       "  'listed_count': 2,\n",
       "  'like_count': 300352,\n",
       "  'media_count': 65},\n",
       " 'created_at': '2022-02-27T11:03:40.000Z',\n",
       " 'verified': False,\n",
       " 'username': 'pia_westerlund',\n",
       " 'location': 'Home sweet home',\n",
       " 'name': 'Pomomo',\n",
       " 'id': '1497890047139454977',\n",
       " 'profile_image_url': 'https://pbs.twimg.com/profile_images/1497890171584397320/YHL-NxFR_normal.png'}"
      ]
     },
     "execution_count": 10,
     "metadata": {},
     "output_type": "execute_result"
    }
   ],
   "execution_count": 10
  },
  {
   "metadata": {},
   "cell_type": "markdown",
   "source": "Recorremos el diccionario de includes-users para extraer Id y public_metrics followers_count",
   "id": "7b569d689a434b49"
  },
  {
   "metadata": {
    "ExecuteTime": {
     "end_time": "2025-09-07T02:34:40.633240Z",
     "start_time": "2025-09-07T02:34:40.623034Z"
    }
   },
   "cell_type": "code",
   "source": [
    "id_followers = {}\n",
    "\n",
    "for user in data[\"includes\"]['users']:\n",
    "    user_id = user['id']\n",
    "    followers = user['public_metrics']['followers_count']\n",
    "    id_followers[user_id] = followers"
   ],
   "id": "d33197f0969dc37b",
   "outputs": [],
   "execution_count": 11
  },
  {
   "metadata": {
    "ExecuteTime": {
     "end_time": "2025-09-07T02:35:00.577492Z",
     "start_time": "2025-09-07T02:35:00.565830Z"
    }
   },
   "cell_type": "code",
   "source": "id_followers.items()",
   "id": "c354ae56bc6bf508",
   "outputs": [
    {
     "data": {
      "text/plain": [
       "dict_items([('1497890047139454977', 1714), ('1745858698696867842', 74), ('163690266', 4607), ('261708927', 1008), ('144760047', 1191), ('1544610765633724417', 462), ('1211004877947592709', 744), ('124312008', 3593), ('1644401797790933003', 1238), ('32496789', 105885)])"
      ]
     },
     "execution_count": 12,
     "metadata": {},
     "output_type": "execute_result"
    }
   ],
   "execution_count": 12
  },
  {
   "metadata": {},
   "cell_type": "markdown",
   "source": "Ahora itero por todos los tweets para unirlo con el followers count",
   "id": "5fc26ac734a2f19d"
  },
  {
   "metadata": {
    "ExecuteTime": {
     "end_time": "2025-09-07T02:37:44.133326Z",
     "start_time": "2025-09-07T02:37:44.118822Z"
    }
   },
   "cell_type": "code",
   "source": "data[\"data\"][0]",
   "id": "a6d1b18439a9aa69",
   "outputs": [
    {
     "data": {
      "text/plain": [
       "{'edit_history_tweet_ids': ['1962984178833928424'],\n",
       " 'entities': {'mentions': [{'start': 3,\n",
       "    'end': 19,\n",
       "    'username': 'front_ukrainian',\n",
       "    'id': '1581923931409289217'}]},\n",
       " 'id': '1962984178833928424',\n",
       " 'created_at': '2025-09-02T21:01:13.000Z',\n",
       " 'text': 'RT @front_ukrainian: ❗️🇺🇦Ukrainian troops have begun using a swarm of drones controlled by an artificial intelligence system against 🇷🇺Russ…',\n",
       " 'author_id': '1497890047139454977',\n",
       " 'possibly_sensitive': False,\n",
       " 'conversation_id': '1962984178833928424',\n",
       " 'public_metrics': {'retweet_count': 77,\n",
       "  'reply_count': 0,\n",
       "  'like_count': 0,\n",
       "  'quote_count': 0,\n",
       "  'bookmark_count': 0,\n",
       "  'impression_count': 0},\n",
       " 'referenced_tweets': [{'type': 'retweeted', 'id': '1962971799005888532'}],\n",
       " 'lang': 'en'}"
      ]
     },
     "execution_count": 13,
     "metadata": {},
     "output_type": "execute_result"
    }
   ],
   "execution_count": 13
  },
  {
   "metadata": {
    "ExecuteTime": {
     "end_time": "2025-09-07T02:50:27.110862Z",
     "start_time": "2025-09-07T02:50:27.101894Z"
    }
   },
   "cell_type": "code",
   "source": [
    "tweet_followers = []\n",
    "\n",
    "for tweet in data[\"data\"]:\n",
    "    author_id = tweet['author_id']\n",
    "\n",
    "    #Lo busco en el primer diccionario\n",
    "    followers_count = id_followers[author_id]\n",
    "    likes = tweet['public_metrics']['like_count']\n",
    "    retweets = tweet['public_metrics']['retweet_count']\n",
    "\n",
    "    tweet_followers.append({\n",
    "        'author_id': author_id,\n",
    "        'followers': followers_count,\n",
    "        'likes': likes,\n",
    "        'retweets': retweets\n",
    "    })\n"
   ],
   "id": "5c5e5e682879e545",
   "outputs": [],
   "execution_count": 18
  },
  {
   "metadata": {
    "ExecuteTime": {
     "end_time": "2025-09-07T02:50:30.625504Z",
     "start_time": "2025-09-07T02:50:30.614091Z"
    }
   },
   "cell_type": "code",
   "source": "tweet_followers",
   "id": "9d621d34e304e9ef",
   "outputs": [
    {
     "data": {
      "text/plain": [
       "[{'author_id': '1497890047139454977',\n",
       "  'followers': 1714,\n",
       "  'likes': 0,\n",
       "  'retweets': 77},\n",
       " {'author_id': '1745858698696867842',\n",
       "  'followers': 74,\n",
       "  'likes': 0,\n",
       "  'retweets': 0},\n",
       " {'author_id': '163690266', 'followers': 4607, 'likes': 0, 'retweets': 77},\n",
       " {'author_id': '261708927', 'followers': 1008, 'likes': 0, 'retweets': 77},\n",
       " {'author_id': '144760047', 'followers': 1191, 'likes': 0, 'retweets': 12},\n",
       " {'author_id': '1544610765633724417',\n",
       "  'followers': 462,\n",
       "  'likes': 0,\n",
       "  'retweets': 0},\n",
       " {'author_id': '1211004877947592709',\n",
       "  'followers': 744,\n",
       "  'likes': 0,\n",
       "  'retweets': 0},\n",
       " {'author_id': '124312008', 'followers': 3593, 'likes': 0, 'retweets': 1},\n",
       " {'author_id': '1644401797790933003',\n",
       "  'followers': 1238,\n",
       "  'likes': 0,\n",
       "  'retweets': 77},\n",
       " {'author_id': '32496789', 'followers': 105885, 'likes': 0, 'retweets': 0}]"
      ]
     },
     "execution_count": 19,
     "metadata": {},
     "output_type": "execute_result"
    }
   ],
   "execution_count": 19
  },
  {
   "metadata": {
    "ExecuteTime": {
     "end_time": "2025-09-07T02:50:33.213120Z",
     "start_time": "2025-09-07T02:50:33.198492Z"
    }
   },
   "cell_type": "code",
   "source": "df.head()",
   "id": "e194b2e334ff3502",
   "outputs": [
    {
     "data": {
      "text/plain": [
       "             author_id  followers_count  likes  retweets\n",
       "0  1497890047139454977             1714      0        77\n",
       "1  1745858698696867842               74      0         0\n",
       "2            163690266             4607      0        77\n",
       "3            261708927             1008      0        77\n",
       "4            144760047             1191      0        12"
      ],
      "text/html": [
       "<div>\n",
       "<style scoped>\n",
       "    .dataframe tbody tr th:only-of-type {\n",
       "        vertical-align: middle;\n",
       "    }\n",
       "\n",
       "    .dataframe tbody tr th {\n",
       "        vertical-align: top;\n",
       "    }\n",
       "\n",
       "    .dataframe thead th {\n",
       "        text-align: right;\n",
       "    }\n",
       "</style>\n",
       "<table border=\"1\" class=\"dataframe\">\n",
       "  <thead>\n",
       "    <tr style=\"text-align: right;\">\n",
       "      <th></th>\n",
       "      <th>author_id</th>\n",
       "      <th>followers_count</th>\n",
       "      <th>likes</th>\n",
       "      <th>retweets</th>\n",
       "    </tr>\n",
       "  </thead>\n",
       "  <tbody>\n",
       "    <tr>\n",
       "      <th>0</th>\n",
       "      <td>1497890047139454977</td>\n",
       "      <td>1714</td>\n",
       "      <td>0</td>\n",
       "      <td>77</td>\n",
       "    </tr>\n",
       "    <tr>\n",
       "      <th>1</th>\n",
       "      <td>1745858698696867842</td>\n",
       "      <td>74</td>\n",
       "      <td>0</td>\n",
       "      <td>0</td>\n",
       "    </tr>\n",
       "    <tr>\n",
       "      <th>2</th>\n",
       "      <td>163690266</td>\n",
       "      <td>4607</td>\n",
       "      <td>0</td>\n",
       "      <td>77</td>\n",
       "    </tr>\n",
       "    <tr>\n",
       "      <th>3</th>\n",
       "      <td>261708927</td>\n",
       "      <td>1008</td>\n",
       "      <td>0</td>\n",
       "      <td>77</td>\n",
       "    </tr>\n",
       "    <tr>\n",
       "      <th>4</th>\n",
       "      <td>144760047</td>\n",
       "      <td>1191</td>\n",
       "      <td>0</td>\n",
       "      <td>12</td>\n",
       "    </tr>\n",
       "  </tbody>\n",
       "</table>\n",
       "</div>"
      ]
     },
     "execution_count": 20,
     "metadata": {},
     "output_type": "execute_result"
    }
   ],
   "execution_count": 20
  },
  {
   "metadata": {
    "ExecuteTime": {
     "end_time": "2025-09-07T02:51:53.968490Z",
     "start_time": "2025-09-07T02:51:53.841358Z"
    }
   },
   "cell_type": "code",
   "source": [
    "df = pd.DataFrame(tweet_followers)\n",
    "\n",
    "plt.figure(figsize=(8,5))\n",
    "plt.scatter(df['followers'], df['likes'], alpha=0.6)\n",
    "plt.xlabel('Número de followers')\n",
    "plt.ylabel('Likes')\n",
    "plt.title('Relación entre followers y likes')\n",
    "plt.grid(True)\n",
    "plt.show()"
   ],
   "id": "c08a6528efd7c798",
   "outputs": [
    {
     "data": {
      "text/plain": [
       "<Figure size 800x500 with 1 Axes>"
      ],
      "image/png": "[encoded data removed]"
     },
     "metadata": {},
     "output_type": "display_data"
    }
   ],
   "execution_count": 22
  },
  {
   "metadata": {},
   "cell_type": "markdown",
   "source": [
    "# Ejercicio 2:\n",
    "Tweets más influyentes por usuario\n",
    "\n",
    "- Objetivo: Identificar qué usuarios generan más interacción promedio.\n",
    "- Datos:tweets y users.\n",
    "- Actividad:\n",
    "    - Agrupar tweets por author_id.\n",
    "    - Calcular promedio de likes, retweets y replies por usuario.\n",
    "    - Ordenar usuarios por interacción promedio.\n",
    "    - Mostrar top 5 usuarios más influyentes"
   ],
   "id": "942faedf862d73e2"
  },
  {
   "metadata": {
    "ExecuteTime": {
     "end_time": "2025-09-07T02:55:28.397365Z",
     "start_time": "2025-09-07T02:55:28.385214Z"
    }
   },
   "cell_type": "code",
   "source": "data['data'][0]",
   "id": "9344ce1a05740792",
   "outputs": [
    {
     "data": {
      "text/plain": [
       "{'edit_history_tweet_ids': ['1962984178833928424'],\n",
       " 'entities': {'mentions': [{'start': 3,\n",
       "    'end': 19,\n",
       "    'username': 'front_ukrainian',\n",
       "    'id': '1581923931409289217'}]},\n",
       " 'id': '1962984178833928424',\n",
       " 'created_at': '2025-09-02T21:01:13.000Z',\n",
       " 'text': 'RT @front_ukrainian: ❗️🇺🇦Ukrainian troops have begun using a swarm of drones controlled by an artificial intelligence system against 🇷🇺Russ…',\n",
       " 'author_id': '1497890047139454977',\n",
       " 'possibly_sensitive': False,\n",
       " 'conversation_id': '1962984178833928424',\n",
       " 'public_metrics': {'retweet_count': 77,\n",
       "  'reply_count': 0,\n",
       "  'like_count': 0,\n",
       "  'quote_count': 0,\n",
       "  'bookmark_count': 0,\n",
       "  'impression_count': 0},\n",
       " 'referenced_tweets': [{'type': 'retweeted', 'id': '1962971799005888532'}],\n",
       " 'lang': 'en'}"
      ]
     },
     "execution_count": 23,
     "metadata": {},
     "output_type": "execute_result"
    }
   ],
   "execution_count": 23
  },
  {
   "metadata": {
    "ExecuteTime": {
     "end_time": "2025-09-07T03:04:22.674878Z",
     "start_time": "2025-09-07T03:04:22.661509Z"
    }
   },
   "cell_type": "code",
   "source": [
    "interacciones = []\n",
    "\n",
    "for tweet in data[\"data\"]:\n",
    "    author_id = tweet['author_id']\n",
    "    like = tweet['public_metrics']['like_count']\n",
    "    retweet = tweet['public_metrics']['retweet_count']\n",
    "    replies = tweet['public_metrics']['reply_count']\n",
    "\n",
    "    interacciones.append({\n",
    "        'author_id': author_id,\n",
    "        'likes': like,\n",
    "        'retweets': retweet,\n",
    "        'replies': replies\n",
    "    })\n"
   ],
   "id": "59d095464066d5f5",
   "outputs": [],
   "execution_count": 31
  },
  {
   "metadata": {
    "ExecuteTime": {
     "end_time": "2025-09-07T03:04:25.597540Z",
     "start_time": "2025-09-07T03:04:25.589902Z"
    }
   },
   "cell_type": "code",
   "source": "df_interacciones = pd.DataFrame(interacciones)",
   "id": "388a461c82eee917",
   "outputs": [],
   "execution_count": 32
  },
  {
   "metadata": {
    "ExecuteTime": {
     "end_time": "2025-09-07T03:04:28.970574Z",
     "start_time": "2025-09-07T03:04:28.957009Z"
    }
   },
   "cell_type": "code",
   "source": "df_interacciones.head()",
   "id": "24264607acee5de3",
   "outputs": [
    {
     "data": {
      "text/plain": [
       "             author_id  likes  retweets  replies\n",
       "0  1497890047139454977      0        77        0\n",
       "1  1745858698696867842      0         0        0\n",
       "2            163690266      0        77        0\n",
       "3            261708927      0        77        0\n",
       "4            144760047      0        12        0"
      ],
      "text/html": [
       "<div>\n",
       "<style scoped>\n",
       "    .dataframe tbody tr th:only-of-type {\n",
       "        vertical-align: middle;\n",
       "    }\n",
       "\n",
       "    .dataframe tbody tr th {\n",
       "        vertical-align: top;\n",
       "    }\n",
       "\n",
       "    .dataframe thead th {\n",
       "        text-align: right;\n",
       "    }\n",
       "</style>\n",
       "<table border=\"1\" class=\"dataframe\">\n",
       "  <thead>\n",
       "    <tr style=\"text-align: right;\">\n",
       "      <th></th>\n",
       "      <th>author_id</th>\n",
       "      <th>likes</th>\n",
       "      <th>retweets</th>\n",
       "      <th>replies</th>\n",
       "    </tr>\n",
       "  </thead>\n",
       "  <tbody>\n",
       "    <tr>\n",
       "      <th>0</th>\n",
       "      <td>1497890047139454977</td>\n",
       "      <td>0</td>\n",
       "      <td>77</td>\n",
       "      <td>0</td>\n",
       "    </tr>\n",
       "    <tr>\n",
       "      <th>1</th>\n",
       "      <td>1745858698696867842</td>\n",
       "      <td>0</td>\n",
       "      <td>0</td>\n",
       "      <td>0</td>\n",
       "    </tr>\n",
       "    <tr>\n",
       "      <th>2</th>\n",
       "      <td>163690266</td>\n",
       "      <td>0</td>\n",
       "      <td>77</td>\n",
       "      <td>0</td>\n",
       "    </tr>\n",
       "    <tr>\n",
       "      <th>3</th>\n",
       "      <td>261708927</td>\n",
       "      <td>0</td>\n",
       "      <td>77</td>\n",
       "      <td>0</td>\n",
       "    </tr>\n",
       "    <tr>\n",
       "      <th>4</th>\n",
       "      <td>144760047</td>\n",
       "      <td>0</td>\n",
       "      <td>12</td>\n",
       "      <td>0</td>\n",
       "    </tr>\n",
       "  </tbody>\n",
       "</table>\n",
       "</div>"
      ]
     },
     "execution_count": 33,
     "metadata": {},
     "output_type": "execute_result"
    }
   ],
   "execution_count": 33
  },
  {
   "metadata": {
    "ExecuteTime": {
     "end_time": "2025-09-07T03:04:30.947185Z",
     "start_time": "2025-09-07T03:04:30.935620Z"
    }
   },
   "cell_type": "code",
   "source": "df_interacciones_mean = df_interacciones.groupby(\"author_id\").mean(\"likes\",\"retweets\",\"replies\").reset_index()",
   "id": "ba75cc75000172e1",
   "outputs": [],
   "execution_count": 34
  },
  {
   "metadata": {
    "ExecuteTime": {
     "end_time": "2025-09-07T03:06:11.378324Z",
     "start_time": "2025-09-07T03:06:11.367117Z"
    }
   },
   "cell_type": "code",
   "source": "df_interacciones_mean[\"interacciones\"] = df_interacciones_mean[\"likes\"] + df_interacciones_mean[\"retweets\"] + df_interacciones_mean[\"replies\"]",
   "id": "665b27eb2ac8db1a",
   "outputs": [],
   "execution_count": 36
  },
  {
   "metadata": {
    "ExecuteTime": {
     "end_time": "2025-09-07T03:06:21.603449Z",
     "start_time": "2025-09-07T03:06:21.584174Z"
    }
   },
   "cell_type": "code",
   "source": "df_interacciones_mean.head()",
   "id": "5e04c2db3b2315fe",
   "outputs": [
    {
     "data": {
      "text/plain": [
       "             author_id  likes  retweets  replies  interacciones\n",
       "0  1211004877947592709    0.0       0.0      0.0            0.0\n",
       "1            124312008    0.0       1.0      0.0            1.0\n",
       "2            144760047    0.0      12.0      0.0           12.0\n",
       "3  1497890047139454977    0.0      77.0      0.0           77.0\n",
       "4  1544610765633724417    0.0       0.0      0.0            0.0"
      ],
      "text/html": [
       "<div>\n",
       "<style scoped>\n",
       "    .dataframe tbody tr th:only-of-type {\n",
       "        vertical-align: middle;\n",
       "    }\n",
       "\n",
       "    .dataframe tbody tr th {\n",
       "        vertical-align: top;\n",
       "    }\n",
       "\n",
       "    .dataframe thead th {\n",
       "        text-align: right;\n",
       "    }\n",
       "</style>\n",
       "<table border=\"1\" class=\"dataframe\">\n",
       "  <thead>\n",
       "    <tr style=\"text-align: right;\">\n",
       "      <th></th>\n",
       "      <th>author_id</th>\n",
       "      <th>likes</th>\n",
       "      <th>retweets</th>\n",
       "      <th>replies</th>\n",
       "      <th>interacciones</th>\n",
       "    </tr>\n",
       "  </thead>\n",
       "  <tbody>\n",
       "    <tr>\n",
       "      <th>0</th>\n",
       "      <td>1211004877947592709</td>\n",
       "      <td>0.0</td>\n",
       "      <td>0.0</td>\n",
       "      <td>0.0</td>\n",
       "      <td>0.0</td>\n",
       "    </tr>\n",
       "    <tr>\n",
       "      <th>1</th>\n",
       "      <td>124312008</td>\n",
       "      <td>0.0</td>\n",
       "      <td>1.0</td>\n",
       "      <td>0.0</td>\n",
       "      <td>1.0</td>\n",
       "    </tr>\n",
       "    <tr>\n",
       "      <th>2</th>\n",
       "      <td>144760047</td>\n",
       "      <td>0.0</td>\n",
       "      <td>12.0</td>\n",
       "      <td>0.0</td>\n",
       "      <td>12.0</td>\n",
       "    </tr>\n",
       "    <tr>\n",
       "      <th>3</th>\n",
       "      <td>1497890047139454977</td>\n",
       "      <td>0.0</td>\n",
       "      <td>77.0</td>\n",
       "      <td>0.0</td>\n",
       "      <td>77.0</td>\n",
       "    </tr>\n",
       "    <tr>\n",
       "      <th>4</th>\n",
       "      <td>1544610765633724417</td>\n",
       "      <td>0.0</td>\n",
       "      <td>0.0</td>\n",
       "      <td>0.0</td>\n",
       "      <td>0.0</td>\n",
       "    </tr>\n",
       "  </tbody>\n",
       "</table>\n",
       "</div>"
      ]
     },
     "execution_count": 38,
     "metadata": {},
     "output_type": "execute_result"
    }
   ],
   "execution_count": 38
  },
  {
   "metadata": {
    "ExecuteTime": {
     "end_time": "2025-09-07T03:07:19.122447Z",
     "start_time": "2025-09-07T03:07:19.107947Z"
    }
   },
   "cell_type": "code",
   "source": "df_interacciones_mean.sort_values(by=\"interacciones\",ascending = False).head()",
   "id": "ca62f0028d145511",
   "outputs": [
    {
     "data": {
      "text/plain": [
       "             author_id  likes  retweets  replies  interacciones\n",
       "5            163690266    0.0      77.0      0.0           77.0\n",
       "3  1497890047139454977    0.0      77.0      0.0           77.0\n",
       "8            261708927    0.0      77.0      0.0           77.0\n",
       "6  1644401797790933003    0.0      77.0      0.0           77.0\n",
       "2            144760047    0.0      12.0      0.0           12.0"
      ],
      "text/html": [
       "<div>\n",
       "<style scoped>\n",
       "    .dataframe tbody tr th:only-of-type {\n",
       "        vertical-align: middle;\n",
       "    }\n",
       "\n",
       "    .dataframe tbody tr th {\n",
       "        vertical-align: top;\n",
       "    }\n",
       "\n",
       "    .dataframe thead th {\n",
       "        text-align: right;\n",
       "    }\n",
       "</style>\n",
       "<table border=\"1\" class=\"dataframe\">\n",
       "  <thead>\n",
       "    <tr style=\"text-align: right;\">\n",
       "      <th></th>\n",
       "      <th>author_id</th>\n",
       "      <th>likes</th>\n",
       "      <th>retweets</th>\n",
       "      <th>replies</th>\n",
       "      <th>interacciones</th>\n",
       "    </tr>\n",
       "  </thead>\n",
       "  <tbody>\n",
       "    <tr>\n",
       "      <th>5</th>\n",
       "      <td>163690266</td>\n",
       "      <td>0.0</td>\n",
       "      <td>77.0</td>\n",
       "      <td>0.0</td>\n",
       "      <td>77.0</td>\n",
       "    </tr>\n",
       "    <tr>\n",
       "      <th>3</th>\n",
       "      <td>1497890047139454977</td>\n",
       "      <td>0.0</td>\n",
       "      <td>77.0</td>\n",
       "      <td>0.0</td>\n",
       "      <td>77.0</td>\n",
       "    </tr>\n",
       "    <tr>\n",
       "      <th>8</th>\n",
       "      <td>261708927</td>\n",
       "      <td>0.0</td>\n",
       "      <td>77.0</td>\n",
       "      <td>0.0</td>\n",
       "      <td>77.0</td>\n",
       "    </tr>\n",
       "    <tr>\n",
       "      <th>6</th>\n",
       "      <td>1644401797790933003</td>\n",
       "      <td>0.0</td>\n",
       "      <td>77.0</td>\n",
       "      <td>0.0</td>\n",
       "      <td>77.0</td>\n",
       "    </tr>\n",
       "    <tr>\n",
       "      <th>2</th>\n",
       "      <td>144760047</td>\n",
       "      <td>0.0</td>\n",
       "      <td>12.0</td>\n",
       "      <td>0.0</td>\n",
       "      <td>12.0</td>\n",
       "    </tr>\n",
       "  </tbody>\n",
       "</table>\n",
       "</div>"
      ]
     },
     "execution_count": 40,
     "metadata": {},
     "output_type": "execute_result"
    }
   ],
   "execution_count": 40
  }
 ],
 "metadata": {
  "kernelspec": {
   "display_name": "Python 3",
   "language": "python",
   "name": "python3"
  },
  "language_info": {
   "codemirror_mode": {
    "name": "ipython",
    "version": 2
   },
   "file_extension": ".py",
   "mimetype": "text/x-python",
   "name": "python",
   "nbconvert_exporter": "python",
   "pygments_lexer": "ipython2",
   "version": "2.7.6"
  }
 },
 "nbformat": 4,
 "nbformat_minor": 5
}
