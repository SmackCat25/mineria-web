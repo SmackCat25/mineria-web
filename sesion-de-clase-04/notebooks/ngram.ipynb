{
 "cells": [
  {
   "cell_type": "code",
   "id": "initial_id",
   "metadata": {
    "collapsed": true,
    "ExecuteTime": {
     "end_time": "2025-09-10T01:10:01.339252Z",
     "start_time": "2025-09-10T01:10:01.334435Z"
    }
   },
   "source": [
    "import random\n",
    "import re\n",
    "from collections import defaultdict"
   ],
   "outputs": [],
   "execution_count": 1
  },
  {
   "metadata": {
    "ExecuteTime": {
     "end_time": "2025-09-10T01:10:01.391155Z",
     "start_time": "2025-09-10T01:10:01.386158Z"
    }
   },
   "cell_type": "code",
   "source": [
    "class NgramModel:\n",
    "    \"\"\"\n",
    "    Esta clase implementa un modelo de n-gramas.\n",
    "    \"\"\"\n",
    "    def __init__(self, n):\n",
    "        \"\"\"\n",
    "        Inicializa el modelo de n-gramas.\n",
    "\n",
    "        Args:\n",
    "            n (int): El tamaño del n-grama (ej. 2 para bigramas, 3 para trigramas).\n",
    "        \"\"\"\n",
    "        if n < 1:\n",
    "            raise ValueError(\"n debe ser un número entero positivo.\")\n",
    "\n",
    "        self.n = n\n",
    "        self.ngrams = defaultdict(list)\n",
    "        self.corpus_words = []\n",
    "\n",
    "    def train(self, text):\n",
    "        \"\"\"\n",
    "        Entrena el modelo con un corpus de texto.\n",
    "\n",
    "        Args:\n",
    "            text: El texto a usar para entrenar el modelo.\n",
    "        \"\"\"\n",
    "        # Limpia y tokeniza el texto\n",
    "        # El patrón de expresión regular \\w+ busca una o más palabras\n",
    "        words = re.findall(r'\\w+', text.lower())\n",
    "        self.corpus_words = words\n",
    "\n",
    "        if len(words) < self.n:\n",
    "            print(\"El texto es demasiado corto para el tamaño del n-grama.\")\n",
    "            return\n",
    "\n",
    "        # Construye y entrena el modelo de n-gramas\n",
    "        for i in range(len(words) - self.n + 1):\n",
    "            # El prefijo es la secuencia de n-1 palabras\n",
    "            prefix = tuple(words[i:i + self.n - 1])\n",
    "            # El siguiente token es la palabra que viene después del prefijo\n",
    "            token = words[i + self.n - 1]\n",
    "            self.ngrams[prefix].append(token)\n",
    "\n",
    "    def generate(self, start_word, length):\n",
    "        \"\"\"\n",
    "        Genera una secuencia de texto usando el modelo de n-gramas.\n",
    "\n",
    "        Args:\n",
    "            start_word (str): La palabra inicial para la secuencia generada.\n",
    "            length (int): El número de palabras a generar.\n",
    "\n",
    "        Returns:\n",
    "            str: La secuencia de texto generada.\n",
    "        \"\"\"\n",
    "        if self.n > 1:\n",
    "            # Crea un prefijo inicial de n-1 palabras, repitiendo la palabra inicial\n",
    "            current_prefix = tuple([start_word] * (self.n - 1))\n",
    "        else: # Para el caso de unigramas (n=1)\n",
    "            current_prefix = ()\n",
    "\n",
    "        generated_text = [start_word]\n",
    "\n",
    "        for _ in range(length - 1):\n",
    "            possible_next_words = self.ngrams.get(current_prefix)\n",
    "\n",
    "            if possible_next_words:\n",
    "                next_word = random.choice(possible_next_words)\n",
    "            else:\n",
    "                # Si el prefijo no se encuentra, elige una palabra aleatoria del corpus\n",
    "                # Esto evita que la generación se detenga\n",
    "                if not self.corpus_words:\n",
    "                    return \"No se puede generar texto, el corpus está vacío.\"\n",
    "                next_word = random.choice(self.corpus_words)\n",
    "\n",
    "            generated_text.append(next_word)\n",
    "\n",
    "            # Actualiza el prefijo para la siguiente iteración\n",
    "            if self.n > 1:\n",
    "                current_prefix = tuple(generated_text[-(self.n - 1):])\n",
    "\n",
    "        return ' '.join(generated_text)"
   ],
   "id": "a7ed2242c046a92f",
   "outputs": [],
   "execution_count": 2
  },
  {
   "metadata": {
    "ExecuteTime": {
     "end_time": "2025-09-10T01:23:29.111188Z",
     "start_time": "2025-09-10T01:23:29.103935Z"
    }
   },
   "cell_type": "code",
   "source": [
    "# Un corpus de texto simple para entrenar el modelo\n",
    "corpus = \"El gato negro salta sobre la mesa. El perro grande corre detrás del gato. El gato maulla y el perro ladra.\"\n",
    "\n",
    "# Crea una instancia del modelo de trigramas (n=3)\n",
    "model = NgramModel(n=3)\n",
    "\n",
    "# Entrena el modelo con el corpus de texto\n",
    "model.train(corpus)\n",
    "\n",
    "# Genera una nueva secuencia de texto de 10 palabras, comenzando con \"gato\"\n",
    "generated_sequence = model.generate(start_word=\"gato\", length=20)\n",
    "print(\"Texto generado:\")\n",
    "print(generated_sequence)\n",
    "\n",
    "# ---\n",
    "# Ejemplo con bigramas (n=2)\n",
    "print(\"\\n---\")\n",
    "print(\"Ejemplo con bigramas (n=2):\")\n",
    "model_bigram = NgramModel(n=2)\n",
    "model_bigram.train(corpus)\n",
    "generated_bigram_sequence = model_bigram.generate(start_word=\"perro\", length=20)\n",
    "print(\"Texto generado con bigramas:\")\n",
    "print(generated_bigram_sequence)"
   ],
   "id": "e1e204ed10ee27b0",
   "outputs": [
    {
     "name": "stdout",
     "output_type": "stream",
     "text": [
      "Texto generado:\n",
      "gato perro el grande y corre del la la grande sobre gato la maulla el el el ladra gato el\n",
      "\n",
      "---\n",
      "Ejemplo con bigramas (n=2):\n",
      "Texto generado con bigramas:\n",
      "perro ladra del gato maulla y el perro ladra el perro grande corre detrás del gato negro salta sobre la\n"
     ]
    }
   ],
   "execution_count": 8
  }
 ],
 "metadata": {
  "kernelspec": {
   "display_name": "Python 3",
   "language": "python",
   "name": "python3"
  },
  "language_info": {
   "codemirror_mode": {
    "name": "ipython",
    "version": 2
   },
   "file_extension": ".py",
   "mimetype": "text/x-python",
   "name": "python",
   "nbconvert_exporter": "python",
   "pygments_lexer": "ipython2",
   "version": "2.7.6"
  }
 },
 "nbformat": 4,
 "nbformat_minor": 5
}
