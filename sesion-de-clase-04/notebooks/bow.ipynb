{
 "cells": [
  {
   "cell_type": "code",
   "id": "initial_id",
   "metadata": {
    "collapsed": true,
    "ExecuteTime": {
     "end_time": "2025-09-09T20:49:19.584754Z",
     "start_time": "2025-09-09T20:49:13.529109Z"
    }
   },
   "source": [
    "import pandas as pd\n",
    "from sklearn.feature_extraction.text import CountVectorizer\n",
    "import re\n",
    "import spacy\n",
    "import nltk"
   ],
   "outputs": [],
   "execution_count": 2
  },
  {
   "metadata": {
    "ExecuteTime": {
     "end_time": "2025-09-09T20:49:22.756942Z",
     "start_time": "2025-09-09T20:49:22.573352Z"
    }
   },
   "cell_type": "code",
   "source": [
    "nlp = spacy.load(\"es_core_news_sm\")\n",
    "stop_words = set(nltk.corpus.stopwords.words('spanish'))"
   ],
   "id": "fc5080e6b4836d91",
   "outputs": [],
   "execution_count": 3
  },
  {
   "metadata": {
    "ExecuteTime": {
     "end_time": "2025-09-09T20:49:36.346900Z",
     "start_time": "2025-09-09T20:49:36.344909Z"
    }
   },
   "cell_type": "code",
   "source": [
    "def normalize_text(documents):\n",
    "    \"\"\"\n",
    "    Normaliza una lista de documentos eliminando puntuación, convirtiendo a minúsculas,\n",
    "    eliminando stopwords y lematizando.\n",
    "\n",
    "    Args:\n",
    "        documents (list): Una lista de cadenas de texto.\n",
    "\n",
    "    Returns:\n",
    "        list: Una lista de documentos normalizados.\n",
    "    \"\"\"\n",
    "    normalized_list = []\n",
    "    for doc in documents:\n",
    "        # Pasa el documento completo por el pipeline de spaCy\n",
    "        processed_doc = nlp(re.sub(r'[^\\w\\s]', '', doc.lower()))\n",
    "\n",
    "        # Filtra tokens para lematizar, eliminando stopwords y no alfabéticos\n",
    "        normalized_words = [\n",
    "            token.lemma_ for token in processed_doc\n",
    "            if token.is_alpha and token.text not in stop_words\n",
    "        ]\n",
    "        # Une las palabras normalizadas en una sola cadena\n",
    "        normalized_list.append(\" \".join(normalized_words))\n",
    "    return normalized_list\n"
   ],
   "id": "1c00b3a82f6b4c4b",
   "outputs": [],
   "execution_count": 4
  },
  {
   "metadata": {
    "ExecuteTime": {
     "end_time": "2025-09-09T20:50:19.540389Z",
     "start_time": "2025-09-09T20:50:19.529655Z"
    }
   },
   "cell_type": "code",
   "source": [
    "corpus = [\n",
    "    \"El gato negro salta sobre la mesa.\",\n",
    "    \"El perro salta sobre la cerca.\"\n",
    "]\n",
    "\n",
    "# Normalización de documentos\n",
    "normalized_corpus = normalize_text(corpus)\n",
    "print(\"Documentos normalizados:\\n\", normalized_corpus)\n",
    "\n",
    "# Crear una instancia de CountVectorizer\n",
    "vectorizer = CountVectorizer()\n",
    "\n",
    "# Transforma los documentos normalizados en una matriz de conteos\n",
    "# fit_transform() aprende el vocabulario y crea la matriz en un solo paso\n",
    "bow_matrix = vectorizer.fit_transform(normalized_corpus)\n",
    "\n",
    "# Obtener el vocabulario único\n",
    "vocabulario = vectorizer.get_feature_names_out()\n",
    "print(\"\\nVocabulario (palabras únicas):\\n\", vocabulario)\n",
    "\n",
    "# Convierte la matriz dispersa a un array denso para una mejor visualización\n",
    "bow_array = bow_matrix.toarray()\n",
    "\n",
    "# Muestra la matriz resultante en un DataFrame de Pandas para mayor claridad\n",
    "df_bow = pd.DataFrame(bow_array, columns=vocabulario, index=[f\"Documento {i+1}\" for i in range(len(corpus))])\n",
    "print(\"\\nMatriz de Bag of Words (conteos de frecuencia):\\n\")\n",
    "print(df_bow)"
   ],
   "id": "3f43677a0154615f",
   "outputs": [
    {
     "name": "stdout",
     "output_type": "stream",
     "text": [
      "Documentos normalizados:\n",
      " ['gato negro salta mesa', 'perro salta cerca']\n",
      "\n",
      "Vocabulario (palabras únicas):\n",
      " ['cerca' 'gato' 'mesa' 'negro' 'perro' 'salta']\n",
      "\n",
      "Matriz de Bag of Words (conteos de frecuencia):\n",
      "\n",
      "             cerca  gato  mesa  negro  perro  salta\n",
      "Documento 1      0     1     1      1      0      1\n",
      "Documento 2      1     0     0      0      1      1\n"
     ]
    }
   ],
   "execution_count": 5
  }
 ],
 "metadata": {
  "kernelspec": {
   "display_name": "Python 3",
   "language": "python",
   "name": "python3"
  },
  "language_info": {
   "codemirror_mode": {
    "name": "ipython",
    "version": 2
   },
   "file_extension": ".py",
   "mimetype": "text/x-python",
   "name": "python",
   "nbconvert_exporter": "python",
   "pygments_lexer": "ipython2",
   "version": "2.7.6"
  }
 },
 "nbformat": 4,
 "nbformat_minor": 5
}
