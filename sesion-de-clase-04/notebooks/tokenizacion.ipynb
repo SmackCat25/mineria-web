{
 "cells": [
  {
   "cell_type": "code",
   "id": "initial_id",
   "metadata": {
    "collapsed": true,
    "ExecuteTime": {
     "end_time": "2025-09-10T01:28:34.099260Z",
     "start_time": "2025-09-10T01:28:33.568191Z"
    }
   },
   "source": "pip install nltk",
   "outputs": [
    {
     "name": "stdout",
     "output_type": "stream",
     "text": [
      "Requirement already satisfied: nltk in /Users/erichuiza/Documents/pucp/miería web/dev/sesion-de-clase-04/.venv/lib/python3.12/site-packages (3.9.1)\r\n",
      "Requirement already satisfied: click in /Users/erichuiza/Documents/pucp/miería web/dev/sesion-de-clase-04/.venv/lib/python3.12/site-packages (from nltk) (8.2.1)\r\n",
      "Requirement already satisfied: joblib in /Users/erichuiza/Documents/pucp/miería web/dev/sesion-de-clase-04/.venv/lib/python3.12/site-packages (from nltk) (1.5.2)\r\n",
      "Requirement already satisfied: regex>=2021.8.3 in /Users/erichuiza/Documents/pucp/miería web/dev/sesion-de-clase-04/.venv/lib/python3.12/site-packages (from nltk) (2025.9.1)\r\n",
      "Requirement already satisfied: tqdm in /Users/erichuiza/Documents/pucp/miería web/dev/sesion-de-clase-04/.venv/lib/python3.12/site-packages (from nltk) (4.67.1)\r\n",
      "\r\n",
      "\u001B[1m[\u001B[0m\u001B[34;49mnotice\u001B[0m\u001B[1;39;49m]\u001B[0m\u001B[39;49m A new release of pip is available: \u001B[0m\u001B[31;49m24.3.1\u001B[0m\u001B[39;49m -> \u001B[0m\u001B[32;49m25.2\u001B[0m\r\n",
      "\u001B[1m[\u001B[0m\u001B[34;49mnotice\u001B[0m\u001B[1;39;49m]\u001B[0m\u001B[39;49m To update, run: \u001B[0m\u001B[32;49mpip install --upgrade pip\u001B[0m\r\n",
      "Note: you may need to restart the kernel to use updated packages.\n"
     ]
    }
   ],
   "execution_count": 24
  },
  {
   "metadata": {
    "ExecuteTime": {
     "end_time": "2025-09-10T01:29:24.446960Z",
     "start_time": "2025-09-10T01:29:24.443675Z"
    }
   },
   "cell_type": "code",
   "source": [
    "import nltk\n",
    "nltk.download(\"punkt\")\n",
    "nltk.download(\"punkt_tab\")"
   ],
   "id": "baab3d67283ffc84",
   "outputs": [
    {
     "name": "stderr",
     "output_type": "stream",
     "text": [
      "[nltk_data] Downloading package punkt to /Users/erichuiza/nltk_data...\n",
      "[nltk_data]   Package punkt is already up-to-date!\n",
      "[nltk_data] Downloading package punkt_tab to\n",
      "[nltk_data]     /Users/erichuiza/nltk_data...\n",
      "[nltk_data]   Package punkt_tab is already up-to-date!\n"
     ]
    },
    {
     "data": {
      "text/plain": [
       "True"
      ]
     },
     "execution_count": 26,
     "metadata": {},
     "output_type": "execute_result"
    }
   ],
   "execution_count": 26
  },
  {
   "metadata": {
    "ExecuteTime": {
     "end_time": "2025-09-09T19:29:05.598278Z",
     "start_time": "2025-09-09T19:29:05.595760Z"
    }
   },
   "cell_type": "code",
   "source": [
    "def tokenize_text(text):\n",
    "    \"\"\"\n",
    "    Tokeniza un texto largo en frases y palabras usando NLTK.\n",
    "\n",
    "    Args:\n",
    "        text (str): El texto largo a tokenizar.\n",
    "\n",
    "    Returns:\n",
    "        dict: Un diccionario con las frases y las palabras tokenizadas.\n",
    "    \"\"\"\n",
    "    if not isinstance(text, str) or not text:\n",
    "        return {\"error\": \"El texto proporcionado no es válido.\"}\n",
    "\n",
    "    # Tokenización por frases\n",
    "    # Esta función divide el texto en una lista de oraciones\n",
    "    sentences = nltk.sent_tokenize(text, language=\"spanish\")\n",
    "\n",
    "    # Tokenización por palabras\n",
    "    # Se crea una lista de listas, donde cada lista interna son las palabras de una frase\n",
    "    tokenized_words_by_sentence = [nltk.word_tokenize(sentence, language=\"spanish\") for sentence in sentences]\n",
    "\n",
    "    # Para una lista plana de todas las palabras (opcional)\n",
    "    # Útil para un análisis general del vocabulario del texto\n",
    "    all_words = [word for sentence_list in tokenized_words_by_sentence for word in sentence_list]\n",
    "\n",
    "    return {\n",
    "        \"phrases\": sentences,\n",
    "        \"words_by_phrase\": tokenized_words_by_sentence,\n",
    "        \"all_words\": all_words\n",
    "    }"
   ],
   "id": "7deffaa97e1423f2",
   "outputs": [],
   "execution_count": 22
  },
  {
   "metadata": {
    "ExecuteTime": {
     "end_time": "2025-09-10T01:31:04.271833Z",
     "start_time": "2025-09-10T01:31:04.268259Z"
    }
   },
   "cell_type": "code",
   "source": [
    "long_text = \"\"\"\n",
    "El procesamiento del lenguaje natural (PLN) es un campo de la inteligencia artificial.\n",
    "Se enfoca en la interacción entre las computadoras y los lenguajes humanos.\n",
    "NLTK es una biblioteca popular para este tipo de tareas.\n",
    "\"\"\"\n",
    "\n",
    "tokens = tokenize_text(long_text)\n",
    "\n",
    "# Imprime los resultados para visualizar la tokenización\n",
    "print(\"--- Tokenización de Frases ---\")\n",
    "for i, phrase in enumerate(tokens[\"phrases\"]):\n",
    "    print(f\"Frase {i+1}: {phrase}\")\n",
    "\n",
    "print(\"\\n--- Tokenización de Palabras por Frase ---\")\n",
    "for i, word_list in enumerate(tokens[\"words_by_phrase\"]):\n",
    "    print(f\"Palabras de la frase {i+1}: {word_list}\")\n",
    "\n",
    "print(\"\\n--- Lista Completa de Palabras ---\")\n",
    "print(tokens[\"all_words\"])"
   ],
   "id": "6506ec14a004d032",
   "outputs": [
    {
     "name": "stdout",
     "output_type": "stream",
     "text": [
      "--- Tokenización de Frases ---\n",
      "Frase 1: \n",
      "El procesamiento del lenguaje natural (PLN) es un campo de la inteligencia artificial.\n",
      "Frase 2: Se enfoca en la interacción entre las computadoras y los lenguajes humanos.\n",
      "Frase 3: NLTK es una biblioteca popular para este tipo de tareas.\n",
      "\n",
      "--- Tokenización de Palabras por Frase ---\n",
      "Palabras de la frase 1: ['El', 'procesamiento', 'del', 'lenguaje', 'natural', '(', 'PLN', ')', 'es', 'un', 'campo', 'de', 'la', 'inteligencia', 'artificial', '.']\n",
      "Palabras de la frase 2: ['Se', 'enfoca', 'en', 'la', 'interacción', 'entre', 'las', 'computadoras', 'y', 'los', 'lenguajes', 'humanos', '.']\n",
      "Palabras de la frase 3: ['NLTK', 'es', 'una', 'biblioteca', 'popular', 'para', 'este', 'tipo', 'de', 'tareas', '.']\n",
      "\n",
      "--- Lista Completa de Palabras ---\n",
      "['El', 'procesamiento', 'del', 'lenguaje', 'natural', '(', 'PLN', ')', 'es', 'un', 'campo', 'de', 'la', 'inteligencia', 'artificial', '.', 'Se', 'enfoca', 'en', 'la', 'interacción', 'entre', 'las', 'computadoras', 'y', 'los', 'lenguajes', 'humanos', '.', 'NLTK', 'es', 'una', 'biblioteca', 'popular', 'para', 'este', 'tipo', 'de', 'tareas', '.']\n"
     ]
    }
   ],
   "execution_count": 27
  }
 ],
 "metadata": {
  "kernelspec": {
   "display_name": "Python 3",
   "language": "python",
   "name": "python3"
  },
  "language_info": {
   "codemirror_mode": {
    "name": "ipython",
    "version": 2
   },
   "file_extension": ".py",
   "mimetype": "text/x-python",
   "name": "python",
   "nbconvert_exporter": "python",
   "pygments_lexer": "ipython2",
   "version": "2.7.6"
  }
 },
 "nbformat": 4,
 "nbformat_minor": 5
}
