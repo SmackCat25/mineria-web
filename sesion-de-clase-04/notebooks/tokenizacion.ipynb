{
 "cells": [
  {
   "cell_type": "code",
   "id": "initial_id",
   "metadata": {
    "collapsed": true,
    "ExecuteTime": {
     "end_time": "2025-09-10T01:28:41.117696Z",
     "start_time": "2025-09-10T01:28:37.026657Z"
    }
   },
   "source": "pip install nltk",
   "outputs": [
    {
     "name": "stdout",
     "output_type": "stream",
     "text": [
      "Collecting nltk\n",
      "  Downloading nltk-3.9.1-py3-none-any.whl.metadata (2.9 kB)\n",
      "Collecting click (from nltk)\n",
      "  Downloading click-8.2.1-py3-none-any.whl.metadata (2.5 kB)\n",
      "Collecting joblib (from nltk)\n",
      "  Downloading joblib-1.5.2-py3-none-any.whl.metadata (5.6 kB)\n",
      "Collecting regex>=2021.8.3 (from nltk)\n",
      "  Downloading regex-2025.9.1-cp313-cp313-win_amd64.whl.metadata (41 kB)\n",
      "Collecting tqdm (from nltk)\n",
      "  Downloading tqdm-4.67.1-py3-none-any.whl.metadata (57 kB)\n",
      "Requirement already satisfied: colorama in c:\\users\\aml\\appdata\\local\\programs\\python\\python313\\lib\\site-packages (from click->nltk) (0.4.6)\n",
      "Downloading nltk-3.9.1-py3-none-any.whl (1.5 MB)\n",
      "   ---------------------------------------- 0.0/1.5 MB ? eta -:--:--\n",
      "   ---------------------------------------- 1.5/1.5 MB 32.7 MB/s eta 0:00:00\n",
      "Downloading regex-2025.9.1-cp313-cp313-win_amd64.whl (275 kB)\n",
      "Downloading click-8.2.1-py3-none-any.whl (102 kB)\n",
      "Downloading joblib-1.5.2-py3-none-any.whl (308 kB)\n",
      "Downloading tqdm-4.67.1-py3-none-any.whl (78 kB)\n",
      "Installing collected packages: tqdm, regex, joblib, click, nltk\n",
      "\n",
      "   ---------------- ----------------------- 2/5 [joblib]\n",
      "   ---------------- ----------------------- 2/5 [joblib]\n",
      "   -------------------------------- ------- 4/5 [nltk]\n",
      "   -------------------------------- ------- 4/5 [nltk]\n",
      "   -------------------------------- ------- 4/5 [nltk]\n",
      "   -------------------------------- ------- 4/5 [nltk]\n",
      "   -------------------------------- ------- 4/5 [nltk]\n",
      "   -------------------------------- ------- 4/5 [nltk]\n",
      "   -------------------------------- ------- 4/5 [nltk]\n",
      "   ---------------------------------------- 5/5 [nltk]\n",
      "\n",
      "Successfully installed click-8.2.1 joblib-1.5.2 nltk-3.9.1 regex-2025.9.1 tqdm-4.67.1\n",
      "Note: you may need to restart the kernel to use updated packages.\n"
     ]
    },
    {
     "name": "stderr",
     "output_type": "stream",
     "text": [
      "\n",
      "[notice] A new release of pip is available: 25.1.1 -> 25.2\n",
      "[notice] To update, run: C:\\Users\\aml\\AppData\\Local\\Programs\\Python\\Python313\\python.exe -m pip install --upgrade pip\n"
     ]
    }
   ],
   "execution_count": 1
  },
  {
   "metadata": {
    "ExecuteTime": {
     "end_time": "2025-09-10T01:28:46.451639Z",
     "start_time": "2025-09-10T01:28:44.857985Z"
    }
   },
   "cell_type": "code",
   "source": [
    "import nltk\n",
    "# Diccionarios de puntuaciones\n",
    "nltk.download(\"punkt\")\n",
    "nltk.download(\"punkt_tab\")"
   ],
   "id": "baab3d67283ffc84",
   "outputs": [
    {
     "name": "stderr",
     "output_type": "stream",
     "text": [
      "[nltk_data] Downloading package punkt to\n",
      "[nltk_data]     C:\\Users\\aml\\AppData\\Roaming\\nltk_data...\n",
      "[nltk_data]   Unzipping tokenizers\\punkt.zip.\n",
      "[nltk_data] Downloading package punkt_tab to\n",
      "[nltk_data]     C:\\Users\\aml\\AppData\\Roaming\\nltk_data...\n",
      "[nltk_data]   Unzipping tokenizers\\punkt_tab.zip.\n"
     ]
    },
    {
     "data": {
      "text/plain": [
       "True"
      ]
     },
     "execution_count": 2,
     "metadata": {},
     "output_type": "execute_result"
    }
   ],
   "execution_count": 2
  },
  {
   "metadata": {
    "ExecuteTime": {
     "end_time": "2025-09-10T01:31:45.954098Z",
     "start_time": "2025-09-10T01:31:45.951263Z"
    }
   },
   "cell_type": "code",
   "source": [
    "def tokenize_text(text):\n",
    "    \"\"\"\n",
    "    Tokeniza un texto largo en frases y palabras usando NLTK.\n",
    "\n",
    "    Args:\n",
    "        text (str): El texto largo a tokenizar.\n",
    "\n",
    "    Returns:\n",
    "        dict: Un diccionario con las frases y las palabras tokenizadas.\n",
    "    \"\"\"\n",
    "    if not isinstance(text, str) or not text:\n",
    "        return {\"error\": \"El texto proporcionado no es válido.\"}\n",
    "\n",
    "    # Tokenización por frases\n",
    "    # Esta función divide el texto en una lista de oraciones\n",
    "    sentences = nltk.sent_tokenize(text, language=\"spanish\")\n",
    "\n",
    "    # Tokenización por palabras\n",
    "    # Se crea una lista de listas, donde cada lista interna son las palabras de una frase\n",
    "    tokenized_words_by_sentence = [nltk.word_tokenize(sentence, language=\"spanish\") for sentence in sentences]\n",
    "\n",
    "    # Para una lista plana de todas las palabras (opcional)\n",
    "    # Útil para un análisis general del vocabulario del texto\n",
    "    all_words = [word for sentence_list in tokenized_words_by_sentence for word in sentence_list]\n",
    "\n",
    "    return {\n",
    "        \"phrases\": sentences,\n",
    "        \"words_by_phrase\": tokenized_words_by_sentence,\n",
    "        \"all_words\": all_words\n",
    "    }"
   ],
   "id": "7deffaa97e1423f2",
   "outputs": [],
   "execution_count": 4
  },
  {
   "metadata": {
    "ExecuteTime": {
     "end_time": "2025-09-10T01:31:49.607575Z",
     "start_time": "2025-09-10T01:31:49.587067Z"
    }
   },
   "cell_type": "code",
   "source": [
    "long_text = \"\"\"\n",
    "El procesamiento del lenguaje natural (PLN) es un campo de la inteligencia artificial.\n",
    "Se enfoca en la interacción entre las computadoras y los lenguajes humanos.\n",
    "NLTK es una biblioteca popular para este tipo de tareas.\n",
    "\"\"\"\n",
    "\n",
    "tokens = tokenize_text(long_text)\n",
    "\n",
    "# Imprime los resultados para visualizar la tokenización\n",
    "print(\"--- Tokenización de Frases ---\")\n",
    "for i, phrase in enumerate(tokens[\"phrases\"]):\n",
    "    print(f\"Frase {i+1}: {phrase}\")\n",
    "\n",
    "print(\"\\n--- Tokenización de Palabras por Frase ---\")\n",
    "for i, word_list in enumerate(tokens[\"words_by_phrase\"]):\n",
    "    print(f\"Palabras de la frase {i+1}: {word_list}\")\n",
    "\n",
    "print(\"\\n--- Lista Completa de Palabras ---\")\n",
    "print(tokens[\"all_words\"])"
   ],
   "id": "6506ec14a004d032",
   "outputs": [
    {
     "name": "stdout",
     "output_type": "stream",
     "text": [
      "--- Tokenización de Frases ---\n",
      "Frase 1: \n",
      "El procesamiento del lenguaje natural (PLN) es un campo de la inteligencia artificial.\n",
      "Frase 2: Se enfoca en la interacción entre las computadoras y los lenguajes humanos.\n",
      "Frase 3: NLTK es una biblioteca popular para este tipo de tareas.\n",
      "\n",
      "--- Tokenización de Palabras por Frase ---\n",
      "Palabras de la frase 1: ['El', 'procesamiento', 'del', 'lenguaje', 'natural', '(', 'PLN', ')', 'es', 'un', 'campo', 'de', 'la', 'inteligencia', 'artificial', '.']\n",
      "Palabras de la frase 2: ['Se', 'enfoca', 'en', 'la', 'interacción', 'entre', 'las', 'computadoras', 'y', 'los', 'lenguajes', 'humanos', '.']\n",
      "Palabras de la frase 3: ['NLTK', 'es', 'una', 'biblioteca', 'popular', 'para', 'este', 'tipo', 'de', 'tareas', '.']\n",
      "\n",
      "--- Lista Completa de Palabras ---\n",
      "['El', 'procesamiento', 'del', 'lenguaje', 'natural', '(', 'PLN', ')', 'es', 'un', 'campo', 'de', 'la', 'inteligencia', 'artificial', '.', 'Se', 'enfoca', 'en', 'la', 'interacción', 'entre', 'las', 'computadoras', 'y', 'los', 'lenguajes', 'humanos', '.', 'NLTK', 'es', 'una', 'biblioteca', 'popular', 'para', 'este', 'tipo', 'de', 'tareas', '.']\n"
     ]
    }
   ],
   "execution_count": 5
  }
 ],
 "metadata": {
  "kernelspec": {
   "display_name": "Python 3",
   "language": "python",
   "name": "python3"
  },
  "language_info": {
   "codemirror_mode": {
    "name": "ipython",
    "version": 2
   },
   "file_extension": ".py",
   "mimetype": "text/x-python",
   "name": "python",
   "nbconvert_exporter": "python",
   "pygments_lexer": "ipython2",
   "version": "2.7.6"
  }
 },
 "nbformat": 4,
 "nbformat_minor": 5
}
