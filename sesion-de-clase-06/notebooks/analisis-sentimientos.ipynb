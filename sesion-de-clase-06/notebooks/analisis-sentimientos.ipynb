{
 "cells": [
  {
   "cell_type": "code",
   "id": "initial_id",
   "metadata": {
    "collapsed": true,
    "ExecuteTime": {
     "end_time": "2025-10-01T01:52:49.447632Z",
     "start_time": "2025-10-01T01:52:43.629391Z"
    }
   },
   "source": [
    "import pandas as pd\n",
    "from transformers import pipeline\n",
    "\n",
    "# Leer dataset desde CSV\n",
    "df = pd.read_csv(\"../data/comentarios.csv\")\n",
    "\n",
    "# Cargar pipeline de análisis de sentimientos (multilingüe, soporta español)\n",
    "sentiment_pipeline = pipeline(\n",
    "    \"sentiment-analysis\",\n",
    "    model=\"nlptown/bert-base-multilingual-uncased-sentiment\"\n",
    ")"
   ],
   "outputs": [
    {
     "name": "stderr",
     "output_type": "stream",
     "text": [
      "/Users/erichuiza/Documents/pucp/miería web/dev/sesion-de-clase-06/.venv/lib/python3.11/site-packages/tqdm/auto.py:21: TqdmWarning: IProgress not found. Please update jupyter and ipywidgets. See https://ipywidgets.readthedocs.io/en/stable/user_install.html\n",
      "  from .autonotebook import tqdm as notebook_tqdm\n",
      "Device set to use mps:0\n"
     ]
    }
   ],
   "execution_count": 1
  },
  {
   "metadata": {
    "ExecuteTime": {
     "end_time": "2025-10-01T01:53:35.691694Z",
     "start_time": "2025-10-01T01:53:32.943460Z"
    }
   },
   "cell_type": "code",
   "source": [
    "import spacy\n",
    "nlp = spacy.load(\"es_core_news_sm\")\n",
    "print(\"spaCy cargado: usando lematización y stopwords de spaCy.\")\n",
    "\n",
    "def preprocess_spacy(text):\n",
    "    doc = nlp(str(text).lower())\n",
    "    tokens = [t.lemma_ for t in doc if not t.is_stop and t.is_alpha]\n",
    "    return \" \".join(tokens)\n",
    "\n",
    "df[\"texto_preprocesado\"] = df[\"texto_comentario\"].apply(preprocess_spacy)\n",
    "df.head()"
   ],
   "id": "3591db07f02c617c",
   "outputs": [
    {
     "name": "stdout",
     "output_type": "stream",
     "text": [
      "spaCy cargado: usando lematización y stopwords de spaCy.\n"
     ]
    },
    {
     "data": {
      "text/plain": [
       "   id_comentario  id_cliente  id_producto  calificacion  \\\n",
       "0              1           1            2             5   \n",
       "1              2           2            4             4   \n",
       "2              3           3            1             5   \n",
       "3              4           4            5             3   \n",
       "4              5           5            3             4   \n",
       "\n",
       "                                    texto_comentario fecha_comentario  \\\n",
       "0  El Smartphone Nexus 5G es un cambio de juego. ...       2024-05-20   \n",
       "1  La Camiseta Deportiva Ultralight es muy cómoda...       2024-05-21   \n",
       "2  La Laptop Gamer Pro es una bestia de rendimien...       2024-05-22   \n",
       "3  Las Zapatillas Urbanas Fit tienen un diseño mu...       2024-05-23   \n",
       "4  Los Auriculares Inalámbricos X ofrecen un soni...       2024-05-24   \n",
       "\n",
       "                                  texto_preprocesado  \n",
       "0  smartphonir nexus g cambio juego pantalla oled...  \n",
       "1  camiseta deportivo ultralight cómodo entrenami...  \n",
       "2  laptop gamer pro bestia rendimiento superar ex...  \n",
       "3  zapatilla urbano fit diseño atractivo resultar...  \n",
       "4  auricular inalámbrico x ofrecer sonido nítido ...  "
      ],
      "text/html": [
       "<div>\n",
       "<style scoped>\n",
       "    .dataframe tbody tr th:only-of-type {\n",
       "        vertical-align: middle;\n",
       "    }\n",
       "\n",
       "    .dataframe tbody tr th {\n",
       "        vertical-align: top;\n",
       "    }\n",
       "\n",
       "    .dataframe thead th {\n",
       "        text-align: right;\n",
       "    }\n",
       "</style>\n",
       "<table border=\"1\" class=\"dataframe\">\n",
       "  <thead>\n",
       "    <tr style=\"text-align: right;\">\n",
       "      <th></th>\n",
       "      <th>id_comentario</th>\n",
       "      <th>id_cliente</th>\n",
       "      <th>id_producto</th>\n",
       "      <th>calificacion</th>\n",
       "      <th>texto_comentario</th>\n",
       "      <th>fecha_comentario</th>\n",
       "      <th>texto_preprocesado</th>\n",
       "    </tr>\n",
       "  </thead>\n",
       "  <tbody>\n",
       "    <tr>\n",
       "      <th>0</th>\n",
       "      <td>1</td>\n",
       "      <td>1</td>\n",
       "      <td>2</td>\n",
       "      <td>5</td>\n",
       "      <td>El Smartphone Nexus 5G es un cambio de juego. ...</td>\n",
       "      <td>2024-05-20</td>\n",
       "      <td>smartphonir nexus g cambio juego pantalla oled...</td>\n",
       "    </tr>\n",
       "    <tr>\n",
       "      <th>1</th>\n",
       "      <td>2</td>\n",
       "      <td>2</td>\n",
       "      <td>4</td>\n",
       "      <td>4</td>\n",
       "      <td>La Camiseta Deportiva Ultralight es muy cómoda...</td>\n",
       "      <td>2024-05-21</td>\n",
       "      <td>camiseta deportivo ultralight cómodo entrenami...</td>\n",
       "    </tr>\n",
       "    <tr>\n",
       "      <th>2</th>\n",
       "      <td>3</td>\n",
       "      <td>3</td>\n",
       "      <td>1</td>\n",
       "      <td>5</td>\n",
       "      <td>La Laptop Gamer Pro es una bestia de rendimien...</td>\n",
       "      <td>2024-05-22</td>\n",
       "      <td>laptop gamer pro bestia rendimiento superar ex...</td>\n",
       "    </tr>\n",
       "    <tr>\n",
       "      <th>3</th>\n",
       "      <td>4</td>\n",
       "      <td>4</td>\n",
       "      <td>5</td>\n",
       "      <td>3</td>\n",
       "      <td>Las Zapatillas Urbanas Fit tienen un diseño mu...</td>\n",
       "      <td>2024-05-23</td>\n",
       "      <td>zapatilla urbano fit diseño atractivo resultar...</td>\n",
       "    </tr>\n",
       "    <tr>\n",
       "      <th>4</th>\n",
       "      <td>5</td>\n",
       "      <td>5</td>\n",
       "      <td>3</td>\n",
       "      <td>4</td>\n",
       "      <td>Los Auriculares Inalámbricos X ofrecen un soni...</td>\n",
       "      <td>2024-05-24</td>\n",
       "      <td>auricular inalámbrico x ofrecer sonido nítido ...</td>\n",
       "    </tr>\n",
       "  </tbody>\n",
       "</table>\n",
       "</div>"
      ]
     },
     "execution_count": 3,
     "metadata": {},
     "output_type": "execute_result"
    }
   ],
   "execution_count": 3
  },
  {
   "metadata": {
    "ExecuteTime": {
     "end_time": "2025-10-01T01:54:37.586334Z",
     "start_time": "2025-10-01T01:54:30.969792Z"
    }
   },
   "cell_type": "code",
   "source": [
    "# Analizar sentimientos\n",
    "results = df[\"texto_preprocesado\"].apply(lambda x: sentiment_pipeline(x)[0])\n",
    "\n",
    "# Guardar resultados en nuevas columnas\n",
    "df[\"sentimiento\"] = results.apply(lambda r: r[\"label\"])\n",
    "df[\"score\"] = results.apply(lambda r: r[\"score\"])\n",
    "\n",
    "# Mostrar tabla final\n",
    "print(df[[\"id_comentario\", \"calificacion\", \"sentimiento\", \"score\"]])\n",
    "\n",
    "# (Opcional) exportar a CSV con resultados\n",
    "df.to_csv(\"comentarios_con_sentimiento.csv\", index=False)"
   ],
   "id": "8436d8771449d9d6",
   "outputs": [
    {
     "name": "stdout",
     "output_type": "stream",
     "text": [
      "     id_comentario  calificacion sentimiento     score\n",
      "0                1             5     5 stars  0.636286\n",
      "1                2             4     4 stars  0.343703\n",
      "2                3             5     4 stars  0.269417\n",
      "3                4             3     3 stars  0.433529\n",
      "4                5             4     4 stars  0.427259\n",
      "..             ...           ...         ...       ...\n",
      "615            616             5     5 stars  0.814916\n",
      "616            617             5     5 stars  0.897431\n",
      "617            618             4     5 stars  0.490447\n",
      "618            619             4     4 stars  0.454922\n",
      "619            620             5     5 stars  0.726332\n",
      "\n",
      "[620 rows x 4 columns]\n"
     ]
    }
   ],
   "execution_count": 4
  },
  {
   "metadata": {
    "ExecuteTime": {
     "end_time": "2025-10-01T01:55:21.118165Z",
     "start_time": "2025-10-01T01:55:20.992072Z"
    }
   },
   "cell_type": "code",
   "source": [
    "import matplotlib.pyplot as plt\n",
    "import seaborn as sns\n",
    "\n",
    "# Normalizar etiquetas (opcional: agrupar positivo / neutro / negativo)\n",
    "def normalize_label(label):\n",
    "    estrellas = int(label.split()[0])  # \"5 stars\" → 5\n",
    "    if estrellas <= 2:\n",
    "        return \"Negativo\"\n",
    "    elif estrellas == 3:\n",
    "        return \"Neutro\"\n",
    "    else:\n",
    "        return \"Positivo\"\n",
    "\n",
    "df[\"sentimiento_simple\"] = df[\"sentimiento\"].apply(normalize_label)\n",
    "\n",
    "# --- Visualización ---\n",
    "plt.figure(figsize=(6,4))\n",
    "sns.countplot(data=df, x=\"sentimiento_simple\", palette=\"Set2\")\n",
    "plt.title(\"Distribución de Sentimientos en Comentarios\")\n",
    "plt.xlabel(\"Sentimiento\")\n",
    "plt.ylabel(\"Número de comentarios\")\n",
    "plt.show()"
   ],
   "id": "ae419eaadea42e03",
   "outputs": [
    {
     "name": "stderr",
     "output_type": "stream",
     "text": [
      "/var/folders/sl/2x216nz107xcfzxlmr7tr47m0000gn/T/ipykernel_62169/129840792.py:18: FutureWarning: \n",
      "\n",
      "Passing `palette` without assigning `hue` is deprecated and will be removed in v0.14.0. Assign the `x` variable to `hue` and set `legend=False` for the same effect.\n",
      "\n",
      "  sns.countplot(data=df, x=\"sentimiento_simple\", palette=\"Set2\")\n"
     ]
    },
    {
     "data": {
      "text/plain": [
       "<Figure size 600x400 with 1 Axes>"
      ],
      "image/png": "[encoded data removed]"
     },
     "metadata": {},
     "output_type": "display_data",
     "jetTransient": {
      "display_id": null
     }
    }
   ],
   "execution_count": 5
  }
 ],
 "metadata": {
  "kernelspec": {
   "display_name": "Python 3",
   "language": "python",
   "name": "python3"
  },
  "language_info": {
   "codemirror_mode": {
    "name": "ipython",
    "version": 2
   },
   "file_extension": ".py",
   "mimetype": "text/x-python",
   "name": "python",
   "nbconvert_exporter": "python",
   "pygments_lexer": "ipython2",
   "version": "2.7.6"
  }
 },
 "nbformat": 4,
 "nbformat_minor": 5
}
