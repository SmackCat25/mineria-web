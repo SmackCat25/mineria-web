{
 "cells": [
  {
   "cell_type": "code",
   "id": "initial_id",
   "metadata": {
    "collapsed": true,
    "ExecuteTime": {
     "end_time": "2025-09-30T18:21:13.776288Z",
     "start_time": "2025-09-30T18:21:13.064453Z"
    }
   },
   "source": [
    "import pandas as pd\n",
    "from transformers import pipeline\n",
    "\n",
    "# Leer dataset desde CSV\n",
    "df = pd.read_csv(\"../data/comentarios.csv\")\n",
    "\n",
    "# Cargar pipeline de análisis de sentimientos (multilingüe, soporta español)\n",
    "sentiment_pipeline = pipeline(\n",
    "    \"sentiment-analysis\",\n",
    "    model=\"nlptown/bert-base-multilingual-uncased-sentiment\"\n",
    ")"
   ],
   "outputs": [
    {
     "name": "stderr",
     "output_type": "stream",
     "text": [
      "Device set to use mps:0\n"
     ]
    }
   ],
   "execution_count": 2
  },
  {
   "metadata": {
    "ExecuteTime": {
     "end_time": "2025-09-30T18:21:20.831197Z",
     "start_time": "2025-09-30T18:21:17.467342Z"
    }
   },
   "cell_type": "code",
   "source": [
    "import spacy\n",
    "nlp = spacy.load(\"es_core_news_sm\")\n",
    "print(\"spaCy cargado: usando lematización y stopwords de spaCy.\")\n",
    "\n",
    "def preprocess_spacy(text):\n",
    "    doc = nlp(str(text).lower())\n",
    "    tokens = [t.lemma_ for t in doc if not t.is_stop and t.is_alpha]\n",
    "    return \" \".join(tokens)\n",
    "\n",
    "df[\"texto_preprocesado\"] = df[\"texto_comentario\"].apply(preprocess_spacy)"
   ],
   "id": "3591db07f02c617c",
   "outputs": [
    {
     "name": "stdout",
     "output_type": "stream",
     "text": [
      "spaCy cargado: usando lematización y stopwords de spaCy.\n"
     ]
    }
   ],
   "execution_count": 3
  },
  {
   "metadata": {
    "ExecuteTime": {
     "end_time": "2025-09-30T18:21:29.530372Z",
     "start_time": "2025-09-30T18:21:23.583916Z"
    }
   },
   "cell_type": "code",
   "source": [
    "# Analizar sentimientos\n",
    "results = df[\"texto_preprocesado\"].apply(lambda x: sentiment_pipeline(x)[0])\n",
    "\n",
    "# Guardar resultados en nuevas columnas\n",
    "df[\"sentimiento\"] = results.apply(lambda r: r[\"label\"])\n",
    "df[\"score\"] = results.apply(lambda r: r[\"score\"])\n",
    "\n",
    "# Mostrar tabla final\n",
    "print(df[[\"id_comentario\", \"calificacion\", \"sentimiento\", \"score\"]])\n",
    "\n",
    "# (Opcional) exportar a CSV con resultados\n",
    "df.to_csv(\"comentarios_con_sentimiento.csv\", index=False)"
   ],
   "id": "8436d8771449d9d6",
   "outputs": [
    {
     "name": "stdout",
     "output_type": "stream",
     "text": [
      "     id_comentario  calificacion sentimiento     score\n",
      "0                1             5     5 stars  0.636286\n",
      "1                2             4     4 stars  0.343703\n",
      "2                3             5     4 stars  0.269417\n",
      "3                4             3     3 stars  0.433529\n",
      "4                5             4     4 stars  0.427259\n",
      "..             ...           ...         ...       ...\n",
      "615            616             5     5 stars  0.814916\n",
      "616            617             5     5 stars  0.897431\n",
      "617            618             4     5 stars  0.490447\n",
      "618            619             4     4 stars  0.454922\n",
      "619            620             5     5 stars  0.726332\n",
      "\n",
      "[620 rows x 4 columns]\n"
     ]
    }
   ],
   "execution_count": 4
  },
  {
   "metadata": {
    "ExecuteTime": {
     "end_time": "2025-09-30T18:22:35.256059Z",
     "start_time": "2025-09-30T18:22:33.713225Z"
    }
   },
   "cell_type": "code",
   "source": [
    "import matplotlib.pyplot as plt\n",
    "import seaborn as sns\n",
    "\n",
    "# Normalizar etiquetas (opcional: agrupar positivo / neutro / negativo)\n",
    "def normalize_label(label):\n",
    "    estrellas = int(label.split()[0])  # \"5 stars\" → 5\n",
    "    if estrellas <= 2:\n",
    "        return \"Negativo\"\n",
    "    elif estrellas == 3:\n",
    "        return \"Neutro\"\n",
    "    else:\n",
    "        return \"Positivo\"\n",
    "\n",
    "df[\"sentimiento_simple\"] = df[\"sentimiento\"].apply(normalize_label)\n",
    "\n",
    "# --- Visualización ---\n",
    "plt.figure(figsize=(6,4))\n",
    "sns.countplot(data=df, x=\"sentimiento_simple\", palette=\"Set2\")\n",
    "plt.title(\"Distribución de Sentimientos en Comentarios\")\n",
    "plt.xlabel(\"Sentimiento\")\n",
    "plt.ylabel(\"Número de comentarios\")\n",
    "plt.show()"
   ],
   "id": "ae419eaadea42e03",
   "outputs": [
    {
     "name": "stderr",
     "output_type": "stream",
     "text": [
      "/var/folders/sl/2x216nz107xcfzxlmr7tr47m0000gn/T/ipykernel_94043/129840792.py:18: FutureWarning: \n",
      "\n",
      "Passing `palette` without assigning `hue` is deprecated and will be removed in v0.14.0. Assign the `x` variable to `hue` and set `legend=False` for the same effect.\n",
      "\n",
      "  sns.countplot(data=df, x=\"sentimiento_simple\", palette=\"Set2\")\n"
     ]
    },
    {
     "data": {
      "text/plain": [
       "<Figure size 600x400 with 1 Axes>"
      ],
      "image/png": "[encoded data removed]"
     },
     "metadata": {},
     "output_type": "display_data",
     "jetTransient": {
      "display_id": null
     }
    }
   ],
   "execution_count": 5
  }
 ],
 "metadata": {
  "kernelspec": {
   "display_name": "Python 3",
   "language": "python",
   "name": "python3"
  },
  "language_info": {
   "codemirror_mode": {
    "name": "ipython",
    "version": 2
   },
   "file_extension": ".py",
   "mimetype": "text/x-python",
   "name": "python",
   "nbconvert_exporter": "python",
   "pygments_lexer": "ipython2",
   "version": "2.7.6"
  }
 },
 "nbformat": 4,
 "nbformat_minor": 5
}
