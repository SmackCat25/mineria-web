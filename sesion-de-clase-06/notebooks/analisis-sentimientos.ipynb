{
 "cells": [
  {
   "cell_type": "code",
   "id": "initial_id",
   "metadata": {
    "collapsed": true,
    "ExecuteTime": {
     "end_time": "2025-10-01T01:52:47.252512Z",
     "start_time": "2025-10-01T01:52:31.461486Z"
    }
   },
   "source": [
    "import pandas as pd\n",
    "from transformers import pipeline\n",
    "\n",
    "# Leer dataset desde CSV\n",
    "df = pd.read_csv(\"../data/comentarios.csv\")\n",
    "\n",
    "# Cargar pipeline de análisis de sentimientos (multilingüe, soporta español)\n",
    "sentiment_pipeline = pipeline(\n",
    "    \"sentiment-analysis\",\n",
    "    model=\"nlptown/bert-base-multilingual-uncased-sentiment\"\n",
    ")"
   ],
   "outputs": [
    {
     "name": "stderr",
     "output_type": "stream",
     "text": [
      "C:\\Users\\aml\\AppData\\Local\\Programs\\Python\\Python313\\Lib\\site-packages\\tqdm\\auto.py:21: TqdmWarning: IProgress not found. Please update jupyter and ipywidgets. See https://ipywidgets.readthedocs.io/en/stable/user_install.html\n",
      "  from .autonotebook import tqdm as notebook_tqdm\n",
      "C:\\Users\\aml\\AppData\\Local\\Programs\\Python\\Python313\\Lib\\site-packages\\huggingface_hub\\file_download.py:143: UserWarning: `huggingface_hub` cache-system uses symlinks by default to efficiently store duplicated files but your machine does not support them in C:\\Users\\aml\\.cache\\huggingface\\hub\\models--nlptown--bert-base-multilingual-uncased-sentiment. Caching files will still work but in a degraded version that might require more space on your disk. This warning can be disabled by setting the `HF_HUB_DISABLE_SYMLINKS_WARNING` environment variable. For more details, see https://huggingface.co/docs/huggingface_hub/how-to-cache#limitations.\n",
      "To support symlinks on Windows, you either need to activate Developer Mode or to run Python as an administrator. In order to activate developer mode, see this article: https://docs.microsoft.com/en-us/windows/apps/get-started/enable-your-device-for-development\n",
      "  warnings.warn(message)\n"
     ]
    },
    {
     "name": "stdout",
     "output_type": "stream",
     "text": [
      "WARNING:tensorflow:From C:\\Users\\aml\\AppData\\Local\\Programs\\Python\\Python313\\Lib\\site-packages\\tf_keras\\src\\losses.py:2976: The name tf.losses.sparse_softmax_cross_entropy is deprecated. Please use tf.compat.v1.losses.sparse_softmax_cross_entropy instead.\n",
      "\n"
     ]
    },
    {
     "name": "stderr",
     "output_type": "stream",
     "text": [
      "Xet Storage is enabled for this repo, but the 'hf_xet' package is not installed. Falling back to regular HTTP download. For better performance, install the package with: `pip install huggingface_hub[hf_xet]` or `pip install hf_xet`\n",
      "Device set to use cpu\n"
     ]
    }
   ],
   "execution_count": 1
  },
  {
   "metadata": {
    "ExecuteTime": {
     "end_time": "2025-10-01T01:55:59.766334Z",
     "start_time": "2025-10-01T01:55:54.218199Z"
    }
   },
   "cell_type": "code",
   "source": "!py -m spacy download es_core_news_sm",
   "id": "ab0ea446cbde8275",
   "outputs": [
    {
     "name": "stdout",
     "output_type": "stream",
     "text": [
      "Collecting es-core-news-sm==3.8.0\n",
      "  Downloading https://github.com/explosion/spacy-models/releases/download/es_core_news_sm-3.8.0/es_core_news_sm-3.8.0-py3-none-any.whl (12.9 MB)\n",
      "     ---------------------------------------- 0.0/12.9 MB ? eta -:--:--\n",
      "     --------------------------------------  12.8/12.9 MB 77.3 MB/s eta 0:00:01\n",
      "     --------------------------------------- 12.9/12.9 MB 41.2 MB/s eta 0:00:00\n",
      "Installing collected packages: es-core-news-sm\n",
      "Successfully installed es-core-news-sm-3.8.0\n",
      "\u001B[38;5;2m✔ Download and installation successful\u001B[0m\n",
      "You can now load the package via spacy.load('es_core_news_sm')\n"
     ]
    },
    {
     "name": "stderr",
     "output_type": "stream",
     "text": [
      "\n",
      "[notice] A new release of pip is available: 25.1.1 -> 25.2\n",
      "[notice] To update, run: C:\\Users\\aml\\AppData\\Local\\Programs\\Python\\Python313\\python.exe -m pip install --upgrade pip\n"
     ]
    }
   ],
   "execution_count": 5
  },
  {
   "metadata": {
    "ExecuteTime": {
     "end_time": "2025-10-01T01:56:04.866916Z",
     "start_time": "2025-10-01T01:56:02.230024Z"
    }
   },
   "cell_type": "code",
   "source": [
    "import spacy\n",
    "nlp = spacy.load(\"es_core_news_sm\")\n",
    "print(\"spaCy cargado: usando lematización y stopwords de spaCy.\")\n",
    "\n",
    "def preprocess_spacy(text):\n",
    "    doc = nlp(str(text).lower())\n",
    "    tokens = [t.lemma_ for t in doc if not t.is_stop and t.is_alpha]\n",
    "    return \" \".join(tokens)\n",
    "\n",
    "df[\"texto_preprocesado\"] = df[\"texto_comentario\"].apply(preprocess_spacy)"
   ],
   "id": "3591db07f02c617c",
   "outputs": [
    {
     "name": "stdout",
     "output_type": "stream",
     "text": [
      "spaCy cargado: usando lematización y stopwords de spaCy.\n"
     ]
    }
   ],
   "execution_count": 6
  },
  {
   "metadata": {
    "ExecuteTime": {
     "end_time": "2025-10-01T01:56:53.809817Z",
     "start_time": "2025-10-01T01:56:41.538624Z"
    }
   },
   "cell_type": "code",
   "source": [
    "# Analizar sentimientos\n",
    "results = df[\"texto_preprocesado\"].apply(lambda x: sentiment_pipeline(x)[0])\n",
    "\n",
    "# Guardar resultados en nuevas columnas\n",
    "df[\"sentimiento\"] = results.apply(lambda r: r[\"label\"])\n",
    "df[\"score\"] = results.apply(lambda r: r[\"score\"])\n",
    "\n",
    "# Mostrar tabla final\n",
    "print(df[[\"id_comentario\", \"calificacion\", \"sentimiento\", \"score\"]])\n",
    "\n",
    "# (Opcional) exportar a CSV con resultados\n",
    "df.to_csv(\"comentarios_con_sentimiento.csv\", index=False)"
   ],
   "id": "8436d8771449d9d6",
   "outputs": [
    {
     "name": "stdout",
     "output_type": "stream",
     "text": [
      "     id_comentario  calificacion sentimiento     score\n",
      "0                1             5     5 stars  0.636286\n",
      "1                2             4     4 stars  0.343702\n",
      "2                3             5     4 stars  0.269417\n",
      "3                4             3     3 stars  0.433529\n",
      "4                5             4     4 stars  0.427259\n",
      "..             ...           ...         ...       ...\n",
      "615            616             5     5 stars  0.814916\n",
      "616            617             5     5 stars  0.897432\n",
      "617            618             4     5 stars  0.490447\n",
      "618            619             4     4 stars  0.454922\n",
      "619            620             5     5 stars  0.726332\n",
      "\n",
      "[620 rows x 4 columns]\n"
     ]
    }
   ],
   "execution_count": 7
  },
  {
   "metadata": {
    "ExecuteTime": {
     "end_time": "2025-10-01T01:59:07.034742Z",
     "start_time": "2025-10-01T01:59:06.906672Z"
    }
   },
   "cell_type": "code",
   "source": [
    "import matplotlib.pyplot as plt\n",
    "import seaborn as sns\n",
    "\n",
    "# Normalizar etiquetas (opcional: agrupar positivo / neutro / negativo)\n",
    "def normalize_label(label):\n",
    "    estrellas = int(label.split()[0])  # \"5 stars\" → 5\n",
    "    if estrellas <= 2:\n",
    "        return \"Negativo\"\n",
    "    elif estrellas == 3:\n",
    "        return \"Neutro\"\n",
    "    else:\n",
    "        return \"Positivo\"\n",
    "\n",
    "df[\"sentimiento_simple\"] = df[\"sentimiento\"].apply(normalize_label)\n",
    "\n",
    "# --- Visualización ---\n",
    "plt.figure(figsize=(6,4))\n",
    "sns.countplot(data=df, x=\"sentimiento_simple\", palette=\"Set2\")\n",
    "plt.title(\"Distribución de Sentimientos en Comentarios\")\n",
    "plt.xlabel(\"Sentimiento\")\n",
    "plt.ylabel(\"Número de comentarios\")\n",
    "plt.show()"
   ],
   "id": "ae419eaadea42e03",
   "outputs": [
    {
     "name": "stderr",
     "output_type": "stream",
     "text": [
      "C:\\Users\\aml\\AppData\\Local\\Temp\\ipykernel_27292\\129840792.py:18: FutureWarning: \n",
      "\n",
      "Passing `palette` without assigning `hue` is deprecated and will be removed in v0.14.0. Assign the `x` variable to `hue` and set `legend=False` for the same effect.\n",
      "\n",
      "  sns.countplot(data=df, x=\"sentimiento_simple\", palette=\"Set2\")\n"
     ]
    },
    {
     "data": {
      "text/plain": [
       "<Figure size 600x400 with 1 Axes>"
      ],
      "image/png": "[encoded data removed]"
     },
     "metadata": {},
     "output_type": "display_data"
    }
   ],
   "execution_count": 10
  }
 ],
 "metadata": {
  "kernelspec": {
   "display_name": "Python 3",
   "language": "python",
   "name": "python3"
  },
  "language_info": {
   "codemirror_mode": {
    "name": "ipython",
    "version": 2
   },
   "file_extension": ".py",
   "mimetype": "text/x-python",
   "name": "python",
   "nbconvert_exporter": "python",
   "pygments_lexer": "ipython2",
   "version": "2.7.6"
  }
 },
 "nbformat": 4,
 "nbformat_minor": 5
}
