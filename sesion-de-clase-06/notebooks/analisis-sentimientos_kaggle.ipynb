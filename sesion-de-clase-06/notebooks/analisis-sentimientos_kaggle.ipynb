{
 "cells": [
  {
   "cell_type": "code",
   "id": "initial_id",
   "metadata": {
    "collapsed": true,
    "ExecuteTime": {
     "end_time": "2025-10-01T02:14:30.004765Z",
     "start_time": "2025-10-01T02:14:29.330600Z"
    }
   },
   "source": [
    "import pandas as pd\n",
    "from transformers import pipeline\n",
    "\n",
    "# Leer dataset desde CSV\n",
    "df = pd.read_csv(\"../data/archive/train.csv\", encoding=\"latin1\")\n",
    "\n",
    "# Cargar pipeline de análisis de sentimientos (multilingüe, soporta español)\n",
    "sentiment_pipeline = pipeline(\n",
    "    \"sentiment-analysis\",\n",
    "    model=\"nlptown/bert-base-multilingual-uncased-sentiment\"\n",
    ")"
   ],
   "outputs": [
    {
     "name": "stderr",
     "output_type": "stream",
     "text": [
      "Device set to use cpu\n"
     ]
    }
   ],
   "execution_count": 3
  },
  {
   "metadata": {
    "ExecuteTime": {
     "end_time": "2025-10-01T02:17:52.775687Z",
     "start_time": "2025-10-01T02:17:47.402697Z"
    }
   },
   "cell_type": "code",
   "source": "!py -m spacy download en_core_web_sm",
   "id": "ab0ea446cbde8275",
   "outputs": [
    {
     "name": "stdout",
     "output_type": "stream",
     "text": [
      "Collecting en-core-web-sm==3.8.0\n",
      "  Downloading https://github.com/explosion/spacy-models/releases/download/en_core_web_sm-3.8.0/en_core_web_sm-3.8.0-py3-none-any.whl (12.8 MB)\n",
      "     ---------------------------------------- 0.0/12.8 MB ? eta -:--:--\n",
      "     ------------------------------- ------- 10.5/12.8 MB 82.9 MB/s eta 0:00:01\n",
      "     --------------------------------------- 12.8/12.8 MB 32.9 MB/s eta 0:00:00\n",
      "Installing collected packages: en-core-web-sm\n",
      "Successfully installed en-core-web-sm-3.8.0\n",
      "\u001B[38;5;2m✔ Download and installation successful\u001B[0m\n",
      "You can now load the package via spacy.load('en_core_web_sm')\n"
     ]
    },
    {
     "name": "stderr",
     "output_type": "stream",
     "text": [
      "\n",
      "[notice] A new release of pip is available: 25.1.1 -> 25.2\n",
      "[notice] To update, run: C:\\Users\\aml\\AppData\\Local\\Programs\\Python\\Python313\\python.exe -m pip install --upgrade pip\n"
     ]
    }
   ],
   "execution_count": 13
  },
  {
   "metadata": {
    "ExecuteTime": {
     "end_time": "2025-10-01T02:14:41.576514Z",
     "start_time": "2025-10-01T02:14:41.568682Z"
    }
   },
   "cell_type": "code",
   "source": "df.head()",
   "id": "1e319b152d91a579",
   "outputs": [
    {
     "data": {
      "text/plain": [
       "       textID                                               text  \\\n",
       "0  cb774db0d1                I`d have responded, if I were going   \n",
       "1  549e992a42      Sooo SAD I will miss you here in San Diego!!!   \n",
       "2  088c60f138                          my boss is bullying me...   \n",
       "3  9642c003ef                     what interview! leave me alone   \n",
       "4  358bd9e861   Sons of ****, why couldn`t they put them on t...   \n",
       "\n",
       "                         selected_text sentiment Time of Tweet Age of User  \\\n",
       "0  I`d have responded, if I were going   neutral       morning        0-20   \n",
       "1                             Sooo SAD  negative          noon       21-30   \n",
       "2                          bullying me  negative         night       31-45   \n",
       "3                       leave me alone  negative       morning       46-60   \n",
       "4                        Sons of ****,  negative          noon       60-70   \n",
       "\n",
       "       Country  Population -2020  Land Area (Km²)  Density (P/Km²)  \n",
       "0  Afghanistan          38928346         652860.0               60  \n",
       "1      Albania           2877797          27400.0              105  \n",
       "2      Algeria          43851044        2381740.0               18  \n",
       "3      Andorra             77265            470.0              164  \n",
       "4       Angola          32866272        1246700.0               26  "
      ],
      "text/html": [
       "<div>\n",
       "<style scoped>\n",
       "    .dataframe tbody tr th:only-of-type {\n",
       "        vertical-align: middle;\n",
       "    }\n",
       "\n",
       "    .dataframe tbody tr th {\n",
       "        vertical-align: top;\n",
       "    }\n",
       "\n",
       "    .dataframe thead th {\n",
       "        text-align: right;\n",
       "    }\n",
       "</style>\n",
       "<table border=\"1\" class=\"dataframe\">\n",
       "  <thead>\n",
       "    <tr style=\"text-align: right;\">\n",
       "      <th></th>\n",
       "      <th>textID</th>\n",
       "      <th>text</th>\n",
       "      <th>selected_text</th>\n",
       "      <th>sentiment</th>\n",
       "      <th>Time of Tweet</th>\n",
       "      <th>Age of User</th>\n",
       "      <th>Country</th>\n",
       "      <th>Population -2020</th>\n",
       "      <th>Land Area (Km²)</th>\n",
       "      <th>Density (P/Km²)</th>\n",
       "    </tr>\n",
       "  </thead>\n",
       "  <tbody>\n",
       "    <tr>\n",
       "      <th>0</th>\n",
       "      <td>cb774db0d1</td>\n",
       "      <td>I`d have responded, if I were going</td>\n",
       "      <td>I`d have responded, if I were going</td>\n",
       "      <td>neutral</td>\n",
       "      <td>morning</td>\n",
       "      <td>0-20</td>\n",
       "      <td>Afghanistan</td>\n",
       "      <td>38928346</td>\n",
       "      <td>652860.0</td>\n",
       "      <td>60</td>\n",
       "    </tr>\n",
       "    <tr>\n",
       "      <th>1</th>\n",
       "      <td>549e992a42</td>\n",
       "      <td>Sooo SAD I will miss you here in San Diego!!!</td>\n",
       "      <td>Sooo SAD</td>\n",
       "      <td>negative</td>\n",
       "      <td>noon</td>\n",
       "      <td>21-30</td>\n",
       "      <td>Albania</td>\n",
       "      <td>2877797</td>\n",
       "      <td>27400.0</td>\n",
       "      <td>105</td>\n",
       "    </tr>\n",
       "    <tr>\n",
       "      <th>2</th>\n",
       "      <td>088c60f138</td>\n",
       "      <td>my boss is bullying me...</td>\n",
       "      <td>bullying me</td>\n",
       "      <td>negative</td>\n",
       "      <td>night</td>\n",
       "      <td>31-45</td>\n",
       "      <td>Algeria</td>\n",
       "      <td>43851044</td>\n",
       "      <td>2381740.0</td>\n",
       "      <td>18</td>\n",
       "    </tr>\n",
       "    <tr>\n",
       "      <th>3</th>\n",
       "      <td>9642c003ef</td>\n",
       "      <td>what interview! leave me alone</td>\n",
       "      <td>leave me alone</td>\n",
       "      <td>negative</td>\n",
       "      <td>morning</td>\n",
       "      <td>46-60</td>\n",
       "      <td>Andorra</td>\n",
       "      <td>77265</td>\n",
       "      <td>470.0</td>\n",
       "      <td>164</td>\n",
       "    </tr>\n",
       "    <tr>\n",
       "      <th>4</th>\n",
       "      <td>358bd9e861</td>\n",
       "      <td>Sons of ****, why couldn`t they put them on t...</td>\n",
       "      <td>Sons of ****,</td>\n",
       "      <td>negative</td>\n",
       "      <td>noon</td>\n",
       "      <td>60-70</td>\n",
       "      <td>Angola</td>\n",
       "      <td>32866272</td>\n",
       "      <td>1246700.0</td>\n",
       "      <td>26</td>\n",
       "    </tr>\n",
       "  </tbody>\n",
       "</table>\n",
       "</div>"
      ]
     },
     "execution_count": 5,
     "metadata": {},
     "output_type": "execute_result"
    }
   ],
   "execution_count": 5
  },
  {
   "metadata": {
    "ExecuteTime": {
     "end_time": "2025-10-01T02:19:38.431625Z",
     "start_time": "2025-10-01T02:18:05.321086Z"
    }
   },
   "cell_type": "code",
   "source": [
    "import spacy\n",
    "nlp = spacy.load(\"en_core_web_sm\")\n",
    "print(\"spaCy cargado: usando lematización y stopwords de spaCy.\")\n",
    "\n",
    "def preprocess_spacy(text):\n",
    "    doc = nlp(str(text).lower())\n",
    "    tokens = [t.lemma_ for t in doc if not t.is_stop and t.is_alpha]\n",
    "    return \" \".join(tokens)\n",
    "\n",
    "df[\"text_preprocesado\"] = df[\"text\"].apply(preprocess_spacy)"
   ],
   "id": "3591db07f02c617c",
   "outputs": [
    {
     "name": "stdout",
     "output_type": "stream",
     "text": [
      "spaCy cargado: usando lematización y stopwords de spaCy.\n"
     ]
    }
   ],
   "execution_count": 16
  },
  {
   "metadata": {
    "ExecuteTime": {
     "end_time": "2025-10-01T02:32:15.311691Z",
     "start_time": "2025-10-01T02:22:35.039523Z"
    }
   },
   "cell_type": "code",
   "source": [
    "# Analizar sentimientos\n",
    "results = df[\"text_preprocesado\"].apply(lambda x: sentiment_pipeline(x)[0])\n",
    "\n",
    "# Guardar resultados en nuevas columnas\n",
    "df[\"sentimiento\"] = results.apply(lambda r: r[\"label\"])\n",
    "df[\"score\"] = results.apply(lambda r: r[\"score\"])\n",
    "\n",
    "# Mostrar tabla final\n",
    "print(df[[\"textID\", \"text\", \"text_preprocesado\" ,\"sentimiento\", \"score\"]])\n",
    "\n",
    "# (Opcional) exportar a CSV con resultados\n",
    "df.to_csv(\"comentarios_con_sentimiento_kaggle.csv\", index=False)"
   ],
   "id": "8436d8771449d9d6",
   "outputs": [
    {
     "name": "stdout",
     "output_type": "stream",
     "text": [
      "           textID                                               text  \\\n",
      "0      cb774db0d1                I`d have responded, if I were going   \n",
      "1      549e992a42      Sooo SAD I will miss you here in San Diego!!!   \n",
      "2      088c60f138                          my boss is bullying me...   \n",
      "3      9642c003ef                     what interview! leave me alone   \n",
      "4      358bd9e861   Sons of ****, why couldn`t they put them on t...   \n",
      "...           ...                                                ...   \n",
      "27476  4eac33d1c0   wish we could come see u on Denver  husband l...   \n",
      "27477  4f4c4fc327   I`ve wondered about rake to.  The client has ...   \n",
      "27478  f67aae2310   Yay good for both of you. Enjoy the break - y...   \n",
      "27479  ed167662a5                         But it was worth it  ****.   \n",
      "27480  6f7127d9d7     All this flirting going on - The ATG smiles...   \n",
      "\n",
      "                                       text_preprocesado sentimiento     score  \n",
      "0                                             respond go     5 stars  0.382449  \n",
      "1                                sooo sad miss san diego     3 stars  0.322259  \n",
      "2                                             boss bully     5 stars  0.331752  \n",
      "3                                        interview leave      1 star  0.520836  \n",
      "4                                        son release buy     5 stars  0.421798  \n",
      "...                                                  ...         ...       ...  \n",
      "27476         wish come u denver husband lose job afford      1 star  0.356134  \n",
      "27477  wonder rake client clear force devs learn new ...     5 stars  0.652050  \n",
      "27478  yay good enjoy break probably need hectic week...     4 stars  0.467883  \n",
      "27479                                              worth     5 stars  0.451777  \n",
      "27480                         flirt go atg smile yay hug     5 stars  0.263274  \n",
      "\n",
      "[27481 rows x 5 columns]\n"
     ]
    }
   ],
   "execution_count": 19
  },
  {
   "metadata": {
    "ExecuteTime": {
     "end_time": "2025-10-01T02:32:15.452367Z",
     "start_time": "2025-10-01T02:32:15.328166Z"
    }
   },
   "cell_type": "code",
   "source": [
    "import matplotlib.pyplot as plt\n",
    "import seaborn as sns\n",
    "\n",
    "# Normalizar etiquetas (opcional: agrupar positivo / neutro / negativo)\n",
    "def normalize_label(label):\n",
    "    estrellas = int(label.split()[0])  # \"5 stars\" → 5\n",
    "    if estrellas <= 2:\n",
    "        return \"Negativo\"\n",
    "    elif estrellas == 3:\n",
    "        return \"Neutro\"\n",
    "    else:\n",
    "        return \"Positivo\"\n",
    "\n",
    "df[\"sentimiento_simple\"] = df[\"sentimiento\"].apply(normalize_label)\n",
    "\n",
    "# --- Visualización ---\n",
    "plt.figure(figsize=(6,4))\n",
    "sns.countplot(data=df, x=\"sentimiento_simple\", palette=\"Set2\")\n",
    "plt.title(\"Distribución de Sentimientos en Comentarios\")\n",
    "plt.xlabel(\"Sentimiento\")\n",
    "plt.ylabel(\"Número de comentarios\")\n",
    "plt.show()"
   ],
   "id": "ae419eaadea42e03",
   "outputs": [
    {
     "name": "stderr",
     "output_type": "stream",
     "text": [
      "C:\\Users\\aml\\AppData\\Local\\Temp\\ipykernel_24632\\129840792.py:18: FutureWarning: \n",
      "\n",
      "Passing `palette` without assigning `hue` is deprecated and will be removed in v0.14.0. Assign the `x` variable to `hue` and set `legend=False` for the same effect.\n",
      "\n",
      "  sns.countplot(data=df, x=\"sentimiento_simple\", palette=\"Set2\")\n"
     ]
    },
    {
     "data": {
      "text/plain": [
       "<Figure size 600x400 with 1 Axes>"
      ],
      "image/png": "[encoded data removed]"
     },
     "metadata": {},
     "output_type": "display_data"
    }
   ],
   "execution_count": 20
  }
 ],
 "metadata": {
  "kernelspec": {
   "display_name": "Python 3",
   "language": "python",
   "name": "python3"
  },
  "language_info": {
   "codemirror_mode": {
    "name": "ipython",
    "version": 2
   },
   "file_extension": ".py",
   "mimetype": "text/x-python",
   "name": "python",
   "nbconvert_exporter": "python",
   "pygments_lexer": "ipython2",
   "version": "2.7.6"
  }
 },
 "nbformat": 4,
 "nbformat_minor": 5
}
