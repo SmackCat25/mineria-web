{
 "cells": [
  {
   "metadata": {
    "ExecuteTime": {
     "end_time": "2025-09-30T17:25:52.712342Z",
     "start_time": "2025-09-30T17:25:52.706440Z"
    }
   },
   "cell_type": "code",
   "source": [
    "import tensorflow as tf\n",
    "\n",
    "out_dir = \"logs/embeddings\"\n",
    "ckpt_path = tf.train.latest_checkpoint(out_dir)\n",
    "if not ckpt_path:\n",
    "    raise FileNotFoundError(f\"No checkpoint found under {out_dir}. \"\n",
    "                            \"Check the folder and filenames (e.g. embedding.ckpt-1.*).\")\n",
    "print(\"Using checkpoint:\", ckpt_path)\n",
    "\n",
    "vars_in_ckpt = tf.train.list_variables(ckpt_path)\n",
    "print(\"Variables in checkpoint:\")\n",
    "for name, shape in vars_in_ckpt:\n",
    "    print(\" \", name, shape)\n",
    "\n",
    "candidate = None\n",
    "candidate_shape = None\n",
    "largest_size = 0\n",
    "for name, shape in vars_in_ckpt:\n",
    "    if len(shape) == 2:\n",
    "        size = shape[0] * shape[1]\n",
    "        if size > largest_size:\n",
    "            largest_size = size\n",
    "            candidate = name\n",
    "            candidate_shape = shape\n",
    "\n",
    "if candidate is None:\n",
    "    raise RuntimeError(\"No 2-D variable found in checkpoint. Check saved checkpoint contents above.\")\n",
    "\n",
    "print(f\"Loading variable '{candidate}' with shape {candidate_shape} from checkpoint...\")\n",
    "embeddings = tf.train.load_variable(ckpt_path, candidate)  # returns numpy array\n",
    "print(\"Loaded embeddings shape:\", embeddings.shape)"
   ],
   "id": "a9870f0ab49f8ee",
   "outputs": [
    {
     "name": "stdout",
     "output_type": "stream",
     "text": [
      "Using checkpoint: logs/embeddings/embedding.ckpt-1\n",
      "Variables in checkpoint:\n",
      "  _CHECKPOINTABLE_OBJECT_GRAPH []\n",
      "  embedding/.ATTRIBUTES/VARIABLE_VALUE [30, 384]\n",
      "  save_counter/.ATTRIBUTES/VARIABLE_VALUE []\n",
      "Loading variable 'embedding/.ATTRIBUTES/VARIABLE_VALUE' with shape [30, 384] from checkpoint...\n",
      "Loaded embeddings shape: (30, 384)\n"
     ]
    }
   ],
   "execution_count": 9
  },
  {
   "metadata": {
    "ExecuteTime": {
     "end_time": "2025-09-30T17:44:01.608399Z",
     "start_time": "2025-09-30T17:44:01.599283Z"
    }
   },
   "cell_type": "code",
   "source": [
    "import faiss\n",
    "import numpy as np\n",
    "import pandas as pd\n",
    "\n",
    "# Cargar metadata\n",
    "metadata = pd.read_csv(\"logs/embeddings/metadata.tsv\", sep=\"\\t\")\n",
    "\n",
    "# Normalizar embeddings\n",
    "embeddings_norm = embeddings / np.linalg.norm(embeddings, axis=1, keepdims=True)\n",
    "\n",
    "# Crear índice FAISS\n",
    "dim = embeddings.shape[1]\n",
    "index = faiss.IndexFlatIP(dim)\n",
    "index.add(embeddings_norm.astype(\"float32\"))\n",
    "\n",
    "def top_k_products(query_idx, k=5):\n",
    "    query_vec = embeddings_norm[query_idx].astype(\"float32\").reshape(1, -1)\n",
    "    D, I = index.search(query_vec, k=50)  # pedimos más resultados y luego filtramos\n",
    "\n",
    "    productos = []\n",
    "    for dist, idx in zip(D[0], I[0]):\n",
    "        if metadata.iloc[idx][\"tipo\"] == \"producto\":\n",
    "            productos.append((dist, idx))\n",
    "        if len(productos) >= k:\n",
    "            break\n",
    "\n",
    "    return productos\n",
    "\n",
    "# Ejemplo: recomendación para el cliente 0\n",
    "cliente_idx = 0\n",
    "print(\"Cliente:\", metadata.iloc[cliente_idx][\"texto_completo\"])\n",
    "print(\"\\nTop-5 productos similares:\")\n",
    "for dist, idx in top_k_products(cliente_idx, k=5):\n",
    "    row = metadata.iloc[idx]\n",
    "    print(f\" - {row['label']} | score={dist:.4f}\")\n"
   ],
   "id": "2891be69ce4744ad",
   "outputs": [
    {
     "name": "stdout",
     "output_type": "stream",
     "text": [
      "Cliente: Ana Martínez Madrid España Smartphone Nexus 5G Laptop Gamer Pro Auriculares Inalámbricos X Camiseta Deportiva Ultralight Zapatillas Urbanas Fit Smartphone Nexus 5G Laptop Gamer Pro Laptop Gamer Pro Laptop Gamer Pro Laptop Gamer Pro Smartphone Nexus 5G El Smartphone Nexus 5G redefine la experiencia móvil. Su pantalla OLED de 6.7 pulgadas con una frecuencia de 120Hz proporciona colores vibrantes y negros profundos. La cámara principal de 108MP, junto con un lente ultra gran angular y un teleobjetivo, captura fotos de calidad profesional en cualquier condición de iluminación. Equipado con un procesador Qualcomm Snapdragon 8 Gen 2, 12GB de RAM y una batería de 5000 mAh, este teléfono ofrece un rendimiento fluido y una autonomía excepcional. Soporta carga rápida de 65W. Laptop de alto rendimiento para gaming y creación de contenido. Cuenta con un procesador Intel Core i9 de última generación, 32GB de RAM DDR5 y una tarjeta gráfica NVIDIA RTX 4080. Su pantalla de 16 pulgadas con tasa de refresco de 240Hz y resolución QHD+ ofrece una experiencia visual inmersiva. El chasis de aluminio pulido y el sistema de enfriamiento avanzado garantizan un rendimiento óptimo incluso en las sesiones de juego más largas. Incluye un teclado mecánico retroiluminado con personalización RGB por tecla. Auriculares Bluetooth de diadema diseñados para audiófilos. Cuentan con controladores de neodimio de 50mm que ofrecen un sonido de alta fidelidad con bajos ricos y agudos cristalinos. La tecnología de cancelación de ruido activa (ANC) reduce hasta un 95% del sonido ambiental, ideal para viajes o entornos de trabajo ruidosos. La batería de iones de litio proporciona hasta 40 horas de reproducción continua. El diseño ergonómico y las almohadillas de espuma viscoelástica garantizan la máxima comodidad durante horas de uso. Incluye un micrófono con tecnología de supresión de eco para llamadas claras. Camiseta técnica de alto rendimiento para deportes. Fabricada con un tejido ligero y transpirable que absorbe la humedad y se seca rápidamente. Su corte atlético y las costuras planas evitan las rozaduras y maximizan la libertad de movimiento. El material es 100% poliéster reciclado, lo que la convierte en una opción sostenible y ecológica. Disponible en varios colores vibrantes. Perfecta para correr, ir al gimnasio o cualquier actividad física intensa. Calzado deportivo y casual diseñado para el confort diario. La parte superior de malla transpirable y la suela de espuma de memoria se adaptan a la forma de tu pie, proporcionando un soporte inigualable y una amortiguación superior. La suela de goma duradera ofrece una excelente tracción en diversas superficies. Su diseño minimalista y elegante las hace ideales para combinar con cualquier atuendo, desde jeans hasta pantalones de deporte. Disponibles en tallas unisex. El Smartphone Nexus 5G redefine la experiencia móvil. Su pantalla OLED de 6.7 pulgadas con una frecuencia de 120Hz proporciona colores vibrantes y negros profundos. La cámara principal de 108MP, junto con un lente ultra gran angular y un teleobjetivo, captura fotos de calidad profesional en cualquier condición de iluminación. Equipado con un procesador Qualcomm Snapdragon 8 Gen 2, 12GB de RAM y una batería de 5000 mAh, este teléfono ofrece un rendimiento fluido y una autonomía excepcional. Soporta carga rápida de 65W. Laptop de alto rendimiento para gaming y creación de contenido. Cuenta con un procesador Intel Core i9 de última generación, 32GB de RAM DDR5 y una tarjeta gráfica NVIDIA RTX 4080. Su pantalla de 16 pulgadas con tasa de refresco de 240Hz y resolución QHD+ ofrece una experiencia visual inmersiva. El chasis de aluminio pulido y el sistema de enfriamiento avanzado garantizan un rendimiento óptimo incluso en las sesiones de juego más largas. Incluye un teclado mecánico retroiluminado con personalización RGB por tecla. Laptop de alto rendimiento para gaming y creación de contenido. Cuenta con un procesador Intel Core i9 de última generación, 32GB de RAM DDR5 y una tarjeta gráfica NVIDIA RTX 4080. Su pantalla de 16 pulgadas con tasa de refresco de 240Hz y resolución QHD+ ofrece una experiencia visual inmersiva. El chasis de aluminio pulido y el sistema de enfriamiento avanzado garantizan un rendimiento óptimo incluso en las sesiones de juego más largas. Incluye un teclado mecánico retroiluminado con personalización RGB por tecla. Laptop de alto rendimiento para gaming y creación de contenido. Cuenta con un procesador Intel Core i9 de última generación, 32GB de RAM DDR5 y una tarjeta gráfica NVIDIA RTX 4080. Su pantalla de 16 pulgadas con tasa de refresco de 240Hz y resolución QHD+ ofrece una experiencia visual inmersiva. El chasis de aluminio pulido y el sistema de enfriamiento avanzado garantizan un rendimiento óptimo incluso en las sesiones de juego más largas. Incluye un teclado mecánico retroiluminado con personalización RGB por tecla. Laptop de alto rendimiento para gaming y creación de contenido. Cuenta con un procesador Intel Core i9 de última generación, 32GB de RAM DDR5 y una tarjeta gráfica NVIDIA RTX 4080. Su pantalla de 16 pulgadas con tasa de refresco de 240Hz y resolución QHD+ ofrece una experiencia visual inmersiva. El chasis de aluminio pulido y el sistema de enfriamiento avanzado garantizan un rendimiento óptimo incluso en las sesiones de juego más largas. Incluye un teclado mecánico retroiluminado con personalización RGB por tecla. El Smartphone Nexus 5G redefine la experiencia móvil. Su pantalla OLED de 6.7 pulgadas con una frecuencia de 120Hz proporciona colores vibrantes y negros profundos. La cámara principal de 108MP, junto con un lente ultra gran angular y un teleobjetivo, captura fotos de calidad profesional en cualquier condición de iluminación. Equipado con un procesador Qualcomm Snapdragon 8 Gen 2, 12GB de RAM y una batería de 5000 mAh, este teléfono ofrece un rendimiento fluido y una autonomía excepcional. Soporta carga rápida de 65W.\n",
      "\n",
      "Top-5 productos similares:\n",
      " - Smartphone Nexus 5G | score=0.6898\n",
      " - Laptop Gamer Pro | score=0.5225\n",
      " - Auriculares Inalámbricos X | score=0.5098\n",
      " - Camiseta Deportiva Ultralight | score=0.4337\n",
      " - Cámara de Acción 4K | score=0.3483\n"
     ]
    }
   ],
   "execution_count": 11
  },
  {
   "metadata": {
    "ExecuteTime": {
     "end_time": "2025-09-30T17:47:15.271181Z",
     "start_time": "2025-09-30T17:47:10.296394Z"
    }
   },
   "cell_type": "code",
   "source": [
    "from sentence_transformers import SentenceTransformer\n",
    "\n",
    "print(\"SentenceTransformers disponible. Usando modelo multilingüe.\")\n",
    "model_name = \"sentence-transformers/paraphrase-multilingual-MiniLM-L12-v2\"\n",
    "st_model = SentenceTransformer(model_name)"
   ],
   "id": "3aaea1f1397883c6",
   "outputs": [
    {
     "name": "stderr",
     "output_type": "stream",
     "text": [
      "/Users/erichuiza/Documents/pucp/miería web/dev/sesion-de-clase-06/.venv/lib/python3.11/site-packages/tqdm/auto.py:21: TqdmWarning: IProgress not found. Please update jupyter and ipywidgets. See https://ipywidgets.readthedocs.io/en/stable/user_install.html\n",
      "  from .autonotebook import tqdm as notebook_tqdm\n"
     ]
    },
    {
     "name": "stdout",
     "output_type": "stream",
     "text": [
      "WARNING:tensorflow:Detecting that an object or model or tf.train.Checkpoint is being deleted with unrestored values. See the following logs for the specific values in question. To silence these warnings, use `status.expect_partial()`. See https://www.tensorflow.org/api_docs/python/tf/train/Checkpoint#restorefor details about the status object returned by the restore function.\n",
      "WARNING:tensorflow:Value in checkpoint could not be found in the restored object: (root).save_counter\n",
      "SentenceTransformers disponible. Usando modelo multilingüe.\n"
     ]
    }
   ],
   "execution_count": 12
  },
  {
   "metadata": {
    "ExecuteTime": {
     "end_time": "2025-09-30T17:48:33.387568Z",
     "start_time": "2025-09-30T17:48:33.384623Z"
    }
   },
   "cell_type": "code",
   "source": [
    "def search_query(query_text, k=5, tipo=\"producto\"):\n",
    "    # generar embedding del query\n",
    "    q_emb = st_model.encode([query_text], convert_to_numpy=True)\n",
    "    q_emb = q_emb / np.linalg.norm(q_emb, axis=1, keepdims=True)\n",
    "\n",
    "    # buscar en FAISS\n",
    "    D, I = index.search(q_emb.astype(\"float32\"), k=50)\n",
    "\n",
    "    resultados = []\n",
    "    for dist, idx in zip(D[0], I[0]):\n",
    "        if metadata.iloc[idx][\"tipo\"] == tipo:\n",
    "            row = metadata.iloc[idx]\n",
    "            resultados.append((dist, row[\"label\"], row[\"texto_completo\"]))\n",
    "        if len(resultados) >= k:\n",
    "            break\n",
    "\n",
    "    return resultados"
   ],
   "id": "1c812db1e82c1a34",
   "outputs": [],
   "execution_count": 14
  },
  {
   "metadata": {
    "ExecuteTime": {
     "end_time": "2025-09-30T19:35:01.718777Z",
     "start_time": "2025-09-30T19:35:01.674638Z"
    }
   },
   "cell_type": "code",
   "source": [
    "# Ejemplo de uso:\n",
    "query = \"fotografía\"\n",
    "resultados = search_query(query, k=5, tipo=\"producto\")\n",
    "\n",
    "print(f\"🔎 Query: {query}\\n\")\n",
    "for score, label, texto in resultados:\n",
    "    print(f\"- {label} | score={score:.4f}\\n  {texto[:100]}...\")"
   ],
   "id": "4cfe946758d7b0e9",
   "outputs": [
    {
     "name": "stdout",
     "output_type": "stream",
     "text": [
      "🔎 Query: fotografía\n",
      "\n",
      "- Cámara de Acción 4K | score=0.4897\n",
      "  Cámara de Acción 4K...\n",
      "- Camiseta Deportiva Ultralight | score=0.3590\n",
      "  Camiseta Deportiva Ultralight...\n",
      "- Auriculares Inalámbricos X | score=0.3174\n",
      "  Auriculares Inalámbricos X...\n",
      "- Mochila Urbana Tech | score=0.2968\n",
      "  Mochila Urbana Tech...\n",
      "- Zapatillas Urbanas Fit | score=0.2845\n",
      "  Zapatillas Urbanas Fit...\n"
     ]
    }
   ],
   "execution_count": 39
  }
 ],
 "metadata": {
  "kernelspec": {
   "display_name": "Python 3",
   "language": "python",
   "name": "python3"
  },
  "language_info": {
   "codemirror_mode": {
    "name": "ipython",
    "version": 2
   },
   "file_extension": ".py",
   "mimetype": "text/x-python",
   "name": "python",
   "nbconvert_exporter": "python",
   "pygments_lexer": "ipython2",
   "version": "2.7.6"
  }
 },
 "nbformat": 4,
 "nbformat_minor": 5
}
