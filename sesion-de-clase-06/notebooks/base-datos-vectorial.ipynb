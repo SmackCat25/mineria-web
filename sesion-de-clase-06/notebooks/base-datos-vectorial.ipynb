{
 "cells": [
  {
   "metadata": {
    "ExecuteTime": {
     "end_time": "2025-10-01T01:09:20.721156Z",
     "start_time": "2025-10-01T01:09:19.100644Z"
    }
   },
   "cell_type": "code",
   "source": [
    "import tensorflow as tf\n",
    "\n",
    "out_dir = \"logs/embeddings\"\n",
    "ckpt_path = tf.train.latest_checkpoint(out_dir)\n",
    "if not ckpt_path:\n",
    "    raise FileNotFoundError(f\"No checkpoint found under {out_dir}. \"\n",
    "                            \"Check the folder and filenames (e.g. embedding.ckpt-1.*).\")\n",
    "print(\"Using checkpoint:\", ckpt_path)\n",
    "\n",
    "vars_in_ckpt = tf.train.list_variables(ckpt_path)\n",
    "print(\"Variables in checkpoint:\")\n",
    "for name, shape in vars_in_ckpt:\n",
    "    print(\" \", name, shape)\n",
    "\n",
    "candidate = None\n",
    "candidate_shape = None\n",
    "largest_size = 0\n",
    "for name, shape in vars_in_ckpt:\n",
    "    if len(shape) == 2:\n",
    "        size = shape[0] * shape[1]\n",
    "        if size > largest_size:\n",
    "            largest_size = size\n",
    "            candidate = name\n",
    "            candidate_shape = shape\n",
    "\n",
    "if candidate is None:\n",
    "    raise RuntimeError(\"No 2-D variable found in checkpoint. Check saved checkpoint contents above.\")\n",
    "\n",
    "print(f\"Loading variable '{candidate}' with shape {candidate_shape} from checkpoint...\")\n",
    "embeddings = tf.train.load_variable(ckpt_path, candidate)  # returns numpy array\n",
    "print(\"Loaded embeddings shape:\", embeddings.shape)"
   ],
   "id": "a9870f0ab49f8ee",
   "outputs": [
    {
     "name": "stdout",
     "output_type": "stream",
     "text": [
      "Using checkpoint: logs/embeddings\\embedding.ckpt-1\n",
      "Variables in checkpoint:\n",
      "  _CHECKPOINTABLE_OBJECT_GRAPH []\n",
      "  embedding/.ATTRIBUTES/VARIABLE_VALUE [30, 384]\n",
      "  save_counter/.ATTRIBUTES/VARIABLE_VALUE []\n",
      "Loading variable 'embedding/.ATTRIBUTES/VARIABLE_VALUE' with shape [30, 384] from checkpoint...\n",
      "Loaded embeddings shape: (30, 384)\n"
     ]
    }
   ],
   "execution_count": 2
  },
  {
   "metadata": {
    "ExecuteTime": {
     "end_time": "2025-10-01T01:10:45.158992Z",
     "start_time": "2025-10-01T01:10:45.150910Z"
    }
   },
   "cell_type": "code",
   "source": [
    "import faiss\n",
    "import numpy as np\n",
    "import pandas as pd\n",
    "\n",
    "# Cargar metadata\n",
    "metadata = pd.read_csv(\"logs/embeddings/metadata.tsv\", sep=\"\\t\")\n",
    "\n",
    "# Normalizar embeddings\n",
    "embeddings_norm = embeddings / np.linalg.norm(embeddings, axis=1, keepdims=True)\n",
    "\n",
    "# Crear índice FAISS\n",
    "dim = embeddings.shape[1]\n",
    "index = faiss.IndexFlatIP(dim)\n",
    "index.add(embeddings_norm.astype(\"float32\"))\n",
    "\n",
    "def top_k_products(query_idx, k=5):\n",
    "    query_vec = embeddings_norm[query_idx].astype(\"float32\").reshape(1, -1)\n",
    "    D, I = index.search(query_vec, k=50)  # pedimos más resultados y luego filtramos\n",
    "\n",
    "    productos = []\n",
    "    for dist, idx in zip(D[0], I[0]):\n",
    "        if metadata.iloc[idx][\"tipo\"] == \"producto\":\n",
    "            productos.append((dist, idx))\n",
    "        if len(productos) >= k:\n",
    "            break\n",
    "\n",
    "    return productos\n",
    "\n",
    "# Ejemplo: recomendación para el cliente 0\n",
    "cliente_idx = 1\n",
    "print(\"Cliente:\", metadata.iloc[cliente_idx][\"texto_completo\"])\n",
    "print(\"\\nTop-5 productos similares:\")\n",
    "for dist, idx in top_k_products(cliente_idx, k=5):\n",
    "    row = metadata.iloc[idx]\n",
    "    print(f\" - {row['label']} | score={dist:.4f}\")\n"
   ],
   "id": "2891be69ce4744ad",
   "outputs": [
    {
     "name": "stdout",
     "output_type": "stream",
     "text": [
      "Cliente: Carlos Sánchez Ciudad de México México Camiseta Deportiva Ultralight Auriculares Inalámbricos X Zapatillas Urbanas Fit Libro: El Círculo Mágico Set de Ollas Premium Camiseta Deportiva Ultralight Auriculares Inalámbricos X Auriculares Inalámbricos X Auriculares Inalámbricos X Auriculares Inalámbricos X Camiseta Deportiva Ultralight Camiseta técnica de alto rendimiento para deportes. Fabricada con un tejido ligero y transpirable que absorbe la humedad y se seca rápidamente. Su corte atlético y las costuras planas evitan las rozaduras y maximizan la libertad de movimiento. El material es 100% poliéster reciclado, lo que la convierte en una opción sostenible y ecológica. Disponible en varios colores vibrantes. Perfecta para correr, ir al gimnasio o cualquier actividad física intensa. Auriculares Bluetooth de diadema diseñados para audiófilos. Cuentan con controladores de neodimio de 50mm que ofrecen un sonido de alta fidelidad con bajos ricos y agudos cristalinos. La tecnología de cancelación de ruido activa (ANC) reduce hasta un 95% del sonido ambiental, ideal para viajes o entornos de trabajo ruidosos. La batería de iones de litio proporciona hasta 40 horas de reproducción continua. El diseño ergonómico y las almohadillas de espuma viscoelástica garantizan la máxima comodidad durante horas de uso. Incluye un micrófono con tecnología de supresión de eco para llamadas claras. Calzado deportivo y casual diseñado para el confort diario. La parte superior de malla transpirable y la suela de espuma de memoria se adaptan a la forma de tu pie, proporcionando un soporte inigualable y una amortiguación superior. La suela de goma duradera ofrece una excelente tracción en diversas superficies. Su diseño minimalista y elegante las hace ideales para combinar con cualquier atuendo, desde jeans hasta pantalones de deporte. Disponibles en tallas unisex. Una novela de fantasía épica que te sumerge en el reino de Eterea. Sigue la historia de Elara, una joven maga que debe dominar un poder ancestral para salvar a su pueblo de un mal inminente. La autora teje una narrativa intrincada, llena de personajes complejos, criaturas mitológicas y giros inesperados. El mundo está construido con una riqueza de detalles que te hará sentir parte de él. Perfecto para los fans de las sagas de fantasía con temas de heroísmo, traición y redención. Juego de 5 ollas de acero inoxidable de alta calidad. Cada olla cuenta con una base de triple capa para una distribución de calor rápida y uniforme, lo que previene los puntos calientes y asegura una cocción perfecta. Las asas de agarre frío remachadas ofrecen seguridad y durabilidad. Las tapas de vidrio templado con borde de acero permiten monitorear los alimentos sin perder vapor. Apto para todo tipo de estufas, incluyendo inducción, y es seguro para lavavajillas. Camiseta técnica de alto rendimiento para deportes. Fabricada con un tejido ligero y transpirable que absorbe la humedad y se seca rápidamente. Su corte atlético y las costuras planas evitan las rozaduras y maximizan la libertad de movimiento. El material es 100% poliéster reciclado, lo que la convierte en una opción sostenible y ecológica. Disponible en varios colores vibrantes. Perfecta para correr, ir al gimnasio o cualquier actividad física intensa. Auriculares Bluetooth de diadema diseñados para audiófilos. Cuentan con controladores de neodimio de 50mm que ofrecen un sonido de alta fidelidad con bajos ricos y agudos cristalinos. La tecnología de cancelación de ruido activa (ANC) reduce hasta un 95% del sonido ambiental, ideal para viajes o entornos de trabajo ruidosos. La batería de iones de litio proporciona hasta 40 horas de reproducción continua. El diseño ergonómico y las almohadillas de espuma viscoelástica garantizan la máxima comodidad durante horas de uso. Incluye un micrófono con tecnología de supresión de eco para llamadas claras. Auriculares Bluetooth de diadema diseñados para audiófilos. Cuentan con controladores de neodimio de 50mm que ofrecen un sonido de alta fidelidad con bajos ricos y agudos cristalinos. La tecnología de cancelación de ruido activa (ANC) reduce hasta un 95% del sonido ambiental, ideal para viajes o entornos de trabajo ruidosos. La batería de iones de litio proporciona hasta 40 horas de reproducción continua. El diseño ergonómico y las almohadillas de espuma viscoelástica garantizan la máxima comodidad durante horas de uso. Incluye un micrófono con tecnología de supresión de eco para llamadas claras. Auriculares Bluetooth de diadema diseñados para audiófilos. Cuentan con controladores de neodimio de 50mm que ofrecen un sonido de alta fidelidad con bajos ricos y agudos cristalinos. La tecnología de cancelación de ruido activa (ANC) reduce hasta un 95% del sonido ambiental, ideal para viajes o entornos de trabajo ruidosos. La batería de iones de litio proporciona hasta 40 horas de reproducción continua. El diseño ergonómico y las almohadillas de espuma viscoelástica garantizan la máxima comodidad durante horas de uso. Incluye un micrófono con tecnología de supresión de eco para llamadas claras. Auriculares Bluetooth de diadema diseñados para audiófilos. Cuentan con controladores de neodimio de 50mm que ofrecen un sonido de alta fidelidad con bajos ricos y agudos cristalinos. La tecnología de cancelación de ruido activa (ANC) reduce hasta un 95% del sonido ambiental, ideal para viajes o entornos de trabajo ruidosos. La batería de iones de litio proporciona hasta 40 horas de reproducción continua. El diseño ergonómico y las almohadillas de espuma viscoelástica garantizan la máxima comodidad durante horas de uso. Incluye un micrófono con tecnología de supresión de eco para llamadas claras. Camiseta técnica de alto rendimiento para deportes. Fabricada con un tejido ligero y transpirable que absorbe la humedad y se seca rápidamente. Su corte atlético y las costuras planas evitan las rozaduras y maximizan la libertad de movimiento. El material es 100% poliéster reciclado, lo que la convierte en una opción sostenible y ecológica. Disponible en varios colores vibrantes. Perfecta para correr, ir al gimnasio o cualquier actividad física intensa.\n",
      "\n",
      "Top-5 productos similares:\n",
      " - Camiseta Deportiva Ultralight | score=0.6124\n",
      " - Auriculares Inalámbricos X | score=0.5431\n",
      " - Zapatillas Urbanas Fit | score=0.3963\n",
      " - Mochila Urbana Tech | score=0.3960\n",
      " - Set de Ollas Premium | score=0.3216\n"
     ]
    }
   ],
   "execution_count": 6
  },
  {
   "metadata": {
    "ExecuteTime": {
     "end_time": "2025-10-01T01:14:30.754753Z",
     "start_time": "2025-10-01T01:14:18.829775Z"
    }
   },
   "cell_type": "code",
   "source": [
    "from sentence_transformers import SentenceTransformer\n",
    "\n",
    "print(\"SentenceTransformers disponible. Usando modelo multilingüe.\")\n",
    "model_name = \"sentence-transformers/paraphrase-multilingual-MiniLM-L12-v2\"\n",
    "st_model = SentenceTransformer(model_name)"
   ],
   "id": "3aaea1f1397883c6",
   "outputs": [
    {
     "name": "stdout",
     "output_type": "stream",
     "text": [
      "WARNING:tensorflow:From C:\\Users\\aml\\AppData\\Local\\Programs\\Python\\Python313\\Lib\\site-packages\\tf_keras\\src\\losses.py:2976: The name tf.losses.sparse_softmax_cross_entropy is deprecated. Please use tf.compat.v1.losses.sparse_softmax_cross_entropy instead.\n",
      "\n",
      "SentenceTransformers disponible. Usando modelo multilingüe.\n"
     ]
    },
    {
     "name": "stderr",
     "output_type": "stream",
     "text": [
      "C:\\Users\\aml\\AppData\\Local\\Programs\\Python\\Python313\\Lib\\site-packages\\huggingface_hub\\file_download.py:143: UserWarning: `huggingface_hub` cache-system uses symlinks by default to efficiently store duplicated files but your machine does not support them in C:\\Users\\aml\\.cache\\huggingface\\hub\\models--sentence-transformers--paraphrase-multilingual-MiniLM-L12-v2. Caching files will still work but in a degraded version that might require more space on your disk. This warning can be disabled by setting the `HF_HUB_DISABLE_SYMLINKS_WARNING` environment variable. For more details, see https://huggingface.co/docs/huggingface_hub/how-to-cache#limitations.\n",
      "To support symlinks on Windows, you either need to activate Developer Mode or to run Python as an administrator. In order to activate developer mode, see this article: https://docs.microsoft.com/en-us/windows/apps/get-started/enable-your-device-for-development\n",
      "  warnings.warn(message)\n",
      "Xet Storage is enabled for this repo, but the 'hf_xet' package is not installed. Falling back to regular HTTP download. For better performance, install the package with: `pip install huggingface_hub[hf_xet]` or `pip install hf_xet`\n",
      "Xet Storage is enabled for this repo, but the 'hf_xet' package is not installed. Falling back to regular HTTP download. For better performance, install the package with: `pip install huggingface_hub[hf_xet]` or `pip install hf_xet`\n"
     ]
    }
   ],
   "execution_count": 9
  },
  {
   "metadata": {
    "ExecuteTime": {
     "end_time": "2025-10-01T01:14:30.769651Z",
     "start_time": "2025-10-01T01:14:30.766731Z"
    }
   },
   "cell_type": "code",
   "source": [
    "def search_query(query_text, k=5, tipo=\"producto\"):\n",
    "    # generar embedding del query\n",
    "    q_emb = st_model.encode([query_text], convert_to_numpy=True)\n",
    "    q_emb = q_emb / np.linalg.norm(q_emb, axis=1, keepdims=True)\n",
    "\n",
    "    # buscar en FAISS\n",
    "    D, I = index.search(q_emb.astype(\"float32\"), k=50)\n",
    "\n",
    "    resultados = []\n",
    "    for dist, idx in zip(D[0], I[0]):\n",
    "        if metadata.iloc[idx][\"tipo\"] == tipo:\n",
    "            row = metadata.iloc[idx]\n",
    "            resultados.append((dist, row[\"label\"], row[\"texto_completo\"]))\n",
    "        if len(resultados) >= k:\n",
    "            break\n",
    "\n",
    "    return resultados"
   ],
   "id": "1c812db1e82c1a34",
   "outputs": [],
   "execution_count": 10
  },
  {
   "metadata": {
    "ExecuteTime": {
     "end_time": "2025-10-01T01:15:22.155226Z",
     "start_time": "2025-10-01T01:15:22.129925Z"
    }
   },
   "cell_type": "code",
   "source": [
    "# Ejemplo de uso:\n",
    "query = \"libro\"\n",
    "resultados = search_query(query, k=5, tipo=\"producto\")\n",
    "\n",
    "print(f\"🔎 Query: {query}\\n\")\n",
    "for score, label, texto in resultados:\n",
    "    print(f\"- {label} | score={score:.4f}\\n  {texto[:100]}...\")"
   ],
   "id": "4cfe946758d7b0e9",
   "outputs": [
    {
     "name": "stdout",
     "output_type": "stream",
     "text": [
      "🔎 Query: libro\n",
      "\n",
      "- Libro: El Círculo Mágico | score=0.6085\n",
      "  Libro: El Círculo Mágico...\n",
      "- Cámara de Acción 4K | score=0.3329\n",
      "  Cámara de Acción 4K...\n",
      "- Mochila Urbana Tech | score=0.3230\n",
      "  Mochila Urbana Tech...\n",
      "- Zapatillas Urbanas Fit | score=0.3190\n",
      "  Zapatillas Urbanas Fit...\n",
      "- Set de Ollas Premium | score=0.2567\n",
      "  Set de Ollas Premium...\n"
     ]
    }
   ],
   "execution_count": 15
  }
 ],
 "metadata": {
  "kernelspec": {
   "display_name": "Python 3",
   "language": "python",
   "name": "python3"
  },
  "language_info": {
   "codemirror_mode": {
    "name": "ipython",
    "version": 2
   },
   "file_extension": ".py",
   "mimetype": "text/x-python",
   "name": "python",
   "nbconvert_exporter": "python",
   "pygments_lexer": "ipython2",
   "version": "2.7.6"
  }
 },
 "nbformat": 4,
 "nbformat_minor": 5
}
