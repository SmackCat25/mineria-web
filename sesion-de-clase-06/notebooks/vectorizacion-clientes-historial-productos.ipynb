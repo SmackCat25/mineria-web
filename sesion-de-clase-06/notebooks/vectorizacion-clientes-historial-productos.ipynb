{
 "cells": [
  {
   "metadata": {
    "ExecuteTime": {
     "end_time": "2025-09-30T16:07:18.380713Z",
     "start_time": "2025-09-30T16:07:15.901085Z"
    }
   },
   "cell_type": "code",
   "source": "!python -m spacy download es_core_news_sm",
   "id": "903280d6ad2a8126",
   "outputs": [
    {
     "name": "stdout",
     "output_type": "stream",
     "text": [
      "Collecting es-core-news-sm==3.8.0\r\n",
      "  Downloading https://github.com/explosion/spacy-models/releases/download/es_core_news_sm-3.8.0/es_core_news_sm-3.8.0-py3-none-any.whl (12.9 MB)\r\n",
      "\u001B[2K     \u001B[90m━━━━━━━━━━━━━━━━━━━━━━━━━━━━━━━━━━━━━━━━\u001B[0m \u001B[32m12.9/12.9 MB\u001B[0m \u001B[31m50.8 MB/s\u001B[0m eta \u001B[36m0:00:00\u001B[0ma \u001B[36m0:00:01\u001B[0m\r\n",
      "\u001B[?25hInstalling collected packages: es-core-news-sm\r\n",
      "Successfully installed es-core-news-sm-3.8.0\r\n",
      "\r\n",
      "\u001B[1m[\u001B[0m\u001B[34;49mnotice\u001B[0m\u001B[1;39;49m]\u001B[0m\u001B[39;49m A new release of pip is available: \u001B[0m\u001B[31;49m24.3.1\u001B[0m\u001B[39;49m -> \u001B[0m\u001B[32;49m25.2\u001B[0m\r\n",
      "\u001B[1m[\u001B[0m\u001B[34;49mnotice\u001B[0m\u001B[1;39;49m]\u001B[0m\u001B[39;49m To update, run: \u001B[0m\u001B[32;49mpip install --upgrade pip\u001B[0m\r\n",
      "\u001B[38;5;2m✔ Download and installation successful\u001B[0m\r\n",
      "You can now load the package via spacy.load('es_core_news_sm')\r\n"
     ]
    }
   ],
   "execution_count": 16
  },
  {
   "metadata": {
    "ExecuteTime": {
     "end_time": "2025-09-30T16:07:22.336176Z",
     "start_time": "2025-09-30T16:07:21.872610Z"
    }
   },
   "cell_type": "code",
   "source": "!pip install tf-keras",
   "id": "1d6a3eafb781278",
   "outputs": [
    {
     "name": "stdout",
     "output_type": "stream",
     "text": [
      "Requirement already satisfied: tf-keras in /Users/erichuiza/Documents/pucp/miería web/dev/sesion-de-clase-06/.venv/lib/python3.11/site-packages (2.20.1)\r\n",
      "Requirement already satisfied: tensorflow<2.21,>=2.20 in /Users/erichuiza/Documents/pucp/miería web/dev/sesion-de-clase-06/.venv/lib/python3.11/site-packages (from tf-keras) (2.20.0)\r\n",
      "Requirement already satisfied: absl-py>=1.0.0 in /Users/erichuiza/Documents/pucp/miería web/dev/sesion-de-clase-06/.venv/lib/python3.11/site-packages (from tensorflow<2.21,>=2.20->tf-keras) (2.3.1)\r\n",
      "Requirement already satisfied: astunparse>=1.6.0 in /Users/erichuiza/Documents/pucp/miería web/dev/sesion-de-clase-06/.venv/lib/python3.11/site-packages (from tensorflow<2.21,>=2.20->tf-keras) (1.6.3)\r\n",
      "Requirement already satisfied: flatbuffers>=24.3.25 in /Users/erichuiza/Documents/pucp/miería web/dev/sesion-de-clase-06/.venv/lib/python3.11/site-packages (from tensorflow<2.21,>=2.20->tf-keras) (25.9.23)\r\n",
      "Requirement already satisfied: gast!=0.5.0,!=0.5.1,!=0.5.2,>=0.2.1 in /Users/erichuiza/Documents/pucp/miería web/dev/sesion-de-clase-06/.venv/lib/python3.11/site-packages (from tensorflow<2.21,>=2.20->tf-keras) (0.6.0)\r\n",
      "Requirement already satisfied: google_pasta>=0.1.1 in /Users/erichuiza/Documents/pucp/miería web/dev/sesion-de-clase-06/.venv/lib/python3.11/site-packages (from tensorflow<2.21,>=2.20->tf-keras) (0.2.0)\r\n",
      "Requirement already satisfied: libclang>=13.0.0 in /Users/erichuiza/Documents/pucp/miería web/dev/sesion-de-clase-06/.venv/lib/python3.11/site-packages (from tensorflow<2.21,>=2.20->tf-keras) (18.1.1)\r\n",
      "Requirement already satisfied: opt_einsum>=2.3.2 in /Users/erichuiza/Documents/pucp/miería web/dev/sesion-de-clase-06/.venv/lib/python3.11/site-packages (from tensorflow<2.21,>=2.20->tf-keras) (3.4.0)\r\n",
      "Requirement already satisfied: packaging in /Users/erichuiza/Documents/pucp/miería web/dev/sesion-de-clase-06/.venv/lib/python3.11/site-packages (from tensorflow<2.21,>=2.20->tf-keras) (25.0)\r\n",
      "Requirement already satisfied: protobuf>=5.28.0 in /Users/erichuiza/Documents/pucp/miería web/dev/sesion-de-clase-06/.venv/lib/python3.11/site-packages (from tensorflow<2.21,>=2.20->tf-keras) (6.32.1)\r\n",
      "Requirement already satisfied: requests<3,>=2.21.0 in /Users/erichuiza/Documents/pucp/miería web/dev/sesion-de-clase-06/.venv/lib/python3.11/site-packages (from tensorflow<2.21,>=2.20->tf-keras) (2.32.5)\r\n",
      "Requirement already satisfied: setuptools in /Users/erichuiza/Documents/pucp/miería web/dev/sesion-de-clase-06/.venv/lib/python3.11/site-packages (from tensorflow<2.21,>=2.20->tf-keras) (44.1.1)\r\n",
      "Requirement already satisfied: six>=1.12.0 in /Users/erichuiza/Documents/pucp/miería web/dev/sesion-de-clase-06/.venv/lib/python3.11/site-packages (from tensorflow<2.21,>=2.20->tf-keras) (1.17.0)\r\n",
      "Requirement already satisfied: termcolor>=1.1.0 in /Users/erichuiza/Documents/pucp/miería web/dev/sesion-de-clase-06/.venv/lib/python3.11/site-packages (from tensorflow<2.21,>=2.20->tf-keras) (3.1.0)\r\n",
      "Requirement already satisfied: typing_extensions>=3.6.6 in /Users/erichuiza/Documents/pucp/miería web/dev/sesion-de-clase-06/.venv/lib/python3.11/site-packages (from tensorflow<2.21,>=2.20->tf-keras) (4.15.0)\r\n",
      "Requirement already satisfied: wrapt>=1.11.0 in /Users/erichuiza/Documents/pucp/miería web/dev/sesion-de-clase-06/.venv/lib/python3.11/site-packages (from tensorflow<2.21,>=2.20->tf-keras) (1.17.3)\r\n",
      "Requirement already satisfied: grpcio<2.0,>=1.24.3 in /Users/erichuiza/Documents/pucp/miería web/dev/sesion-de-clase-06/.venv/lib/python3.11/site-packages (from tensorflow<2.21,>=2.20->tf-keras) (1.75.1)\r\n",
      "Requirement already satisfied: tensorboard~=2.20.0 in /Users/erichuiza/Documents/pucp/miería web/dev/sesion-de-clase-06/.venv/lib/python3.11/site-packages (from tensorflow<2.21,>=2.20->tf-keras) (2.20.0)\r\n",
      "Requirement already satisfied: keras>=3.10.0 in /Users/erichuiza/Documents/pucp/miería web/dev/sesion-de-clase-06/.venv/lib/python3.11/site-packages (from tensorflow<2.21,>=2.20->tf-keras) (3.11.3)\r\n",
      "Requirement already satisfied: numpy>=1.26.0 in /Users/erichuiza/Documents/pucp/miería web/dev/sesion-de-clase-06/.venv/lib/python3.11/site-packages (from tensorflow<2.21,>=2.20->tf-keras) (2.3.3)\r\n",
      "Requirement already satisfied: h5py>=3.11.0 in /Users/erichuiza/Documents/pucp/miería web/dev/sesion-de-clase-06/.venv/lib/python3.11/site-packages (from tensorflow<2.21,>=2.20->tf-keras) (3.14.0)\r\n",
      "Requirement already satisfied: ml_dtypes<1.0.0,>=0.5.1 in /Users/erichuiza/Documents/pucp/miería web/dev/sesion-de-clase-06/.venv/lib/python3.11/site-packages (from tensorflow<2.21,>=2.20->tf-keras) (0.5.3)\r\n",
      "Requirement already satisfied: wheel<1.0,>=0.23.0 in /Users/erichuiza/Documents/pucp/miería web/dev/sesion-de-clase-06/.venv/lib/python3.11/site-packages (from astunparse>=1.6.0->tensorflow<2.21,>=2.20->tf-keras) (0.45.1)\r\n",
      "Requirement already satisfied: rich in /Users/erichuiza/Documents/pucp/miería web/dev/sesion-de-clase-06/.venv/lib/python3.11/site-packages (from keras>=3.10.0->tensorflow<2.21,>=2.20->tf-keras) (14.1.0)\r\n",
      "Requirement already satisfied: namex in /Users/erichuiza/Documents/pucp/miería web/dev/sesion-de-clase-06/.venv/lib/python3.11/site-packages (from keras>=3.10.0->tensorflow<2.21,>=2.20->tf-keras) (0.1.0)\r\n",
      "Requirement already satisfied: optree in /Users/erichuiza/Documents/pucp/miería web/dev/sesion-de-clase-06/.venv/lib/python3.11/site-packages (from keras>=3.10.0->tensorflow<2.21,>=2.20->tf-keras) (0.17.0)\r\n",
      "Requirement already satisfied: charset_normalizer<4,>=2 in /Users/erichuiza/Documents/pucp/miería web/dev/sesion-de-clase-06/.venv/lib/python3.11/site-packages (from requests<3,>=2.21.0->tensorflow<2.21,>=2.20->tf-keras) (3.4.3)\r\n",
      "Requirement already satisfied: idna<4,>=2.5 in /Users/erichuiza/Documents/pucp/miería web/dev/sesion-de-clase-06/.venv/lib/python3.11/site-packages (from requests<3,>=2.21.0->tensorflow<2.21,>=2.20->tf-keras) (3.10)\r\n",
      "Requirement already satisfied: urllib3<3,>=1.21.1 in /Users/erichuiza/Documents/pucp/miería web/dev/sesion-de-clase-06/.venv/lib/python3.11/site-packages (from requests<3,>=2.21.0->tensorflow<2.21,>=2.20->tf-keras) (2.5.0)\r\n",
      "Requirement already satisfied: certifi>=2017.4.17 in /Users/erichuiza/Documents/pucp/miería web/dev/sesion-de-clase-06/.venv/lib/python3.11/site-packages (from requests<3,>=2.21.0->tensorflow<2.21,>=2.20->tf-keras) (2025.8.3)\r\n",
      "Requirement already satisfied: markdown>=2.6.8 in /Users/erichuiza/Documents/pucp/miería web/dev/sesion-de-clase-06/.venv/lib/python3.11/site-packages (from tensorboard~=2.20.0->tensorflow<2.21,>=2.20->tf-keras) (3.9)\r\n",
      "Requirement already satisfied: pillow in /Users/erichuiza/Documents/pucp/miería web/dev/sesion-de-clase-06/.venv/lib/python3.11/site-packages (from tensorboard~=2.20.0->tensorflow<2.21,>=2.20->tf-keras) (11.3.0)\r\n",
      "Requirement already satisfied: tensorboard-data-server<0.8.0,>=0.7.0 in /Users/erichuiza/Documents/pucp/miería web/dev/sesion-de-clase-06/.venv/lib/python3.11/site-packages (from tensorboard~=2.20.0->tensorflow<2.21,>=2.20->tf-keras) (0.7.2)\r\n",
      "Requirement already satisfied: werkzeug>=1.0.1 in /Users/erichuiza/Documents/pucp/miería web/dev/sesion-de-clase-06/.venv/lib/python3.11/site-packages (from tensorboard~=2.20.0->tensorflow<2.21,>=2.20->tf-keras) (3.1.3)\r\n",
      "Requirement already satisfied: MarkupSafe>=2.1.1 in /Users/erichuiza/Documents/pucp/miería web/dev/sesion-de-clase-06/.venv/lib/python3.11/site-packages (from werkzeug>=1.0.1->tensorboard~=2.20.0->tensorflow<2.21,>=2.20->tf-keras) (3.0.3)\r\n",
      "Requirement already satisfied: markdown-it-py>=2.2.0 in /Users/erichuiza/Documents/pucp/miería web/dev/sesion-de-clase-06/.venv/lib/python3.11/site-packages (from rich->keras>=3.10.0->tensorflow<2.21,>=2.20->tf-keras) (4.0.0)\r\n",
      "Requirement already satisfied: pygments<3.0.0,>=2.13.0 in /Users/erichuiza/Documents/pucp/miería web/dev/sesion-de-clase-06/.venv/lib/python3.11/site-packages (from rich->keras>=3.10.0->tensorflow<2.21,>=2.20->tf-keras) (2.19.2)\r\n",
      "Requirement already satisfied: mdurl~=0.1 in /Users/erichuiza/Documents/pucp/miería web/dev/sesion-de-clase-06/.venv/lib/python3.11/site-packages (from markdown-it-py>=2.2.0->rich->keras>=3.10.0->tensorflow<2.21,>=2.20->tf-keras) (0.1.2)\r\n",
      "\r\n",
      "\u001B[1m[\u001B[0m\u001B[34;49mnotice\u001B[0m\u001B[1;39;49m]\u001B[0m\u001B[39;49m A new release of pip is available: \u001B[0m\u001B[31;49m24.3.1\u001B[0m\u001B[39;49m -> \u001B[0m\u001B[32;49m25.2\u001B[0m\r\n",
      "\u001B[1m[\u001B[0m\u001B[34;49mnotice\u001B[0m\u001B[1;39;49m]\u001B[0m\u001B[39;49m To update, run: \u001B[0m\u001B[32;49mpip install --upgrade pip\u001B[0m\r\n"
     ]
    }
   ],
   "execution_count": 17
  },
  {
   "metadata": {
    "ExecuteTime": {
     "end_time": "2025-09-30T14:58:02.624684Z",
     "start_time": "2025-09-30T14:58:02.618151Z"
    }
   },
   "cell_type": "code",
   "source": [
    "import os\n",
    "import pandas as pd\n",
    "import numpy as np\n",
    "import tensorflow as tf\n",
    "\n",
    "PRODUCTS_CSV = \"../data/productos.csv\"\n",
    "CLIENTES_CSV = \"../data/clientes.csv\"\n",
    "HISTORIAL_COMPRAS = \"../data/historial_compras.csv\"\n",
    "\n",
    "productos = pd.read_csv(PRODUCTS_CSV)\n",
    "clientes = pd.read_csv(CLIENTES_CSV)\n",
    "historial_compras = pd.read_csv(HISTORIAL_COMPRAS)"
   ],
   "id": "9940e7d0ae6a055c",
   "outputs": [],
   "execution_count": 6
  },
  {
   "metadata": {
    "ExecuteTime": {
     "end_time": "2025-09-30T14:58:06.207809Z",
     "start_time": "2025-09-30T14:58:06.204610Z"
    }
   },
   "cell_type": "code",
   "source": [
    "print(\"Productos:\", productos.shape)\n",
    "print(\"Clientes:\", clientes.shape)\n",
    "print(\"historial_compras:\", historial_compras.shape)\n",
    "\n",
    "print(\"Columnas productos:\", productos.columns.tolist())\n",
    "print(\"Columnas clientes:\", clientes.columns.tolist())\n",
    "print(\"Columnas historial compras:\", historial_compras.columns.tolist())"
   ],
   "id": "e5e227aa338da065",
   "outputs": [
    {
     "name": "stdout",
     "output_type": "stream",
     "text": [
      "Productos: (10, 6)\n",
      "Clientes: (25, 6)\n",
      "historial_compras: (220, 5)\n",
      "Columnas productos: ['id_producto', 'nombre_producto', 'categoria', 'subcategoria', 'precio', 'descripcion']\n",
      "Columnas clientes: ['id_cliente', 'nombre', 'email', 'ciudad', 'pais', 'fecha_registro']\n",
      "Columnas historial compras: ['id_compra', 'id_cliente', 'id_producto', 'cantidad', 'fecha_compra']\n"
     ]
    }
   ],
   "execution_count": 7
  },
  {
   "metadata": {
    "ExecuteTime": {
     "end_time": "2025-09-30T15:44:21.545073Z",
     "start_time": "2025-09-30T15:44:21.535848Z"
    }
   },
   "cell_type": "code",
   "source": [
    "# Merge compras con products\n",
    "compras_prod = historial_compras.merge(productos, on=\"id_producto\", how=\"left\")\n",
    "print(\"Dataset compras por producto unido:\", compras_prod.shape)\n",
    "compras_prod.head()"
   ],
   "id": "a0c5a4f57ea4a074",
   "outputs": [
    {
     "name": "stdout",
     "output_type": "stream",
     "text": [
      "Dataset compras por producto unido: (220, 10)\n"
     ]
    },
    {
     "data": {
      "text/plain": [
       "   id_compra  id_cliente  id_producto  cantidad fecha_compra  \\\n",
       "0          1           1            2         1   2024-05-20   \n",
       "1          2           2            4         2   2024-05-21   \n",
       "2          3           3            1         1   2024-05-22   \n",
       "3          4           4            5         1   2024-05-23   \n",
       "4          5           5            3         1   2024-05-24   \n",
       "\n",
       "                 nombre_producto    categoria subcategoria   precio  \\\n",
       "0            Smartphone Nexus 5G  Electrónica  Smartphones   899.50   \n",
       "1  Camiseta Deportiva Ultralight         Ropa    Camisetas    35.00   \n",
       "2               Laptop Gamer Pro  Electrónica   Portátiles  1899.99   \n",
       "3         Zapatillas Urbanas Fit         Ropa      Calzado    85.75   \n",
       "4     Auriculares Inalámbricos X  Electrónica        Audio   125.00   \n",
       "\n",
       "                                         descripcion  \n",
       "0  El Smartphone Nexus 5G redefine la experiencia...  \n",
       "1  Camiseta técnica de alto rendimiento para depo...  \n",
       "2  Laptop de alto rendimiento para gaming y creac...  \n",
       "3  Calzado deportivo y casual diseñado para el co...  \n",
       "4  Auriculares Bluetooth de diadema diseñados par...  "
      ],
      "text/html": [
       "<div>\n",
       "<style scoped>\n",
       "    .dataframe tbody tr th:only-of-type {\n",
       "        vertical-align: middle;\n",
       "    }\n",
       "\n",
       "    .dataframe tbody tr th {\n",
       "        vertical-align: top;\n",
       "    }\n",
       "\n",
       "    .dataframe thead th {\n",
       "        text-align: right;\n",
       "    }\n",
       "</style>\n",
       "<table border=\"1\" class=\"dataframe\">\n",
       "  <thead>\n",
       "    <tr style=\"text-align: right;\">\n",
       "      <th></th>\n",
       "      <th>id_compra</th>\n",
       "      <th>id_cliente</th>\n",
       "      <th>id_producto</th>\n",
       "      <th>cantidad</th>\n",
       "      <th>fecha_compra</th>\n",
       "      <th>nombre_producto</th>\n",
       "      <th>categoria</th>\n",
       "      <th>subcategoria</th>\n",
       "      <th>precio</th>\n",
       "      <th>descripcion</th>\n",
       "    </tr>\n",
       "  </thead>\n",
       "  <tbody>\n",
       "    <tr>\n",
       "      <th>0</th>\n",
       "      <td>1</td>\n",
       "      <td>1</td>\n",
       "      <td>2</td>\n",
       "      <td>1</td>\n",
       "      <td>2024-05-20</td>\n",
       "      <td>Smartphone Nexus 5G</td>\n",
       "      <td>Electrónica</td>\n",
       "      <td>Smartphones</td>\n",
       "      <td>899.50</td>\n",
       "      <td>El Smartphone Nexus 5G redefine la experiencia...</td>\n",
       "    </tr>\n",
       "    <tr>\n",
       "      <th>1</th>\n",
       "      <td>2</td>\n",
       "      <td>2</td>\n",
       "      <td>4</td>\n",
       "      <td>2</td>\n",
       "      <td>2024-05-21</td>\n",
       "      <td>Camiseta Deportiva Ultralight</td>\n",
       "      <td>Ropa</td>\n",
       "      <td>Camisetas</td>\n",
       "      <td>35.00</td>\n",
       "      <td>Camiseta técnica de alto rendimiento para depo...</td>\n",
       "    </tr>\n",
       "    <tr>\n",
       "      <th>2</th>\n",
       "      <td>3</td>\n",
       "      <td>3</td>\n",
       "      <td>1</td>\n",
       "      <td>1</td>\n",
       "      <td>2024-05-22</td>\n",
       "      <td>Laptop Gamer Pro</td>\n",
       "      <td>Electrónica</td>\n",
       "      <td>Portátiles</td>\n",
       "      <td>1899.99</td>\n",
       "      <td>Laptop de alto rendimiento para gaming y creac...</td>\n",
       "    </tr>\n",
       "    <tr>\n",
       "      <th>3</th>\n",
       "      <td>4</td>\n",
       "      <td>4</td>\n",
       "      <td>5</td>\n",
       "      <td>1</td>\n",
       "      <td>2024-05-23</td>\n",
       "      <td>Zapatillas Urbanas Fit</td>\n",
       "      <td>Ropa</td>\n",
       "      <td>Calzado</td>\n",
       "      <td>85.75</td>\n",
       "      <td>Calzado deportivo y casual diseñado para el co...</td>\n",
       "    </tr>\n",
       "    <tr>\n",
       "      <th>4</th>\n",
       "      <td>5</td>\n",
       "      <td>5</td>\n",
       "      <td>3</td>\n",
       "      <td>1</td>\n",
       "      <td>2024-05-24</td>\n",
       "      <td>Auriculares Inalámbricos X</td>\n",
       "      <td>Electrónica</td>\n",
       "      <td>Audio</td>\n",
       "      <td>125.00</td>\n",
       "      <td>Auriculares Bluetooth de diadema diseñados par...</td>\n",
       "    </tr>\n",
       "  </tbody>\n",
       "</table>\n",
       "</div>"
      ]
     },
     "execution_count": 8,
     "metadata": {},
     "output_type": "execute_result"
    }
   ],
   "execution_count": 8
  },
  {
   "metadata": {
    "ExecuteTime": {
     "end_time": "2025-09-30T15:45:09.559966Z",
     "start_time": "2025-09-30T15:45:09.553358Z"
    }
   },
   "cell_type": "code",
   "source": [
    "# Merge con clients\n",
    "compras_full = compras_prod.merge(clientes, on=\"id_cliente\", how=\"left\")\n",
    "print(\"Dataset compras full:\", compras_full.shape)\n",
    "compras_full.head()"
   ],
   "id": "a5ac9fa5c2b88a3c",
   "outputs": [
    {
     "name": "stdout",
     "output_type": "stream",
     "text": [
      "Dataset compras full: (220, 15)\n"
     ]
    },
    {
     "data": {
      "text/plain": [
       "   id_compra  id_cliente  id_producto  cantidad fecha_compra  \\\n",
       "0          1           1            2         1   2024-05-20   \n",
       "1          2           2            4         2   2024-05-21   \n",
       "2          3           3            1         1   2024-05-22   \n",
       "3          4           4            5         1   2024-05-23   \n",
       "4          5           5            3         1   2024-05-24   \n",
       "\n",
       "                 nombre_producto    categoria subcategoria   precio  \\\n",
       "0            Smartphone Nexus 5G  Electrónica  Smartphones   899.50   \n",
       "1  Camiseta Deportiva Ultralight         Ropa    Camisetas    35.00   \n",
       "2               Laptop Gamer Pro  Electrónica   Portátiles  1899.99   \n",
       "3         Zapatillas Urbanas Fit         Ropa      Calzado    85.75   \n",
       "4     Auriculares Inalámbricos X  Electrónica        Audio   125.00   \n",
       "\n",
       "                                         descripcion           nombre  \\\n",
       "0  El Smartphone Nexus 5G redefine la experiencia...     Ana Martínez   \n",
       "1  Camiseta técnica de alto rendimiento para depo...   Carlos Sánchez   \n",
       "2  Laptop de alto rendimiento para gaming y creac...      María López   \n",
       "3  Calzado deportivo y casual diseñado para el co...     Jorge García   \n",
       "4  Auriculares Bluetooth de diadema diseñados par...  Valentina Pérez   \n",
       "\n",
       "                   email            ciudad       pais fecha_registro  \n",
       "0        ana.m@email.com            Madrid     España     2024-05-10  \n",
       "1     carlos.s@email.com  Ciudad de México     México     2024-05-11  \n",
       "2      maria.l@email.com            Bogotá   Colombia     2024-05-12  \n",
       "3      jorge.g@email.com      Buenos Aires  Argentina     2024-05-13  \n",
       "4  valentina.p@email.com          Santiago      Chile     2024-05-14  "
      ],
      "text/html": [
       "<div>\n",
       "<style scoped>\n",
       "    .dataframe tbody tr th:only-of-type {\n",
       "        vertical-align: middle;\n",
       "    }\n",
       "\n",
       "    .dataframe tbody tr th {\n",
       "        vertical-align: top;\n",
       "    }\n",
       "\n",
       "    .dataframe thead th {\n",
       "        text-align: right;\n",
       "    }\n",
       "</style>\n",
       "<table border=\"1\" class=\"dataframe\">\n",
       "  <thead>\n",
       "    <tr style=\"text-align: right;\">\n",
       "      <th></th>\n",
       "      <th>id_compra</th>\n",
       "      <th>id_cliente</th>\n",
       "      <th>id_producto</th>\n",
       "      <th>cantidad</th>\n",
       "      <th>fecha_compra</th>\n",
       "      <th>nombre_producto</th>\n",
       "      <th>categoria</th>\n",
       "      <th>subcategoria</th>\n",
       "      <th>precio</th>\n",
       "      <th>descripcion</th>\n",
       "      <th>nombre</th>\n",
       "      <th>email</th>\n",
       "      <th>ciudad</th>\n",
       "      <th>pais</th>\n",
       "      <th>fecha_registro</th>\n",
       "    </tr>\n",
       "  </thead>\n",
       "  <tbody>\n",
       "    <tr>\n",
       "      <th>0</th>\n",
       "      <td>1</td>\n",
       "      <td>1</td>\n",
       "      <td>2</td>\n",
       "      <td>1</td>\n",
       "      <td>2024-05-20</td>\n",
       "      <td>Smartphone Nexus 5G</td>\n",
       "      <td>Electrónica</td>\n",
       "      <td>Smartphones</td>\n",
       "      <td>899.50</td>\n",
       "      <td>El Smartphone Nexus 5G redefine la experiencia...</td>\n",
       "      <td>Ana Martínez</td>\n",
       "      <td>ana.m@email.com</td>\n",
       "      <td>Madrid</td>\n",
       "      <td>España</td>\n",
       "      <td>2024-05-10</td>\n",
       "    </tr>\n",
       "    <tr>\n",
       "      <th>1</th>\n",
       "      <td>2</td>\n",
       "      <td>2</td>\n",
       "      <td>4</td>\n",
       "      <td>2</td>\n",
       "      <td>2024-05-21</td>\n",
       "      <td>Camiseta Deportiva Ultralight</td>\n",
       "      <td>Ropa</td>\n",
       "      <td>Camisetas</td>\n",
       "      <td>35.00</td>\n",
       "      <td>Camiseta técnica de alto rendimiento para depo...</td>\n",
       "      <td>Carlos Sánchez</td>\n",
       "      <td>carlos.s@email.com</td>\n",
       "      <td>Ciudad de México</td>\n",
       "      <td>México</td>\n",
       "      <td>2024-05-11</td>\n",
       "    </tr>\n",
       "    <tr>\n",
       "      <th>2</th>\n",
       "      <td>3</td>\n",
       "      <td>3</td>\n",
       "      <td>1</td>\n",
       "      <td>1</td>\n",
       "      <td>2024-05-22</td>\n",
       "      <td>Laptop Gamer Pro</td>\n",
       "      <td>Electrónica</td>\n",
       "      <td>Portátiles</td>\n",
       "      <td>1899.99</td>\n",
       "      <td>Laptop de alto rendimiento para gaming y creac...</td>\n",
       "      <td>María López</td>\n",
       "      <td>maria.l@email.com</td>\n",
       "      <td>Bogotá</td>\n",
       "      <td>Colombia</td>\n",
       "      <td>2024-05-12</td>\n",
       "    </tr>\n",
       "    <tr>\n",
       "      <th>3</th>\n",
       "      <td>4</td>\n",
       "      <td>4</td>\n",
       "      <td>5</td>\n",
       "      <td>1</td>\n",
       "      <td>2024-05-23</td>\n",
       "      <td>Zapatillas Urbanas Fit</td>\n",
       "      <td>Ropa</td>\n",
       "      <td>Calzado</td>\n",
       "      <td>85.75</td>\n",
       "      <td>Calzado deportivo y casual diseñado para el co...</td>\n",
       "      <td>Jorge García</td>\n",
       "      <td>jorge.g@email.com</td>\n",
       "      <td>Buenos Aires</td>\n",
       "      <td>Argentina</td>\n",
       "      <td>2024-05-13</td>\n",
       "    </tr>\n",
       "    <tr>\n",
       "      <th>4</th>\n",
       "      <td>5</td>\n",
       "      <td>5</td>\n",
       "      <td>3</td>\n",
       "      <td>1</td>\n",
       "      <td>2024-05-24</td>\n",
       "      <td>Auriculares Inalámbricos X</td>\n",
       "      <td>Electrónica</td>\n",
       "      <td>Audio</td>\n",
       "      <td>125.00</td>\n",
       "      <td>Auriculares Bluetooth de diadema diseñados par...</td>\n",
       "      <td>Valentina Pérez</td>\n",
       "      <td>valentina.p@email.com</td>\n",
       "      <td>Santiago</td>\n",
       "      <td>Chile</td>\n",
       "      <td>2024-05-14</td>\n",
       "    </tr>\n",
       "  </tbody>\n",
       "</table>\n",
       "</div>"
      ]
     },
     "execution_count": 9,
     "metadata": {},
     "output_type": "execute_result"
    }
   ],
   "execution_count": 9
  },
  {
   "metadata": {
    "ExecuteTime": {
     "end_time": "2025-09-30T16:00:58.696540Z",
     "start_time": "2025-09-30T16:00:58.686535Z"
    }
   },
   "cell_type": "code",
   "source": [
    "client_profiles = (\n",
    "    compras_full.groupby(\"id_cliente\")\n",
    "    .apply(lambda g: \" \".join(g[\"nombre_producto\"].tolist() + g[\"descripcion\"].tolist()))\n",
    "    .reset_index(name=\"texto_cliente\")\n",
    ")\n",
    "\n",
    "# Agregar información de clientes (ciudad, país)\n",
    "client_profiles = client_profiles.merge(clientes, on=\"id_cliente\")\n",
    "client_profiles[\"texto_cliente\"] = (\n",
    "    client_profiles[\"nombre\"] + \" \" +\n",
    "    client_profiles[\"ciudad\"] + \" \" +\n",
    "    client_profiles[\"pais\"] + \" \" +\n",
    "    client_profiles[\"texto_cliente\"]\n",
    ")\n",
    "\n",
    "print(\"Perfiles de clientes generados:\", client_profiles.shape)\n",
    "client_profiles.head()"
   ],
   "id": "3e6fd6ddca12e68c",
   "outputs": [
    {
     "name": "stdout",
     "output_type": "stream",
     "text": [
      "Perfiles de clientes generados: (20, 7)\n"
     ]
    },
    {
     "name": "stderr",
     "output_type": "stream",
     "text": [
      "/var/folders/sl/2x216nz107xcfzxlmr7tr47m0000gn/T/ipykernel_60686/1070130770.py:3: FutureWarning: DataFrameGroupBy.apply operated on the grouping columns. This behavior is deprecated, and in a future version of pandas the grouping columns will be excluded from the operation. Either pass `include_groups=False` to exclude the groupings or explicitly select the grouping columns after groupby to silence this warning.\n",
      "  .apply(lambda g: \" \".join(g[\"nombre_producto\"].tolist() + g[\"descripcion\"].tolist()))\n"
     ]
    },
    {
     "data": {
      "text/plain": [
       "   id_cliente                                      texto_cliente  \\\n",
       "0           1  Ana Martínez Madrid España Smartphone Nexus 5G...   \n",
       "1           2  Carlos Sánchez Ciudad de México México Camiset...   \n",
       "2           3  María López Bogotá Colombia Laptop Gamer Pro Z...   \n",
       "3           4  Jorge García Buenos Aires Argentina Zapatillas...   \n",
       "4           5  Valentina Pérez Santiago Chile Auriculares Ina...   \n",
       "\n",
       "            nombre                  email            ciudad       pais  \\\n",
       "0     Ana Martínez        ana.m@email.com            Madrid     España   \n",
       "1   Carlos Sánchez     carlos.s@email.com  Ciudad de México     México   \n",
       "2      María López      maria.l@email.com            Bogotá   Colombia   \n",
       "3     Jorge García      jorge.g@email.com      Buenos Aires  Argentina   \n",
       "4  Valentina Pérez  valentina.p@email.com          Santiago      Chile   \n",
       "\n",
       "  fecha_registro  \n",
       "0     2024-05-10  \n",
       "1     2024-05-11  \n",
       "2     2024-05-12  \n",
       "3     2024-05-13  \n",
       "4     2024-05-14  "
      ],
      "text/html": [
       "<div>\n",
       "<style scoped>\n",
       "    .dataframe tbody tr th:only-of-type {\n",
       "        vertical-align: middle;\n",
       "    }\n",
       "\n",
       "    .dataframe tbody tr th {\n",
       "        vertical-align: top;\n",
       "    }\n",
       "\n",
       "    .dataframe thead th {\n",
       "        text-align: right;\n",
       "    }\n",
       "</style>\n",
       "<table border=\"1\" class=\"dataframe\">\n",
       "  <thead>\n",
       "    <tr style=\"text-align: right;\">\n",
       "      <th></th>\n",
       "      <th>id_cliente</th>\n",
       "      <th>texto_cliente</th>\n",
       "      <th>nombre</th>\n",
       "      <th>email</th>\n",
       "      <th>ciudad</th>\n",
       "      <th>pais</th>\n",
       "      <th>fecha_registro</th>\n",
       "    </tr>\n",
       "  </thead>\n",
       "  <tbody>\n",
       "    <tr>\n",
       "      <th>0</th>\n",
       "      <td>1</td>\n",
       "      <td>Ana Martínez Madrid España Smartphone Nexus 5G...</td>\n",
       "      <td>Ana Martínez</td>\n",
       "      <td>ana.m@email.com</td>\n",
       "      <td>Madrid</td>\n",
       "      <td>España</td>\n",
       "      <td>2024-05-10</td>\n",
       "    </tr>\n",
       "    <tr>\n",
       "      <th>1</th>\n",
       "      <td>2</td>\n",
       "      <td>Carlos Sánchez Ciudad de México México Camiset...</td>\n",
       "      <td>Carlos Sánchez</td>\n",
       "      <td>carlos.s@email.com</td>\n",
       "      <td>Ciudad de México</td>\n",
       "      <td>México</td>\n",
       "      <td>2024-05-11</td>\n",
       "    </tr>\n",
       "    <tr>\n",
       "      <th>2</th>\n",
       "      <td>3</td>\n",
       "      <td>María López Bogotá Colombia Laptop Gamer Pro Z...</td>\n",
       "      <td>María López</td>\n",
       "      <td>maria.l@email.com</td>\n",
       "      <td>Bogotá</td>\n",
       "      <td>Colombia</td>\n",
       "      <td>2024-05-12</td>\n",
       "    </tr>\n",
       "    <tr>\n",
       "      <th>3</th>\n",
       "      <td>4</td>\n",
       "      <td>Jorge García Buenos Aires Argentina Zapatillas...</td>\n",
       "      <td>Jorge García</td>\n",
       "      <td>jorge.g@email.com</td>\n",
       "      <td>Buenos Aires</td>\n",
       "      <td>Argentina</td>\n",
       "      <td>2024-05-13</td>\n",
       "    </tr>\n",
       "    <tr>\n",
       "      <th>4</th>\n",
       "      <td>5</td>\n",
       "      <td>Valentina Pérez Santiago Chile Auriculares Ina...</td>\n",
       "      <td>Valentina Pérez</td>\n",
       "      <td>valentina.p@email.com</td>\n",
       "      <td>Santiago</td>\n",
       "      <td>Chile</td>\n",
       "      <td>2024-05-14</td>\n",
       "    </tr>\n",
       "  </tbody>\n",
       "</table>\n",
       "</div>"
      ]
     },
     "execution_count": 14,
     "metadata": {},
     "output_type": "execute_result"
    }
   ],
   "execution_count": 14
  },
  {
   "metadata": {
    "ExecuteTime": {
     "end_time": "2025-09-30T16:08:08.996705Z",
     "start_time": "2025-09-30T16:08:06.912695Z"
    }
   },
   "cell_type": "code",
   "source": [
    "# Remover Stopwords y Lematizar en español en texto_cliente\n",
    "import spacy\n",
    "nlp = spacy.load(\"es_core_news_sm\")\n",
    "print(\"spaCy cargado: usando lematización y stopwords de spaCy.\")\n",
    "\n",
    "def preprocess_spacy(text):\n",
    "    doc = nlp(str(text).lower())\n",
    "    tokens = [t.lemma_ for t in doc if not t.is_stop and t.is_alpha]\n",
    "    return \" \".join(tokens)\n",
    "\n",
    "# Procesar texto de clientes\n",
    "client_profiles[\"texto_cliente_proc\"] = client_profiles[\"texto_cliente\"].apply(preprocess_spacy)\n",
    "\n",
    "# Revisa resultados\n",
    "client_profiles[[\"id_cliente\", \"nombre\", \"texto_cliente\", \"texto_cliente_proc\"]].head()"
   ],
   "id": "f9112d276fe2136b",
   "outputs": [
    {
     "name": "stdout",
     "output_type": "stream",
     "text": [
      "spaCy cargado: usando lematización y stopwords de spaCy.\n"
     ]
    },
    {
     "data": {
      "text/plain": [
       "   id_cliente           nombre  \\\n",
       "0           1     Ana Martínez   \n",
       "1           2   Carlos Sánchez   \n",
       "2           3      María López   \n",
       "3           4     Jorge García   \n",
       "4           5  Valentina Pérez   \n",
       "\n",
       "                                       texto_cliente  \\\n",
       "0  Ana Martínez Madrid España Smartphone Nexus 5G...   \n",
       "1  Carlos Sánchez Ciudad de México México Camiset...   \n",
       "2  María López Bogotá Colombia Laptop Gamer Pro Z...   \n",
       "3  Jorge García Buenos Aires Argentina Zapatillas...   \n",
       "4  Valentina Pérez Santiago Chile Auriculares Ina...   \n",
       "\n",
       "                                  texto_cliente_proc  \n",
       "0  ana martínez madrid españa smartphonir nexus g...  \n",
       "1  carlos sánchez ciudad méxico méxico camiseta d...  \n",
       "2  maría lópez bogotá colombia laptop gamer pro z...  \n",
       "3  jorge garcía aires argentina zapatilla urbano ...  \n",
       "4  valentina pérez santiago chile auricular inalá...  "
      ],
      "text/html": [
       "<div>\n",
       "<style scoped>\n",
       "    .dataframe tbody tr th:only-of-type {\n",
       "        vertical-align: middle;\n",
       "    }\n",
       "\n",
       "    .dataframe tbody tr th {\n",
       "        vertical-align: top;\n",
       "    }\n",
       "\n",
       "    .dataframe thead th {\n",
       "        text-align: right;\n",
       "    }\n",
       "</style>\n",
       "<table border=\"1\" class=\"dataframe\">\n",
       "  <thead>\n",
       "    <tr style=\"text-align: right;\">\n",
       "      <th></th>\n",
       "      <th>id_cliente</th>\n",
       "      <th>nombre</th>\n",
       "      <th>texto_cliente</th>\n",
       "      <th>texto_cliente_proc</th>\n",
       "    </tr>\n",
       "  </thead>\n",
       "  <tbody>\n",
       "    <tr>\n",
       "      <th>0</th>\n",
       "      <td>1</td>\n",
       "      <td>Ana Martínez</td>\n",
       "      <td>Ana Martínez Madrid España Smartphone Nexus 5G...</td>\n",
       "      <td>ana martínez madrid españa smartphonir nexus g...</td>\n",
       "    </tr>\n",
       "    <tr>\n",
       "      <th>1</th>\n",
       "      <td>2</td>\n",
       "      <td>Carlos Sánchez</td>\n",
       "      <td>Carlos Sánchez Ciudad de México México Camiset...</td>\n",
       "      <td>carlos sánchez ciudad méxico méxico camiseta d...</td>\n",
       "    </tr>\n",
       "    <tr>\n",
       "      <th>2</th>\n",
       "      <td>3</td>\n",
       "      <td>María López</td>\n",
       "      <td>María López Bogotá Colombia Laptop Gamer Pro Z...</td>\n",
       "      <td>maría lópez bogotá colombia laptop gamer pro z...</td>\n",
       "    </tr>\n",
       "    <tr>\n",
       "      <th>3</th>\n",
       "      <td>4</td>\n",
       "      <td>Jorge García</td>\n",
       "      <td>Jorge García Buenos Aires Argentina Zapatillas...</td>\n",
       "      <td>jorge garcía aires argentina zapatilla urbano ...</td>\n",
       "    </tr>\n",
       "    <tr>\n",
       "      <th>4</th>\n",
       "      <td>5</td>\n",
       "      <td>Valentina Pérez</td>\n",
       "      <td>Valentina Pérez Santiago Chile Auriculares Ina...</td>\n",
       "      <td>valentina pérez santiago chile auricular inalá...</td>\n",
       "    </tr>\n",
       "  </tbody>\n",
       "</table>\n",
       "</div>"
      ]
     },
     "execution_count": 19,
     "metadata": {},
     "output_type": "execute_result"
    }
   ],
   "execution_count": 19
  },
  {
   "metadata": {
    "ExecuteTime": {
     "end_time": "2025-09-30T16:08:50.083192Z",
     "start_time": "2025-09-30T16:08:43.071847Z"
    }
   },
   "cell_type": "code",
   "source": [
    "from sentence_transformers import SentenceTransformer\n",
    "\n",
    "print(\"SentenceTransformers disponible. Usando modelo multilingüe.\")\n",
    "model_name = \"sentence-transformers/paraphrase-multilingual-MiniLM-L12-v2\"\n",
    "st_model = SentenceTransformer(model_name)"
   ],
   "id": "51ea1736c3d44a03",
   "outputs": [
    {
     "name": "stderr",
     "output_type": "stream",
     "text": [
      "/Users/erichuiza/Documents/pucp/miería web/dev/sesion-de-clase-06/.venv/lib/python3.11/site-packages/tqdm/auto.py:21: TqdmWarning: IProgress not found. Please update jupyter and ipywidgets. See https://ipywidgets.readthedocs.io/en/stable/user_install.html\n",
      "  from .autonotebook import tqdm as notebook_tqdm\n"
     ]
    },
    {
     "name": "stdout",
     "output_type": "stream",
     "text": [
      "SentenceTransformers disponible. Usando modelo multilingüe.\n"
     ]
    }
   ],
   "execution_count": 20
  },
  {
   "metadata": {
    "ExecuteTime": {
     "end_time": "2025-09-30T16:22:02.177335Z",
     "start_time": "2025-09-30T16:22:02.048566Z"
    }
   },
   "cell_type": "code",
   "source": [
    "import random\n",
    "\n",
    "# Productos únicos con texto procesado\n",
    "productos_unicos = productos[[\"id_producto\", \"nombre_producto\", \"descripcion\"]].drop_duplicates(subset=\"id_producto\").reset_index(drop=True)\n",
    "\n",
    "# Preprocesar productos con spaCy\n",
    "productos_unicos[\"nombre_producto_proc\"] = productos_unicos[\"nombre_producto\"].apply(preprocess_spacy)\n",
    "productos_unicos[\"descripcion_proc\"] = productos_unicos[\"descripcion\"].apply(preprocess_spacy)\n",
    "\n",
    "# Listas de textos\n",
    "nombres_textos = productos_unicos[\"nombre_producto_proc\"].tolist()\n",
    "productos_textos = productos_unicos[\"descripcion_proc\"].tolist()\n",
    "clientes_textos = client_profiles[\"texto_cliente_proc\"].tolist()\n",
    "\n",
    "# Todos los textos para embeddings\n",
    "todos_textos = nombres_textos + productos_textos + clientes_textos\n",
    "\n",
    "# Mostrar 5 elementos aleatorios\n",
    "muestra_aleatoria = random.sample(todos_textos, 5)\n",
    "\n",
    "print(\"Muestra aleatoria de la lista 'todos_textos':\")\n",
    "for i, texto in enumerate(muestra_aleatoria):\n",
    "    print(f\"{i+1}. {texto}\")"
   ],
   "id": "c9ea5670284fc297",
   "outputs": [
    {
     "name": "stdout",
     "output_type": "stream",
     "text": [
      "Muestra aleatoria de la lista 'todos_textos':\n",
      "1. calzado deportivo casual diseñado confort diario superior malla transpirable suela espuma memoria adaptar forma pie proporcionar soporte inigualable amortiguación superior suela goma duradero ofrecer excelente tracción diverso superficie diseño minimalista elegante ideal combinar atuendo jeans pantalón deporte disponible talla unisex\n",
      "2. luis hernández lima perú libro círculo mágico smartphonir nexus g auricular inalámbrico x camiseta deportivo ultralight zapatilla urbano fit laptop gamer pro laptop gamer pro laptop gamer pro laptop gamer pro laptop gamer pro smartphonir nexus g novela fantasía épico sumergar reino eterea historia elara joven magar dominar ancestral salvar pueblo inminente autoro tejar narrativa intrincado lleno personaje complejo criatura mitológica giro inesperado mundo construido riqueza detalle hacer sentir perfecto fan saga fantasía tema heroísmo traición redención smartphonir nexus g redefinar experiencia móvil pantalla oled pulgada frecuencia proporcionar color vibrante negro profundo cámara principal lente ultra angular teleobjetivo capturar foto calidad profesional condición iluminación equipado procesador qualcomm snapdragon  gen gb ram batería mah teléfono ofrecer rendimiento fluido autonomía excepcional soporto carga rápido auricular bluetooth diadema diseñado audiofi él contar controlador neodimio mm ofrecer sonido alto fidelidad bajo rico agudo cristalino tecnología cancelación ruido activo anc reducir sonido ambiental ideal viaje entorno trabajo ruidoso batería ion litio proporcionar hora reproducción continuo diseño ergonómico almohadilla espuma viscoelástico garantizar máximo comodidad hora incluir micrófono tecnología supresión eco llamado claro camiseta técnico alto rendimiento deporte fabricado tejido ligero transpirable absorber humedad secar rápidamente corte atlético costura plano evitar rozadura maximizar libertad movimiento material poliéster reciclado convertir opción sostenible ecológico disponible color vibrante perfecto correr gimnasio actividad físico intenso calzado deportivo casual diseñado confort diario superior malla transpirable suela espuma memoria adaptar forma pie proporcionar soporte inigualable amortiguación superior suela goma duradero ofrecer excelente tracción diverso superficie diseño minimalista elegante ideal combinar atuendo jeans pantalón deporte disponible talla unisex laptop alto rendimiento gaming creación contenido procesador intel core generación gb ram tarjeta gráfico nvidia rtx pantalla pulgada tasa refresco resolución ofrecer experiencia visual inmersivo chasis aluminio pulido sistema enfriamiento avanzado garantizar rendimiento óptimo sesión juego larga incluir teclado mecánico retroiluminado personalización rgb tecla laptop alto rendimiento gaming creación contenido procesador intel core generación gb ram tarjeta gráfico nvidia rtx pantalla pulgada tasa refresco resolución ofrecer experiencia visual inmersivo chasis aluminio pulido sistema enfriamiento avanzado garantizar rendimiento óptimo sesión juego larga incluir teclado mecánico retroiluminado personalización rgb tecla laptop alto rendimiento gaming creación contenido procesador intel core generación gb ram tarjeta gráfico nvidia rtx pantalla pulgada tasa refresco resolución ofrecer experiencia visual inmersivo chasis aluminio pulido sistema enfriamiento avanzado garantizar rendimiento óptimo sesión juego larga incluir teclado mecánico retroiluminado personalización rgb tecla laptop alto rendimiento gaming creación contenido procesador intel core generación gb ram tarjeta gráfico nvidia rtx pantalla pulgada tasa refresco resolución ofrecer experiencia visual inmersivo chasis aluminio pulido sistema enfriamiento avanzado garantizar rendimiento óptimo sesión juego larga incluir teclado mecánico retroiluminado personalización rgb tecla laptop alto rendimiento gaming creación contenido procesador intel core generación gb ram tarjeta gráfico nvidia rtx pantalla pulgada tasa refresco resolución ofrecer experiencia visual inmersivo chasis aluminio pulido sistema enfriamiento avanzado garantizar rendimiento óptimo sesión juego larga incluir teclado mecánico retroiluminado personalización rgb tecla smartphonir nexus g redefinar experiencia móvil pantalla oled pulgada frecuencia proporcionar color vibrante negro profundo cámara principal lente ultra angular teleobjetivo capturar foto calidad profesional condición iluminación equipado procesador qualcomm snapdragon  gen gb ram batería mah teléfono ofrecer rendimiento fluido autonomía excepcional soporto carga rápido\n",
      "3. camiseta deportivo ultralight\n",
      "4. balón fútbol alto calidad diseñado rendimiento profesional cubierta texturizada pu proporcionar agarre control superior cámara aire butilo retener presión aire uniforme asegurar rebote consistente panel termosoldado minimizar absorción agua permitir rendimiento constante clima ideal entrenamiento partido alto intensidad\n",
      "5. mochila moderno funcional vida urbano fabricado poliéster repelente agua compartimento principal funda acolchado laptops pulgada incluir bolsillo frontal organizador bolsillo lateral botella agua puerto carga usb integrado power bank incluido correa acolchada ajustabl panel trasero transpirable garantizar comodidad diseño minimalista unisex\n"
     ]
    }
   ],
   "execution_count": 23
  },
  {
   "metadata": {
    "ExecuteTime": {
     "end_time": "2025-09-30T17:03:00.030062Z",
     "start_time": "2025-09-30T17:02:59.932245Z"
    }
   },
   "cell_type": "code",
   "source": [
    "# Construir textos para ambos grupos\n",
    "clientes_textos = client_profiles[\"texto_cliente\"].tolist()\n",
    "productos_textos = productos_unicos[\"nombre_producto\"].tolist()\n",
    "\n",
    "# Concatenar para un solo encode\n",
    "todos_textos = clientes_textos + productos_textos\n",
    "\n",
    "# Generar embeddings de todo junto\n",
    "embeddings = st_model.encode(todos_textos, convert_to_numpy=True, show_progress_bar=True)\n",
    "\n",
    "# Separar los embeddings en clientes y productos\n",
    "n_clientes = len(clientes_textos)\n",
    "n_productos = len(productos_textos)\n",
    "\n",
    "client_embeddings = embeddings[:n_clientes]\n",
    "prod_embeddings = embeddings[n_clientes:]"
   ],
   "id": "f52534f422f48d36",
   "outputs": [
    {
     "name": "stderr",
     "output_type": "stream",
     "text": [
      "Batches: 100%|██████████| 1/1 [00:00<00:00, 11.46it/s]\n"
     ]
    }
   ],
   "execution_count": 46
  },
  {
   "metadata": {
    "ExecuteTime": {
     "end_time": "2025-09-30T17:03:03.273954Z",
     "start_time": "2025-09-30T17:03:03.259934Z"
    }
   },
   "cell_type": "code",
   "source": [
    "out_dir = \"logs/embeddings\"\n",
    "os.makedirs(out_dir, exist_ok=True)\n",
    "\n",
    "def make_label(text, n_words=5):\n",
    "    return \" \".join(text.split()[:n_words])\n",
    "\n",
    "# Concatenar embeddings (clientes + productos)\n",
    "all_embeddings = np.vstack([client_embeddings, prod_embeddings])\n",
    "\n",
    "# Crear metadata\n",
    "metadata = pd.DataFrame({\n",
    "    \"label\": (\n",
    "        [make_label(t, 5) for t in client_profiles[\"texto_cliente\"].tolist()] +\n",
    "        [make_label(t, 5) for t in productos_unicos[\"nombre_producto\"].tolist()]\n",
    "    ),\n",
    "    \"tipo\": (\n",
    "        [\"cliente\"] * len(client_profiles) +\n",
    "        [\"producto\"] * len(productos_unicos)\n",
    "    ),\n",
    "    \"texto_completo\": (\n",
    "        client_profiles[\"texto_cliente\"].tolist() +\n",
    "        productos_unicos[\"nombre_producto\"].tolist()\n",
    "    )\n",
    "})\n",
    "\n",
    "# Guardar metadata como TSV\n",
    "metadata_path = os.path.join(out_dir, \"metadata.tsv\")\n",
    "metadata.to_csv(metadata_path, sep=\"\\t\", index=False)\n",
    "\n",
    "print(\"Metadata guardada en:\", metadata_path)\n",
    "\n",
    "# Guardar embeddings para TensorBoard\n",
    "emb_var = tf.Variable(all_embeddings, name=\"embeddings\")\n",
    "ckpt = tf.train.Checkpoint(embedding=emb_var)\n",
    "ckpt.save(os.path.join(out_dir, \"embedding.ckpt\"))\n",
    "\n",
    "print(\"Embeddings guardados en:\", out_dir)\n",
    "print(\"Ejecuta en terminal: tensorboard --logdir logs/embeddings\")"
   ],
   "id": "e066aa836a79dff",
   "outputs": [
    {
     "name": "stdout",
     "output_type": "stream",
     "text": [
      "Metadata guardada en: logs/embeddings/metadata.tsv\n",
      "Embeddings guardados en: logs/embeddings\n",
      "Ejecuta en terminal: tensorboard --logdir logs/embeddings\n"
     ]
    }
   ],
   "execution_count": 47
  },
  {
   "metadata": {
    "ExecuteTime": {
     "end_time": "2025-09-30T17:03:07.167865Z",
     "start_time": "2025-09-30T17:03:07.161009Z"
    }
   },
   "cell_type": "code",
   "source": [
    "# Normalizar embeddings de clientes y productos (una vez)\n",
    "client_embeddings_norm = client_embeddings / np.linalg.norm(client_embeddings, axis=1, keepdims=True)\n",
    "prod_embeddings_norm = prod_embeddings / np.linalg.norm(prod_embeddings, axis=1, keepdims=True)\n",
    "\n",
    "\n",
    "def top_k_products_for_client(client_idx, k=3):\n",
    "    \"\"\"\n",
    "    Dado un cliente, devuelve los k productos más similares\n",
    "    que aún NO ha comprado.\n",
    "    \"\"\"\n",
    "    q = client_embeddings_norm[client_idx]  # (dim,)\n",
    "    sims = np.dot(prod_embeddings_norm, q)  # (num_productos,)\n",
    "\n",
    "    # Productos ya comprados por este cliente\n",
    "    cliente_id = client_profiles.iloc[client_idx][\"id_cliente\"]\n",
    "    comprados = set(compras_full.loc[compras_full[\"id_cliente\"] == cliente_id, \"id_producto\"].tolist())\n",
    "\n",
    "    # Ordenar por similitud (descendente)\n",
    "    topk_idx = sims.argsort()[::-1]\n",
    "\n",
    "    # Filtrar productos que ya compró\n",
    "    recomendados = []\n",
    "    for idx in topk_idx:\n",
    "        pid = productos_unicos.iloc[idx][\"id_producto\"]\n",
    "        if pid not in comprados:\n",
    "            recomendados.append((\n",
    "                idx,\n",
    "                sims[idx],\n",
    "                pid,\n",
    "                productos_unicos.iloc[idx][\"nombre_producto\"],\n",
    "                productos_unicos.iloc[idx][\"descripcion\"]\n",
    "            ))\n",
    "        if len(recomendados) >= k:\n",
    "            break\n",
    "    return recomendados\n",
    "\n",
    "\n",
    "# Ejemplo: recomendar productos al cliente 10 que no haya comprado\n",
    "cliente_id = client_profiles.iloc[19][\"id_cliente\"]\n",
    "print(f\"Cliente {cliente_id}: {client_profiles.iloc[19]['texto_cliente'][:120]}...\")\n",
    "print(\"Top-3 productos recomendados (no comprados):\")\n",
    "for idx, score, pid, nombre, desc in top_k_products_for_client(19, k=3):\n",
    "    print(f\" - id_producto={pid}, score={score:.4f}, nombre: {nombre}, desc: {desc[:80]}...\")\n"
   ],
   "id": "8792cd990607e10a",
   "outputs": [
    {
     "name": "stdout",
     "output_type": "stream",
     "text": [
      "Cliente 20: Mariana León Encarnación Paraguay Cámara de Acción 4K Laptop Gamer Pro Laptop Gamer Pro Cámara de Acción 4K Auriculares ...\n",
      "Top-3 productos recomendados (no comprados):\n",
      " - id_producto=5, score=0.3286, nombre: Zapatillas Urbanas Fit, desc: Calzado deportivo y casual diseñado para el confort diario. La parte superior de...\n",
      " - id_producto=2, score=0.2881, nombre: Smartphone Nexus 5G, desc: El Smartphone Nexus 5G redefine la experiencia móvil. Su pantalla OLED de 6.7 pu...\n",
      " - id_producto=7, score=0.2723, nombre: Set de Ollas Premium, desc: Juego de 5 ollas de acero inoxidable de alta calidad. Cada olla cuenta con una b...\n"
     ]
    }
   ],
   "execution_count": 48
  },
  {
   "metadata": {},
   "cell_type": "code",
   "outputs": [],
   "execution_count": null,
   "source": "# tensorboard --logdir logs/embeddings",
   "id": "2debed3fb0afe676"
  }
 ],
 "metadata": {
  "kernelspec": {
   "display_name": "Python 3",
   "language": "python",
   "name": "python3"
  },
  "language_info": {
   "codemirror_mode": {
    "name": "ipython",
    "version": 2
   },
   "file_extension": ".py",
   "mimetype": "text/x-python",
   "name": "python",
   "nbconvert_exporter": "python",
   "pygments_lexer": "ipython2",
   "version": "2.7.6"
  }
 },
 "nbformat": 4,
 "nbformat_minor": 5
}
